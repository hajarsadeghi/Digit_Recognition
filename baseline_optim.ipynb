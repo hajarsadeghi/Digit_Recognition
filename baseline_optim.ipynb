{
  "cells": [
    {
      "cell_type": "markdown",
      "metadata": {
        "id": "8aPS5Tu-zEHd"
      },
      "source": [
        "## Baseline"
      ]
    },
    {
      "cell_type": "markdown",
      "metadata": {
        "id": "cSM3CnRkCwxz"
      },
      "source": [
        "## Data Prep"
      ]
    },
    {
      "cell_type": "code",
      "execution_count": 1,
      "metadata": {
        "id": "CHBEh77cHepl"
      },
      "outputs": [],
      "source": [
        "#imports\n",
        "import torch\n",
        "import torchvision #PyTorch models, datasets, transofmrations etc\n",
        "import torchvision.transforms as transforms"
      ]
    },
    {
      "cell_type": "code",
      "execution_count": 2,
      "metadata": {
        "id": "ES7BwoLu1Heo",
        "colab": {
          "base_uri": "https://localhost:8080/",
          "height": 849,
          "referenced_widgets": [
            "9a3b1a6aafd1430b8f43916c70a0646b",
            "940b68f1ae584be5a8af2b5021e7457c",
            "eca15eebe9104873a6fcb95c2f188c63",
            "e8f3d3f3d7b44ba886b6c360f83a9915",
            "00a3a8bac6614766a87cd554f22f934b",
            "8ad155b72b554e7a8c87b6770f3aa834",
            "2a16d286caa748d1b2e14171e76e2978",
            "1a7a358f9cf24df6b0aec57b03187699",
            "3d450ae700374cf9950bfd8616ab7f50",
            "012496c8ea644baeb7b3c20947e9d3a2",
            "06826710fee341cd8d64ca6caefa5f64",
            "7c986ba28a9f4788a8e82a938864d051",
            "07701a76b6bb4fdf81575c24688fccc3",
            "392c4575f69e4ec38012327418431a9c",
            "91973ac058e64b179f407265989b45ad",
            "a2fa381dfbd9433ab5a92cb6a6f08490",
            "5bbe253953364862a6cc942b326e5814",
            "b78feaaffce045e5a7715bda44680c09",
            "733bb51f9d1a48f082a232fe1e063371",
            "2b0a95cd73914f83b7fdc4c19902bacf",
            "41d661fff7c74238a2c62d1999bba2f6",
            "f4c93ff207a0491f9bb00590680627ca",
            "f4e3c9687c664de5ad719ba08b49d985",
            "cf0df79ef1c34a9b8e964cc6627ee498",
            "dc824e8ebae24f40877ee971dfa2220b",
            "6e46a49fd8724d00abdc06ef1f3bea01",
            "b520120a88264db0b5118be86d2a45f4",
            "ef56deeda5354b7f8d4eabc8d5fd8dac",
            "b619bee8c71745e5ae2af4e8c7ca7e75",
            "d91dc25b451b4882b2fed29d9a2d3bf3",
            "f5f8a9e2d6a94d989eb9815ac6e9afc5",
            "7e7396eb5b6b437db06db4e4110a5f30",
            "bfd27c65c9ce4d69b3d045e1e4109e12",
            "295a4e930e4e45ef91aa48f066aaa8d1",
            "bf73e6f9420f448498af05a1e539fa3c",
            "aa7f66a159d244f0a49c7594632893b4",
            "a40b1a14d54d4998833fb4371f4d6926",
            "e191a0672c564acdbcf09324b26f4291",
            "fe4f5f232b0e49b1994546fa39eb749b",
            "6c68277bb69440fb879f23b69efc24ca",
            "2487a9c3e2a4483181beb530816c23b8",
            "92f2b46f3a9e43d6b22fd7fa6f8c13a5",
            "60d406938ad24e0998646619a81aee94",
            "1fd555a093a149c78be38bcf9839d912",
            "75074f7804e049c5bd08e1a583678453",
            "367c0fa44e3b4c6e80d1bc7f305fceea",
            "ae309a9b5386466d94f51a53cc6833aa",
            "772bafbfd7dd4e3aab69d98c4fe02a5a",
            "44de2d665f3d4d41b54eddc5678649f3",
            "87e3159776ff4e02a188ca0911b23287",
            "aebcb30ae1164c31ae26ced72faa8f6a",
            "2a07c43cb0fc496ebbd03aeff6a21008",
            "26f15012d7074391a67c8bb4c0b38bbc",
            "77862e609f7248baa1bcbfaa2c764972",
            "3bd0dd45d4de44eeacb25b16c97181b3",
            "f1c28c8c63584e9ba8ede82e72f1f566",
            "2536750e2d0f466bb73cf2229abc4983",
            "271f5a91b19344bda47f4b61e93420d4",
            "80089458258e47869f5d3bae5915445f",
            "efdefcddfa984b8ab06710a77cb7a338",
            "1eaac1b0e608417abeae70ccb1546576",
            "49ae281678d24819bab4fc259d347464",
            "d771a8afe1284519a6354cd237693c64",
            "7a83e515e3c342ab96faade48a871ca2",
            "6a86c5e2389b49bf979d6d487bdc1bf7",
            "32118c5d93de471a992569b94b6740be",
            "82210a6d8f95426db61e167d0079b8a5",
            "93b6354258a842b3b78931c99f263088",
            "a21990d495c14091a6d835da9f853866",
            "3e3a2698c9c24a17ad714c7d432feb47",
            "f608446a3f3443c981c4348072c0c73f",
            "6ade685efc154745a2a00bf63cd659a0",
            "0bce3c7f56af46a19e1b1896251d272f",
            "2f3ca1ad148844458aeddc11ab5b39b8",
            "d13e70df52c747a3b21ecf2586e851d9",
            "82adfb61664f4d2696646dee4e7b4b78",
            "a4c959cebc074c4b99e6cc7d9db379e3",
            "02a0a15ac0794d5985502c7c866eb8c5",
            "4854f084c3c74af88122fb199613b13f",
            "8f61dcfe2981452f962da320020d8a2e",
            "bb3ad3133b7f4f97ad0351cb49b91a2d",
            "a27ca42a1214403596966cbc050e0a53",
            "fffa15be33834caab5be7c73e5c04afb",
            "0fc014028053465b9eccaf167f5a509d",
            "e8c5e9539acc4996b49a5430ae3d6b98",
            "e07798803a8b4a12b5b1f5f19af293d6",
            "8d3db78dd38348779996f2e5ce998239",
            "8880c435aae9425ca47923f66ec20e4b"
          ]
        },
        "outputId": "d7c6b6ec-8b1a-49db-aade-f62094fc19c1"
      },
      "outputs": [
        {
          "output_type": "stream",
          "name": "stdout",
          "text": [
            "Downloading http://yann.lecun.com/exdb/mnist/train-images-idx3-ubyte.gz\n",
            "Downloading http://yann.lecun.com/exdb/mnist/train-images-idx3-ubyte.gz to ./MNIST_train/MNIST/raw/train-images-idx3-ubyte.gz\n"
          ]
        },
        {
          "output_type": "display_data",
          "data": {
            "text/plain": [
              "  0%|          | 0/9912422 [00:00<?, ?it/s]"
            ],
            "application/vnd.jupyter.widget-view+json": {
              "version_major": 2,
              "version_minor": 0,
              "model_id": "9a3b1a6aafd1430b8f43916c70a0646b"
            }
          },
          "metadata": {}
        },
        {
          "output_type": "stream",
          "name": "stdout",
          "text": [
            "Extracting ./MNIST_train/MNIST/raw/train-images-idx3-ubyte.gz to ./MNIST_train/MNIST/raw\n",
            "\n",
            "Downloading http://yann.lecun.com/exdb/mnist/train-labels-idx1-ubyte.gz\n",
            "Downloading http://yann.lecun.com/exdb/mnist/train-labels-idx1-ubyte.gz to ./MNIST_train/MNIST/raw/train-labels-idx1-ubyte.gz\n"
          ]
        },
        {
          "output_type": "display_data",
          "data": {
            "text/plain": [
              "  0%|          | 0/28881 [00:00<?, ?it/s]"
            ],
            "application/vnd.jupyter.widget-view+json": {
              "version_major": 2,
              "version_minor": 0,
              "model_id": "7c986ba28a9f4788a8e82a938864d051"
            }
          },
          "metadata": {}
        },
        {
          "output_type": "stream",
          "name": "stdout",
          "text": [
            "Extracting ./MNIST_train/MNIST/raw/train-labels-idx1-ubyte.gz to ./MNIST_train/MNIST/raw\n",
            "\n",
            "Downloading http://yann.lecun.com/exdb/mnist/t10k-images-idx3-ubyte.gz\n",
            "Downloading http://yann.lecun.com/exdb/mnist/t10k-images-idx3-ubyte.gz to ./MNIST_train/MNIST/raw/t10k-images-idx3-ubyte.gz\n"
          ]
        },
        {
          "output_type": "display_data",
          "data": {
            "text/plain": [
              "  0%|          | 0/1648877 [00:00<?, ?it/s]"
            ],
            "application/vnd.jupyter.widget-view+json": {
              "version_major": 2,
              "version_minor": 0,
              "model_id": "f4e3c9687c664de5ad719ba08b49d985"
            }
          },
          "metadata": {}
        },
        {
          "output_type": "stream",
          "name": "stdout",
          "text": [
            "Extracting ./MNIST_train/MNIST/raw/t10k-images-idx3-ubyte.gz to ./MNIST_train/MNIST/raw\n",
            "\n",
            "Downloading http://yann.lecun.com/exdb/mnist/t10k-labels-idx1-ubyte.gz\n",
            "Downloading http://yann.lecun.com/exdb/mnist/t10k-labels-idx1-ubyte.gz to ./MNIST_train/MNIST/raw/t10k-labels-idx1-ubyte.gz\n"
          ]
        },
        {
          "output_type": "display_data",
          "data": {
            "text/plain": [
              "  0%|          | 0/4542 [00:00<?, ?it/s]"
            ],
            "application/vnd.jupyter.widget-view+json": {
              "version_major": 2,
              "version_minor": 0,
              "model_id": "295a4e930e4e45ef91aa48f066aaa8d1"
            }
          },
          "metadata": {}
        },
        {
          "output_type": "stream",
          "name": "stdout",
          "text": [
            "Extracting ./MNIST_train/MNIST/raw/t10k-labels-idx1-ubyte.gz to ./MNIST_train/MNIST/raw\n",
            "\n",
            "Downloading http://yann.lecun.com/exdb/mnist/train-images-idx3-ubyte.gz\n",
            "Downloading http://yann.lecun.com/exdb/mnist/train-images-idx3-ubyte.gz to ./MNIST_test/MNIST/raw/train-images-idx3-ubyte.gz\n"
          ]
        },
        {
          "output_type": "display_data",
          "data": {
            "text/plain": [
              "  0%|          | 0/9912422 [00:00<?, ?it/s]"
            ],
            "application/vnd.jupyter.widget-view+json": {
              "version_major": 2,
              "version_minor": 0,
              "model_id": "75074f7804e049c5bd08e1a583678453"
            }
          },
          "metadata": {}
        },
        {
          "output_type": "stream",
          "name": "stdout",
          "text": [
            "Extracting ./MNIST_test/MNIST/raw/train-images-idx3-ubyte.gz to ./MNIST_test/MNIST/raw\n",
            "\n",
            "Downloading http://yann.lecun.com/exdb/mnist/train-labels-idx1-ubyte.gz\n",
            "Downloading http://yann.lecun.com/exdb/mnist/train-labels-idx1-ubyte.gz to ./MNIST_test/MNIST/raw/train-labels-idx1-ubyte.gz\n"
          ]
        },
        {
          "output_type": "display_data",
          "data": {
            "text/plain": [
              "  0%|          | 0/28881 [00:00<?, ?it/s]"
            ],
            "application/vnd.jupyter.widget-view+json": {
              "version_major": 2,
              "version_minor": 0,
              "model_id": "f1c28c8c63584e9ba8ede82e72f1f566"
            }
          },
          "metadata": {}
        },
        {
          "output_type": "stream",
          "name": "stdout",
          "text": [
            "Extracting ./MNIST_test/MNIST/raw/train-labels-idx1-ubyte.gz to ./MNIST_test/MNIST/raw\n",
            "\n",
            "Downloading http://yann.lecun.com/exdb/mnist/t10k-images-idx3-ubyte.gz\n",
            "Downloading http://yann.lecun.com/exdb/mnist/t10k-images-idx3-ubyte.gz to ./MNIST_test/MNIST/raw/t10k-images-idx3-ubyte.gz\n"
          ]
        },
        {
          "output_type": "display_data",
          "data": {
            "text/plain": [
              "  0%|          | 0/1648877 [00:00<?, ?it/s]"
            ],
            "application/vnd.jupyter.widget-view+json": {
              "version_major": 2,
              "version_minor": 0,
              "model_id": "82210a6d8f95426db61e167d0079b8a5"
            }
          },
          "metadata": {}
        },
        {
          "output_type": "stream",
          "name": "stdout",
          "text": [
            "Extracting ./MNIST_test/MNIST/raw/t10k-images-idx3-ubyte.gz to ./MNIST_test/MNIST/raw\n",
            "\n",
            "Downloading http://yann.lecun.com/exdb/mnist/t10k-labels-idx1-ubyte.gz\n",
            "Downloading http://yann.lecun.com/exdb/mnist/t10k-labels-idx1-ubyte.gz to ./MNIST_test/MNIST/raw/t10k-labels-idx1-ubyte.gz\n"
          ]
        },
        {
          "output_type": "display_data",
          "data": {
            "text/plain": [
              "  0%|          | 0/4542 [00:00<?, ?it/s]"
            ],
            "application/vnd.jupyter.widget-view+json": {
              "version_major": 2,
              "version_minor": 0,
              "model_id": "02a0a15ac0794d5985502c7c866eb8c5"
            }
          },
          "metadata": {}
        },
        {
          "output_type": "stream",
          "name": "stdout",
          "text": [
            "Extracting ./MNIST_test/MNIST/raw/t10k-labels-idx1-ubyte.gz to ./MNIST_test/MNIST/raw\n",
            "\n"
          ]
        }
      ],
      "source": [
        "#Download Train And Test Data\n",
        "train_data = torchvision.datasets.MNIST(root = \"./MNIST_train\", download = True, train = True, transform = transforms.ToTensor())\n",
        "test_data = torchvision.datasets.MNIST(root = \"./MNIST_test\", download = True, train = False, transform = transforms.ToTensor())"
      ]
    },
    {
      "cell_type": "code",
      "execution_count": 5,
      "metadata": {
        "id": "c0xX6BzrSQB-"
      },
      "outputs": [],
      "source": [
        "#Startified Split Of Train Data Into Training and Validataion Sets\n",
        "\n",
        "#The following thread was referred to for writing the code in this cell\n",
        "#https://discuss.pytorch.org/t/how-to-do-a-stratified-split/62290\n",
        "\n",
        "from sklearn.model_selection import train_test_split\n",
        "import numpy as np\n",
        "from torch.utils.data import SubsetRandomSampler, DataLoader\n",
        "\n",
        "#Get The Train Data Targets Array\n",
        "labels = train_data.targets\n",
        "#Get The Splitting Indices - use 80-20 split again.\n",
        "train_ind, val_ind = train_test_split(np.arange(len(labels)), test_size = 0.2, shuffle = True, stratify = labels)\n",
        "\n",
        "tr_sampler = SubsetRandomSampler(train_ind)\n",
        "val_sampler = SubsetRandomSampler(val_ind)\n",
        "\n",
        "#Define Batch Size For Mini Batch Gradient Descent\n",
        "batch_size = 64\n",
        "\n",
        "#Create Data Loaders For Training And Validation Set\n",
        "train_loader = DataLoader(train_data, batch_size=batch_size, sampler=tr_sampler)\n",
        "valid_loader = torch.utils.data.DataLoader(train_data, batch_size=batch_size, sampler=val_sampler)\n"
      ]
    },
    {
      "cell_type": "code",
      "execution_count": 6,
      "metadata": {
        "id": "mvR4h1hbTeak"
      },
      "outputs": [],
      "source": [
        "#Create Data Loaders For Test Set\n",
        "test_loader = DataLoader(test_data, batch_size=batch_size)"
      ]
    },
    {
      "cell_type": "markdown",
      "metadata": {
        "id": "yKoZDQ1EC1e_"
      },
      "source": [
        "## Modelling"
      ]
    },
    {
      "cell_type": "code",
      "execution_count": 9,
      "metadata": {
        "id": "i8oJmPTcLioX"
      },
      "outputs": [],
      "source": [
        "#Define Model Architecture\n",
        "import torch.nn as nn\n",
        "\n",
        "# The following sources were referred to for writing the code in the below cells\n",
        "# https://androidkt.com/initialize-weight-bias-pytorch/\n",
        "\n",
        "# https://wandb.ai/authors/ayusht/reports/Implementing-Dropout-in-PyTorch-With-Example--VmlldzoxNTgwOTE\n",
        "\n",
        "class BaselineCnn(nn.Module):\n",
        "  def __init__(self):\n",
        "    super(BaselineCnn, self).__init__()\n",
        "\n",
        "    #Define Layers\n",
        "    self.conv1 = nn.Conv2d(1,12,8)\n",
        "    self.conv2 = nn.Conv2d(12,12,4)\n",
        "    self.lin1 = nn.Linear(3888,30)\n",
        "    self.lin2 = nn.Linear(30, 10)\n",
        "\n",
        "    nn.init.xavier_uniform(self.conv1.weight)\n",
        "    nn.init.xavier_uniform(self.conv2.weight)\n",
        "    nn.init.xavier_uniform(self.lin1.weight)\n",
        "    nn.init.xavier_uniform(self.lin2.weight)\n",
        "\n",
        "    #Add Convolutional Layers\n",
        "    self.cnn_layers = nn.Sequential(\n",
        "        self.conv1,\n",
        "        nn.ReLU(),\n",
        "        self.conv2,\n",
        "        nn.ReLU()\n",
        "    )\n",
        "\n",
        "    #Add Fully Connected Layers\n",
        "    self.fc_layers = nn.Sequential(\n",
        "        self.lin1,\n",
        "        nn.ReLU(),\n",
        "        self.lin2\n",
        "    )\n",
        "\n",
        "  \n",
        "\n",
        "  #Define Forward Path\n",
        "  def forward(self, x):\n",
        "    x = self.cnn_layers(x)\n",
        "    # print(x.shape)\n",
        "    x = x.view(x.size(0), -1)\n",
        "    # print(x.shape)\n",
        "    x = self.fc_layers(x)\n",
        "    # print(x.shape)\n",
        "\n",
        "    return x\n",
        "\n"
      ]
    },
    {
      "cell_type": "markdown",
      "source": [
        "# RMSProp"
      ],
      "metadata": {
        "id": "9oEG4nRcKP48"
      }
    },
    {
      "cell_type": "code",
      "execution_count": 16,
      "metadata": {
        "colab": {
          "base_uri": "https://localhost:8080/"
        },
        "id": "G0_puE0908gT",
        "outputId": "e28ca0c5-6f8b-4d54-f7aa-4f0c68259802"
      },
      "outputs": [
        {
          "output_type": "stream",
          "name": "stderr",
          "text": [
            "/usr/local/lib/python3.7/dist-packages/ipykernel_launcher.py:16: UserWarning: nn.init.xavier_uniform is now deprecated in favor of nn.init.xavier_uniform_.\n",
            "  app.launch_new_instance()\n",
            "/usr/local/lib/python3.7/dist-packages/ipykernel_launcher.py:17: UserWarning: nn.init.xavier_uniform is now deprecated in favor of nn.init.xavier_uniform_.\n",
            "/usr/local/lib/python3.7/dist-packages/ipykernel_launcher.py:18: UserWarning: nn.init.xavier_uniform is now deprecated in favor of nn.init.xavier_uniform_.\n",
            "/usr/local/lib/python3.7/dist-packages/ipykernel_launcher.py:19: UserWarning: nn.init.xavier_uniform is now deprecated in favor of nn.init.xavier_uniform_.\n"
          ]
        }
      ],
      "source": [
        "model = BaselineCnn()"
      ]
    },
    {
      "cell_type": "code",
      "execution_count": 17,
      "metadata": {
        "id": "zwWxDsvxTegM"
      },
      "outputs": [],
      "source": [
        "#Create Function To Evaluate The Trained Model when given a dataloader and a model\n",
        "def evall(dl, model):  \n",
        "    tot = 0\n",
        "    corr = 0\n",
        "    # for data in dataloader:\n",
        "    for batch in dl:\n",
        "        ip, op = batch\n",
        "        preds = model(ip)\n",
        "        #Get The Class With The Maximum Output Value\n",
        "        v, pred = torch.max(preds.data, 1)\n",
        "        #Increment The Number Of Samples Tested Against\n",
        "        tot += op.size(0)\n",
        "        #Increment The Number Of Correctly Classified Samples\n",
        "        corr += (pred == op).sum().item()\n",
        "\n",
        "    acc = 100 * corr / tot\n",
        "    print('Accuracy:', acc, '%')\n",
        "    return acc"
      ]
    },
    {
      "cell_type": "markdown",
      "metadata": {
        "id": "Oyw7xkgUEOJ3"
      },
      "source": [
        "## Training"
      ]
    },
    {
      "cell_type": "code",
      "execution_count": 20,
      "metadata": {
        "id": "fkb9-Ck3BWMK"
      },
      "outputs": [],
      "source": [
        "#Define The Loss Function, Training Optimizer and The Learning Rate Scheduler\n",
        "\n",
        "# https://discuss.pytorch.org/t/performing-mini-batch-gradient-descent-or-stochastic-gradient-descent-on-a-mini-batch/21235/5\n",
        "# help(optim.SGD)\n",
        "\n",
        "# https://stackoverflow.com/questions/60050586/pytorch-change-the-learning-rate-based-on-number-of-epochs\n",
        "\n",
        "import torch.optim as optim\n",
        "\n",
        "#Define Start Leanring Rate and Momentum\n",
        "\n",
        "# start_lr = 0.05\n",
        "start_lr = 0.0001\n",
        "momentum = 0.9\n",
        "\n",
        "loss_function = nn.CrossEntropyLoss()\n",
        "opti = optim.RMSprop(model.parameters(), lr = start_lr, momentum = momentum)\n",
        "\n",
        "#create the learning rate scheduler to change lr to 10% of lr every 10 epochs\n",
        "lrscheduler = optim.lr_scheduler.StepLR(opti, step_size=10, gamma = 0.1)"
      ]
    },
    {
      "cell_type": "code",
      "execution_count": 21,
      "metadata": {
        "colab": {
          "base_uri": "https://localhost:8080/"
        },
        "id": "wb7Z5drEGafL",
        "outputId": "38366155-36a1-4154-c790-a723d9a8cb9b"
      },
      "outputs": [
        {
          "output_type": "stream",
          "name": "stdout",
          "text": [
            "cuda:0\n"
          ]
        }
      ],
      "source": [
        "#Train on GPU\n",
        "dev = \"cuda:0\" if torch.cuda.is_available() else \"cpu\"\n",
        "td = torch.device(dev)\n",
        "print(td)"
      ]
    },
    {
      "cell_type": "code",
      "source": [
        "tbs = int(60000*0.8)\n",
        "vbs = int(60000*0.2)\n",
        "tdl = DataLoader(train_data, batch_size=tbs, sampler=tr_sampler)\n",
        "vdl = torch.utils.data.DataLoader(train_data, batch_size=vbs, sampler=val_sampler)\n",
        "\n",
        "\n",
        "epoch_tr_losses = []\n",
        "epoch_val_losses = []\n",
        "epoch_val_accs = []\n",
        "epoch_tr_accs = []\n",
        "max_epochs = 20\n",
        "\n",
        "#Define Early Stopping Patience - here 2 epochs\n",
        "es_patience_count = 3\n",
        "es_count = 0\n",
        "\n",
        "\n",
        "for epoch in range(max_epochs):\n",
        "\n",
        "    # for ind, data in enumerate(train_loader):\n",
        "    for data in train_loader:\n",
        "\n",
        "        ip, op = data\n",
        "\n",
        "        opti.zero_grad()\n",
        "\n",
        "        preds = model(ip)\n",
        "\n",
        "        loss = loss_function(preds, op)\n",
        "        loss.backward()\n",
        "        opti.step()\n",
        "        \n",
        "    lrscheduler.step()\n",
        "\n",
        "    for td in tdl:\n",
        "      tr_ip, tr_op = td\n",
        "      tr_preds = model(tr_ip)\n",
        "      lt = loss_function(tr_preds, tr_op)\n",
        "      epoch_tr_losses.append(lt.item())\n",
        "\n",
        "    for vd in vdl:\n",
        "      val_ip, val_op = vd\n",
        "      val_preds = model(val_ip)\n",
        "      lt = loss_function(val_preds, val_op)\n",
        "      epoch_val_losses.append(lt.item())\n",
        "        \n",
        "    if epoch % 10 == 0:\n",
        "      print(f\"Epoch Number: {epoch} lr: {opti.param_groups[0]['lr']}\")\n",
        "\n",
        "    val_acc = evall(valid_loader, model)\n",
        "    tr_acc = evall(train_loader, model)\n",
        "\n",
        "    epoch_val_accs.append(val_acc)\n",
        "    epoch_tr_accs.append(tr_acc)\n",
        "\n",
        "    #Early Stopping based on vaidation acc\n",
        "\n",
        "    if epoch == 0:\n",
        "      best_loss = epoch_val_losses[0]\n",
        "    print(epoch_val_losses[epoch] , best_loss)\n",
        "\n",
        "    if epoch_val_losses[epoch] < best_loss:\n",
        "      best_loss = epoch_val_losses[epoch]\n",
        "      #save current model\n",
        "      torch.save(model, 'best_model.pth')\n",
        "    else:\n",
        "      es_count += 1\n",
        "\n",
        "    print(f\"Epoch Number: {epoch}/{max_epochs}, Validation Accuracy: {val_acc}, Train Accuracy: {tr_acc}, Training Loss: {epoch_tr_losses[epoch]}, Validation Loss: {epoch_val_losses[epoch]}, Learning Rate: {opti.param_groups[0]['lr']}\")\n",
        "\n",
        "    #Implement Early Stopping\n",
        "    if es_count > es_patience_count:\n",
        "      print(f'Early Stopping Implemented at epoch {epoch}')\n",
        "      break"
      ],
      "metadata": {
        "colab": {
          "base_uri": "https://localhost:8080/"
        },
        "id": "53k81Ij4KYgR",
        "outputId": "27e30d4a-ca63-40cf-9311-7c7f9f364759"
      },
      "execution_count": 22,
      "outputs": [
        {
          "output_type": "stream",
          "name": "stdout",
          "text": [
            "Epoch Number: 0 lr: 0.0001\n",
            "Accuracy: 97.8 %\n",
            "Accuracy: 98.05416666666666 %\n",
            "0.0712146982550621 0.0712146982550621\n",
            "Epoch Number: 0/20, Validation Accuracy: 97.8, Train Accuracy: 98.05416666666666, Training Loss: 0.06227435916662216, Validation Loss: 0.0712146982550621, Learning Rate: 0.0001\n",
            "Accuracy: 97.95 %\n",
            "Accuracy: 98.7375 %\n",
            "0.061713945120573044 0.0712146982550621\n",
            "Epoch Number: 1/20, Validation Accuracy: 97.95, Train Accuracy: 98.7375, Training Loss: 0.04173460230231285, Validation Loss: 0.061713945120573044, Learning Rate: 0.0001\n",
            "Accuracy: 98.38333333333334 %\n",
            "Accuracy: 99.05 %\n",
            "0.05227796360850334 0.061713945120573044\n",
            "Epoch Number: 2/20, Validation Accuracy: 98.38333333333334, Train Accuracy: 99.05, Training Loss: 0.031498562544584274, Validation Loss: 0.05227796360850334, Learning Rate: 0.0001\n",
            "Accuracy: 98.25833333333334 %\n",
            "Accuracy: 99.22916666666667 %\n",
            "0.05110807716846466 0.05227796360850334\n",
            "Epoch Number: 3/20, Validation Accuracy: 98.25833333333334, Train Accuracy: 99.22916666666667, Training Loss: 0.024532508105039597, Validation Loss: 0.05110807716846466, Learning Rate: 0.0001\n",
            "Accuracy: 98.4 %\n",
            "Accuracy: 99.18125 %\n",
            "0.05365831404924393 0.05110807716846466\n",
            "Epoch Number: 4/20, Validation Accuracy: 98.4, Train Accuracy: 99.18125, Training Loss: 0.024055689573287964, Validation Loss: 0.05365831404924393, Learning Rate: 0.0001\n",
            "Accuracy: 98.74166666666666 %\n",
            "Accuracy: 99.70416666666667 %\n",
            "0.049002569168806076 0.05110807716846466\n",
            "Epoch Number: 5/20, Validation Accuracy: 98.74166666666666, Train Accuracy: 99.70416666666667, Training Loss: 0.009898016229271889, Validation Loss: 0.049002569168806076, Learning Rate: 0.0001\n",
            "Accuracy: 98.55 %\n",
            "Accuracy: 99.55 %\n",
            "0.052328601479530334 0.049002569168806076\n",
            "Epoch Number: 6/20, Validation Accuracy: 98.55, Train Accuracy: 99.55, Training Loss: 0.013175522908568382, Validation Loss: 0.052328601479530334, Learning Rate: 0.0001\n",
            "Accuracy: 98.65 %\n",
            "Accuracy: 99.6875 %\n",
            "0.05231647193431854 0.049002569168806076\n",
            "Epoch Number: 7/20, Validation Accuracy: 98.65, Train Accuracy: 99.6875, Training Loss: 0.010202632285654545, Validation Loss: 0.05231647193431854, Learning Rate: 0.0001\n",
            "Early Stopping Implemented at epoch 7\n"
          ]
        }
      ]
    },
    {
      "cell_type": "code",
      "source": [
        "#Plot Learning Curves\n",
        "import matplotlib.pyplot as plt\n",
        "plt.plot(epoch_tr_losses, label = 'Training Loss')\n",
        "plt.plot(epoch_val_losses, label = 'Validation Loss')\n",
        "plt.title('Learning Curve')\n",
        "plt.xlabel('Epoch')\n",
        "plt.ylabel('Loss')\n",
        "plt.legend()\n",
        "plt.show()"
      ],
      "metadata": {
        "id": "A3lj3tFtW0AO",
        "colab": {
          "base_uri": "https://localhost:8080/",
          "height": 295
        },
        "outputId": "5d6b2f58-49a4-4f3e-d5ff-314ee7da84c2"
      },
      "execution_count": 23,
      "outputs": [
        {
          "output_type": "display_data",
          "data": {
            "text/plain": [
              "<Figure size 432x288 with 1 Axes>"
            ],
            "image/png": "[encoded data removed]"
          },
          "metadata": {
            "needs_background": "light"
          }
        }
      ]
    },
    {
      "cell_type": "code",
      "source": [
        "evall(test_loader, model)"
      ],
      "metadata": {
        "id": "p5jjvYkzDqwn",
        "colab": {
          "base_uri": "https://localhost:8080/"
        },
        "outputId": "eeef93c8-8827-4a1a-b222-17410116c300"
      },
      "execution_count": 24,
      "outputs": [
        {
          "output_type": "stream",
          "name": "stdout",
          "text": [
            "Accuracy: 98.69 %\n"
          ]
        },
        {
          "output_type": "execute_result",
          "data": {
            "text/plain": [
              "98.69"
            ]
          },
          "metadata": {},
          "execution_count": 24
        }
      ]
    },
    {
      "cell_type": "code",
      "source": [
        "from sklearn.metrics import confusion_matrix\n",
        "from sklearn.metrics import ConfusionMatrixDisplay\n",
        "import matplotlib.pyplot as plt\n",
        "\n",
        "def cal_confusion_matrix(dl, model):\n",
        "    preds = torch.empty((0))\n",
        "    labels = torch.empty((0))\n",
        "    for batch in dl:\n",
        "        ip, op = batch\n",
        "        pred = model(ip)\n",
        "        v, pred = torch.max(pred.data, 1)\n",
        "        preds = torch.cat((preds, pred))\n",
        "        labels = torch.cat((labels, op))\n",
        "    \n",
        "    ConfusionMatrixDisplay.from_predictions(labels, preds)\n",
        "    plt.show()\n",
        "\n",
        "\n"
      ],
      "metadata": {
        "id": "PMHw9nph9CAj"
      },
      "execution_count": 26,
      "outputs": []
    },
    {
      "cell_type": "code",
      "source": [
        "cal_confusion_matrix(test_loader, model)\n"
      ],
      "metadata": {
        "id": "JI0Fje9t-r8U",
        "colab": {
          "base_uri": "https://localhost:8080/",
          "height": 279
        },
        "outputId": "930da2b2-26f8-432e-9405-bec46c66710b"
      },
      "execution_count": 27,
      "outputs": [
        {
          "output_type": "display_data",
          "data": {
            "text/plain": [
              "<Figure size 432x288 with 2 Axes>"
            ],
            "image/png": "[encoded data removed]"
          },
          "metadata": {
            "needs_background": "light"
          }
        }
      ]
    },
    {
      "cell_type": "markdown",
      "source": [
        "# ADAM"
      ],
      "metadata": {
        "id": "giP_coL4Ko9Z"
      }
    },
    {
      "cell_type": "code",
      "execution_count": 28,
      "metadata": {
        "colab": {
          "base_uri": "https://localhost:8080/"
        },
        "outputId": "9cb58b5a-50ee-4e45-dffe-bb864224a488",
        "id": "ckba4cupKo9a"
      },
      "outputs": [
        {
          "output_type": "stream",
          "name": "stderr",
          "text": [
            "/usr/local/lib/python3.7/dist-packages/ipykernel_launcher.py:16: UserWarning: nn.init.xavier_uniform is now deprecated in favor of nn.init.xavier_uniform_.\n",
            "  app.launch_new_instance()\n",
            "/usr/local/lib/python3.7/dist-packages/ipykernel_launcher.py:17: UserWarning: nn.init.xavier_uniform is now deprecated in favor of nn.init.xavier_uniform_.\n",
            "/usr/local/lib/python3.7/dist-packages/ipykernel_launcher.py:18: UserWarning: nn.init.xavier_uniform is now deprecated in favor of nn.init.xavier_uniform_.\n",
            "/usr/local/lib/python3.7/dist-packages/ipykernel_launcher.py:19: UserWarning: nn.init.xavier_uniform is now deprecated in favor of nn.init.xavier_uniform_.\n"
          ]
        }
      ],
      "source": [
        "model = BaselineCnn()"
      ]
    },
    {
      "cell_type": "code",
      "execution_count": 29,
      "metadata": {
        "id": "q_0DDuhyKo9a"
      },
      "outputs": [],
      "source": [
        "#Create Function To Evaluate The Trained Model when given a dataloader and a model\n",
        "def evall(dl, model):  \n",
        "    tot = 0\n",
        "    corr = 0\n",
        "    # for data in dataloader:\n",
        "    for batch in dl:\n",
        "        ip, op = batch\n",
        "        preds = model(ip)\n",
        "        #Get The Class With The Maximum Output Value\n",
        "        v, pred = torch.max(preds.data, 1)\n",
        "        #Increment The Number Of Samples Tested Against\n",
        "        tot += op.size(0)\n",
        "        #Increment The Number Of Correctly Classified Samples\n",
        "        corr += (pred == op).sum().item()\n",
        "\n",
        "    acc = 100 * corr / tot\n",
        "    print('Accuracy:', acc, '%')\n",
        "    return acc"
      ]
    },
    {
      "cell_type": "markdown",
      "metadata": {
        "id": "oNRbgYJoKo9a"
      },
      "source": [
        "## Training"
      ]
    },
    {
      "cell_type": "code",
      "execution_count": 32,
      "metadata": {
        "id": "xKbByzbMKo9a"
      },
      "outputs": [],
      "source": [
        "#Define The Loss Function, Training Optimizer and The Learning Rate Scheduler\n",
        "\n",
        "# The following sources were referred to for writing the code in the below cells\n",
        "# https://discuss.pytorch.org/t/performing-mini-batch-gradient-descent-or-stochastic-gradient-descent-on-a-mini-batch/21235/5\n",
        "# help(optim.SGD)\n",
        "\n",
        "# https://stackoverflow.com/questions/60050586/pytorch-change-the-learning-rate-based-on-number-of-epochs\n",
        "\n",
        "import torch.optim as optim\n",
        "\n",
        "#Define Start Leanring Rate and Momentum\n",
        "\n",
        "# start_lr = 0.05\n",
        "start_lr = 0.0001\n",
        "momentum = 0.9\n",
        "\n",
        "#Already Applies SoftMax???\n",
        "loss_function = nn.CrossEntropyLoss()\n",
        "opti = optim.Adam(model.parameters(), lr = start_lr)\n",
        "\n",
        "#create the learning rate scheduler to change lr to 10% of lr every 10 epochs\n",
        "lrscheduler = optim.lr_scheduler.StepLR(opti, step_size=10, gamma = 0.1)"
      ]
    },
    {
      "cell_type": "code",
      "execution_count": 33,
      "metadata": {
        "colab": {
          "base_uri": "https://localhost:8080/"
        },
        "outputId": "e6bd2554-8286-46a1-9f5a-f018504248c4",
        "id": "B4LGbBH-Ko9a"
      },
      "outputs": [
        {
          "output_type": "stream",
          "name": "stdout",
          "text": [
            "cuda:0\n"
          ]
        }
      ],
      "source": [
        "#Train on GPU\n",
        "dev = \"cuda:0\" if torch.cuda.is_available() else \"cpu\"\n",
        "td = torch.device(dev)\n",
        "print(td)"
      ]
    },
    {
      "cell_type": "code",
      "source": [
        "tbs = int(60000*0.8)\n",
        "vbs = int(60000*0.2)\n",
        "tdl = DataLoader(train_data, batch_size=tbs, sampler=tr_sampler)\n",
        "vdl = torch.utils.data.DataLoader(train_data, batch_size=vbs, sampler=val_sampler)\n",
        "\n",
        "\n",
        "epoch_tr_losses = []\n",
        "epoch_val_losses = []\n",
        "epoch_val_accs = []\n",
        "epoch_tr_accs = []\n",
        "max_epochs = 20\n",
        "\n",
        "#Define Early Stopping Patience - here 2 epochs\n",
        "es_patience_count = 3\n",
        "es_count = 0\n",
        "\n",
        "\n",
        "for epoch in range(max_epochs):\n",
        "\n",
        "    # for ind, data in enumerate(train_loader):\n",
        "    for data in train_loader:\n",
        "\n",
        "        ip, op = data\n",
        "\n",
        "        opti.zero_grad()\n",
        "\n",
        "        preds = model(ip)\n",
        "\n",
        "        loss = loss_function(preds, op)\n",
        "        loss.backward()\n",
        "        opti.step()\n",
        "        \n",
        "    lrscheduler.step()\n",
        "\n",
        "    for td in tdl:\n",
        "      tr_ip, tr_op = td\n",
        "      tr_preds = model(tr_ip)\n",
        "      lt = loss_function(tr_preds, tr_op)\n",
        "      epoch_tr_losses.append(lt.item())\n",
        "\n",
        "    for vd in vdl:\n",
        "      val_ip, val_op = vd\n",
        "      val_preds = model(val_ip)\n",
        "      lt = loss_function(val_preds, val_op)\n",
        "      epoch_val_losses.append(lt.item())\n",
        "        \n",
        "    if epoch % 10 == 0:\n",
        "      print(f\"Epoch Number: {epoch} lr: {opti.param_groups[0]['lr']}\")\n",
        "\n",
        "    val_acc = evall(valid_loader, model)\n",
        "    tr_acc = evall(train_loader, model)\n",
        "\n",
        "    epoch_val_accs.append(val_acc)\n",
        "    epoch_tr_accs.append(tr_acc)\n",
        "\n",
        "    #Early Stopping based on vaidation acc\n",
        "\n",
        "    if epoch == 0:\n",
        "      best_loss = epoch_val_losses[0]\n",
        "    print(epoch_val_losses[epoch] , best_loss)\n",
        "\n",
        "    if epoch_val_losses[epoch] < best_loss:\n",
        "      best_loss = epoch_val_losses[epoch]\n",
        "      #save current model\n",
        "      torch.save(model, 'best_model.pth')\n",
        "    else:\n",
        "      es_count += 1\n",
        "\n",
        "    print(f\"Epoch Number: {epoch}/{max_epochs}, Validation Accuracy: {val_acc}, Train Accuracy: {tr_acc}, Training Loss: {epoch_tr_losses[epoch]}, Validation Loss: {epoch_val_losses[epoch]}, Learning Rate: {opti.param_groups[0]['lr']}\")\n",
        "\n",
        "    # \"Implement Early Stopping\"\n",
        "    if es_count > es_patience_count:\n",
        "      print(f'Early Stopping Implemented at epoch {epoch}')\n",
        "      break"
      ],
      "metadata": {
        "colab": {
          "base_uri": "https://localhost:8080/"
        },
        "outputId": "eacf98d8-2ecf-4c19-b68e-cb71c24f5587",
        "id": "ecQGvM8HKo9a"
      },
      "execution_count": 34,
      "outputs": [
        {
          "output_type": "stream",
          "name": "stdout",
          "text": [
            "Epoch Number: 0 lr: 0.0001\n",
            "Accuracy: 91.69166666666666 %\n",
            "Accuracy: 92.16041666666666 %\n",
            "0.2831994891166687 0.2831994891166687\n",
            "Epoch Number: 0/20, Validation Accuracy: 91.69166666666666, Train Accuracy: 92.16041666666666, Training Loss: 0.2782903015613556, Validation Loss: 0.2831994891166687, Learning Rate: 0.0001\n",
            "Accuracy: 94.45 %\n",
            "Accuracy: 94.62291666666667 %\n",
            "0.18577302992343903 0.2831994891166687\n",
            "Epoch Number: 1/20, Validation Accuracy: 94.45, Train Accuracy: 94.62291666666667, Training Loss: 0.183745875954628, Validation Loss: 0.18577302992343903, Learning Rate: 0.0001\n",
            "Accuracy: 95.875 %\n",
            "Accuracy: 96.16458333333334 %\n",
            "0.13899672031402588 0.18577302992343903\n",
            "Epoch Number: 2/20, Validation Accuracy: 95.875, Train Accuracy: 96.16458333333334, Training Loss: 0.13524194061756134, Validation Loss: 0.13899672031402588, Learning Rate: 0.0001\n",
            "Accuracy: 96.43333333333334 %\n",
            "Accuracy: 96.67083333333333 %\n",
            "0.1217149943113327 0.13899672031402588\n",
            "Epoch Number: 3/20, Validation Accuracy: 96.43333333333334, Train Accuracy: 96.67083333333333, Training Loss: 0.11445008218288422, Validation Loss: 0.1217149943113327, Learning Rate: 0.0001\n",
            "Accuracy: 97.13333333333334 %\n",
            "Accuracy: 97.48958333333333 %\n",
            "0.09520537406206131 0.1217149943113327\n",
            "Epoch Number: 4/20, Validation Accuracy: 97.13333333333334, Train Accuracy: 97.48958333333333, Training Loss: 0.0900496244430542, Validation Loss: 0.09520537406206131, Learning Rate: 0.0001\n",
            "Accuracy: 97.425 %\n",
            "Accuracy: 97.81875 %\n",
            "0.08622977882623672 0.09520537406206131\n",
            "Epoch Number: 5/20, Validation Accuracy: 97.425, Train Accuracy: 97.81875, Training Loss: 0.07874000817537308, Validation Loss: 0.08622977882623672, Learning Rate: 0.0001\n",
            "Accuracy: 97.51666666666667 %\n",
            "Accuracy: 97.94375 %\n",
            "0.08160870522260666 0.08622977882623672\n",
            "Epoch Number: 6/20, Validation Accuracy: 97.51666666666667, Train Accuracy: 97.94375, Training Loss: 0.07283588498830795, Validation Loss: 0.08160870522260666, Learning Rate: 0.0001\n",
            "Accuracy: 97.75833333333334 %\n",
            "Accuracy: 98.26041666666667 %\n",
            "0.0738164633512497 0.08160870522260666\n",
            "Epoch Number: 7/20, Validation Accuracy: 97.75833333333334, Train Accuracy: 98.26041666666667, Training Loss: 0.06264360249042511, Validation Loss: 0.0738164633512497, Learning Rate: 0.0001\n",
            "Accuracy: 97.93333333333334 %\n",
            "Accuracy: 98.43125 %\n",
            "0.06772147864103317 0.0738164633512497\n",
            "Epoch Number: 8/20, Validation Accuracy: 97.93333333333334, Train Accuracy: 98.43125, Training Loss: 0.056591879576444626, Validation Loss: 0.06772147864103317, Learning Rate: 0.0001\n",
            "Accuracy: 97.90833333333333 %\n",
            "Accuracy: 98.43958333333333 %\n",
            "0.06859805434942245 0.06772147864103317\n",
            "Epoch Number: 9/20, Validation Accuracy: 97.90833333333333, Train Accuracy: 98.43958333333333, Training Loss: 0.054431091994047165, Validation Loss: 0.06859805434942245, Learning Rate: 1e-05\n",
            "Epoch Number: 10 lr: 1e-05\n",
            "Accuracy: 98.10833333333333 %\n",
            "Accuracy: 98.6625 %\n",
            "0.06277519464492798 0.06772147864103317\n",
            "Epoch Number: 10/20, Validation Accuracy: 98.10833333333333, Train Accuracy: 98.6625, Training Loss: 0.04909950867295265, Validation Loss: 0.06277519464492798, Learning Rate: 1e-05\n",
            "Accuracy: 98.10833333333333 %\n",
            "Accuracy: 98.68125 %\n",
            "0.0622703917324543 0.06277519464492798\n",
            "Epoch Number: 11/20, Validation Accuracy: 98.10833333333333, Train Accuracy: 98.68125, Training Loss: 0.04829084873199463, Validation Loss: 0.0622703917324543, Learning Rate: 1e-05\n",
            "Accuracy: 98.14166666666667 %\n",
            "Accuracy: 98.70625 %\n",
            "0.06094571575522423 0.0622703917324543\n",
            "Epoch Number: 12/20, Validation Accuracy: 98.14166666666667, Train Accuracy: 98.70625, Training Loss: 0.04757559299468994, Validation Loss: 0.06094571575522423, Learning Rate: 1e-05\n",
            "Accuracy: 98.175 %\n",
            "Accuracy: 98.72083333333333 %\n",
            "0.06025852635502815 0.06094571575522423\n",
            "Epoch Number: 13/20, Validation Accuracy: 98.175, Train Accuracy: 98.72083333333333, Training Loss: 0.047043051570653915, Validation Loss: 0.06025852635502815, Learning Rate: 1e-05\n",
            "Accuracy: 98.15833333333333 %\n",
            "Accuracy: 98.70833333333333 %\n",
            "0.060250092297792435 0.06025852635502815\n",
            "Epoch Number: 14/20, Validation Accuracy: 98.15833333333333, Train Accuracy: 98.70833333333333, Training Loss: 0.04651765897870064, Validation Loss: 0.060250092297792435, Learning Rate: 1e-05\n",
            "Accuracy: 98.20833333333333 %\n",
            "Accuracy: 98.74583333333334 %\n",
            "0.05956627056002617 0.060250092297792435\n",
            "Epoch Number: 15/20, Validation Accuracy: 98.20833333333333, Train Accuracy: 98.74583333333334, Training Loss: 0.045808564871549606, Validation Loss: 0.05956627056002617, Learning Rate: 1e-05\n",
            "Accuracy: 98.175 %\n",
            "Accuracy: 98.75625 %\n",
            "0.060420043766498566 0.05956627056002617\n",
            "Epoch Number: 16/20, Validation Accuracy: 98.175, Train Accuracy: 98.75625, Training Loss: 0.045630041509866714, Validation Loss: 0.060420043766498566, Learning Rate: 1e-05\n",
            "Accuracy: 98.16666666666667 %\n",
            "Accuracy: 98.78958333333334 %\n",
            "0.06004082411527634 0.05956627056002617\n",
            "Epoch Number: 17/20, Validation Accuracy: 98.16666666666667, Train Accuracy: 98.78958333333334, Training Loss: 0.04509895294904709, Validation Loss: 0.06004082411527634, Learning Rate: 1e-05\n",
            "Early Stopping Implemented at epoch 17\n"
          ]
        }
      ]
    },
    {
      "cell_type": "code",
      "source": [
        "#Plot Learning Curves\n",
        "import matplotlib.pyplot as plt\n",
        "plt.plot(epoch_tr_losses, label = 'Training Loss')\n",
        "plt.plot(epoch_val_losses, label = 'Validation Loss')\n",
        "plt.title('Learning Curve')\n",
        "plt.xlabel('Epoch')\n",
        "plt.ylabel('Loss')\n",
        "plt.legend()\n",
        "plt.show()"
      ],
      "metadata": {
        "colab": {
          "base_uri": "https://localhost:8080/",
          "height": 295
        },
        "id": "4UEJepJ-Ko9b",
        "outputId": "8a04f77a-2d7c-433e-d07b-b05388253d03"
      },
      "execution_count": 36,
      "outputs": [
        {
          "output_type": "display_data",
          "data": {
            "text/plain": [
              "<Figure size 432x288 with 1 Axes>"
            ],
            "image/png": "[encoded data removed]"
          },
          "metadata": {
            "needs_background": "light"
          }
        }
      ]
    },
    {
      "cell_type": "code",
      "source": [
        "evall(test_loader, model)"
      ],
      "metadata": {
        "colab": {
          "base_uri": "https://localhost:8080/"
        },
        "id": "ISXwJtKcKo9b",
        "outputId": "d104c8ea-a1fd-4312-c1f2-02fbc5c97b41"
      },
      "execution_count": 37,
      "outputs": [
        {
          "output_type": "stream",
          "name": "stdout",
          "text": [
            "Accuracy: 98.44 %\n"
          ]
        },
        {
          "output_type": "execute_result",
          "data": {
            "text/plain": [
              "98.44"
            ]
          },
          "metadata": {},
          "execution_count": 37
        }
      ]
    },
    {
      "cell_type": "code",
      "source": [
        "from sklearn.metrics import confusion_matrix\n",
        "from sklearn.metrics import ConfusionMatrixDisplay\n",
        "import matplotlib.pyplot as plt\n",
        "\n",
        "def cal_confusion_matrix(dl, model):\n",
        "    preds = torch.empty((0))\n",
        "    labels = torch.empty((0))\n",
        "    for batch in dl:\n",
        "        ip, op = batch\n",
        "        pred = model(ip)\n",
        "        v, pred = torch.max(pred.data, 1)\n",
        "        preds = torch.cat((preds, pred))\n",
        "        labels = torch.cat((labels, op))\n",
        "    \n",
        "    ConfusionMatrixDisplay.from_predictions(labels, preds)\n",
        "    plt.show()"
      ],
      "metadata": {
        "id": "joFjK_6zKo9b"
      },
      "execution_count": 39,
      "outputs": []
    },
    {
      "cell_type": "code",
      "source": [
        "cal_confusion_matrix(test_loader, model)\n"
      ],
      "metadata": {
        "colab": {
          "base_uri": "https://localhost:8080/",
          "height": 279
        },
        "id": "3x1-YdgbKo9b",
        "outputId": "1d483167-cc47-41b3-8bec-0be221b738c4"
      },
      "execution_count": 40,
      "outputs": [
        {
          "output_type": "display_data",
          "data": {
            "text/plain": [
              "<Figure size 432x288 with 2 Axes>"
            ],
            "image/png": "[encoded data removed]"
          },
          "metadata": {
            "needs_background": "light"
          }
        }
      ]
    },
    {
      "cell_type": "markdown",
      "source": [
        "# Nesterov"
      ],
      "metadata": {
        "id": "pPl5zWzzKy9q"
      }
    },
    {
      "cell_type": "code",
      "execution_count": 41,
      "metadata": {
        "colab": {
          "base_uri": "https://localhost:8080/"
        },
        "outputId": "faef77d7-7c3e-4451-d1f3-5199714b42a5",
        "id": "kSOHZh2qKy9q"
      },
      "outputs": [
        {
          "output_type": "stream",
          "name": "stderr",
          "text": [
            "/usr/local/lib/python3.7/dist-packages/ipykernel_launcher.py:16: UserWarning: nn.init.xavier_uniform is now deprecated in favor of nn.init.xavier_uniform_.\n",
            "  app.launch_new_instance()\n",
            "/usr/local/lib/python3.7/dist-packages/ipykernel_launcher.py:17: UserWarning: nn.init.xavier_uniform is now deprecated in favor of nn.init.xavier_uniform_.\n",
            "/usr/local/lib/python3.7/dist-packages/ipykernel_launcher.py:18: UserWarning: nn.init.xavier_uniform is now deprecated in favor of nn.init.xavier_uniform_.\n",
            "/usr/local/lib/python3.7/dist-packages/ipykernel_launcher.py:19: UserWarning: nn.init.xavier_uniform is now deprecated in favor of nn.init.xavier_uniform_.\n"
          ]
        }
      ],
      "source": [
        "model = BaselineCnn()"
      ]
    },
    {
      "cell_type": "code",
      "execution_count": 42,
      "metadata": {
        "id": "1B6LgsbZKy9q"
      },
      "outputs": [],
      "source": [
        "#Create Function To Evaluate The Trained Model when given a dataloader and a model\n",
        "def evall(dl, model):  \n",
        "    tot = 0\n",
        "    corr = 0\n",
        "    # for data in dataloader:\n",
        "    for batch in dl:\n",
        "        ip, op = batch\n",
        "        preds = model(ip)\n",
        "        #Get The Class With The Maximum Output Value\n",
        "        v, pred = torch.max(preds.data, 1)\n",
        "        #Increment The Number Of Samples Tested Against\n",
        "        tot += op.size(0)\n",
        "        #Increment The Number Of Correctly Classified Samples\n",
        "        corr += (pred == op).sum().item()\n",
        "\n",
        "    acc = 100 * corr / tot\n",
        "    print('Accuracy:', acc, '%')\n",
        "    return acc"
      ]
    },
    {
      "cell_type": "markdown",
      "metadata": {
        "id": "P6aAOaphKy9r"
      },
      "source": [
        "## Training"
      ]
    },
    {
      "cell_type": "code",
      "execution_count": 45,
      "metadata": {
        "id": "Dk4RVreJKy9r"
      },
      "outputs": [],
      "source": [
        "#Define The Loss Function, Training Optimizer and The Learning Rate Scheduler\n",
        "\n",
        "# The following sources were referred to for writing the code in the below cells\n",
        "\n",
        "# https://discuss.pytorch.org/t/performing-mini-batch-gradient-descent-or-stochastic-gradient-descent-on-a-mini-batch/21235/5\n",
        "\n",
        "# https://stackoverflow.com/questions/60050586/pytorch-change-the-learning-rate-based-on-number-of-epochs\n",
        "\n",
        "import torch.optim as optim\n",
        "\n",
        "#Define Start Leanring Rate and Momentum\n",
        "\n",
        "# start_lr = 0.05\n",
        "start_lr = 0.0001\n",
        "momentum = 0.9\n",
        "\n",
        "#Already Applies SoftMax???\n",
        "loss_function = nn.CrossEntropyLoss()\n",
        "opti = optim.SGD(model.parameters(), lr = start_lr, momentum=momentum, nesterov=True)\n",
        "\n",
        "\n",
        "\n",
        "#create the learning rate scheduler to change lr to 10% of lr every 10 epochs\n",
        "lrscheduler = optim.lr_scheduler.StepLR(opti, step_size=10, gamma = 0.1)"
      ]
    },
    {
      "cell_type": "code",
      "execution_count": 46,
      "metadata": {
        "colab": {
          "base_uri": "https://localhost:8080/"
        },
        "outputId": "bed45152-a00f-4e0a-dc3d-9f35a343545d",
        "id": "cD9nThR-Ky9r"
      },
      "outputs": [
        {
          "output_type": "stream",
          "name": "stdout",
          "text": [
            "cuda:0\n"
          ]
        }
      ],
      "source": [
        "#Train on GPU\n",
        "dev = \"cuda:0\" if torch.cuda.is_available() else \"cpu\"\n",
        "td = torch.device(dev)\n",
        "print(td)"
      ]
    },
    {
      "cell_type": "code",
      "source": [
        "# loss_arr = []\n",
        "\n",
        "tbs = int(60000*0.8)\n",
        "vbs = int(60000*0.2)\n",
        "tdl = DataLoader(train_data, batch_size=tbs, sampler=tr_sampler)\n",
        "vdl = torch.utils.data.DataLoader(train_data, batch_size=vbs, sampler=val_sampler)\n",
        "\n",
        "\n",
        "epoch_tr_losses = []\n",
        "epoch_val_losses = []\n",
        "epoch_val_accs = []\n",
        "epoch_tr_accs = []\n",
        "max_epochs = 20\n",
        "\n",
        "#Define Early Stopping Patience - here 2 epochs\n",
        "es_patience_count = 3\n",
        "es_count = 0\n",
        "\n",
        "\n",
        "for epoch in range(max_epochs):\n",
        "\n",
        "    for data in train_loader:\n",
        "\n",
        "        ip, op = data\n",
        "\n",
        "        opti.zero_grad()\n",
        "\n",
        "        preds = model(ip)\n",
        "\n",
        "        loss = loss_function(preds, op)\n",
        "        loss.backward()\n",
        "        opti.step()\n",
        "        \n",
        "    lrscheduler.step()\n",
        "\n",
        "    for td in tdl:\n",
        "      tr_ip, tr_op = td\n",
        "      tr_preds = model(tr_ip)\n",
        "      lt = loss_function(tr_preds, tr_op)\n",
        "      epoch_tr_losses.append(lt.item())\n",
        "\n",
        "    for vd in vdl:\n",
        "      val_ip, val_op = vd\n",
        "      val_preds = model(val_ip)\n",
        "      lt = loss_function(val_preds, val_op)\n",
        "      epoch_val_losses.append(lt.item())\n",
        "        \n",
        "    if epoch % 10 == 0:\n",
        "      print(f\"Epoch Number: {epoch} lr: {opti.param_groups[0]['lr']}\")\n",
        "\n",
        "    val_acc = evall(valid_loader, model)\n",
        "    tr_acc = evall(train_loader, model)\n",
        "\n",
        "    epoch_val_accs.append(val_acc)\n",
        "    epoch_tr_accs.append(tr_acc)\n",
        "\n",
        "    #Early Stopping based on vaidation acc\n",
        "\n",
        "    if epoch == 0:\n",
        "      best_loss = epoch_val_losses[0]\n",
        "    print(epoch_val_losses[epoch] , best_loss)\n",
        "\n",
        "    if epoch_val_losses[epoch] < best_loss:\n",
        "      best_loss = epoch_val_losses[epoch]\n",
        "      #save current model\n",
        "      torch.save(model, 'best_model.pth')\n",
        "    else:\n",
        "      es_count += 1\n",
        "\n",
        "    print(f\"Epoch Number: {epoch}/{max_epochs}, Validation Accuracy: {val_acc}, Train Accuracy: {tr_acc}, Training Loss: {epoch_tr_losses[epoch]}, Validation Loss: {epoch_val_losses[epoch]}, Learning Rate: {opti.param_groups[0]['lr']}\")\n",
        "\n",
        "    # \"Implement Early Stopping\"\n",
        "    if es_count > es_patience_count:\n",
        "      print(f'Early Stopping Implemented at epoch {epoch}')\n",
        "      break"
      ],
      "metadata": {
        "colab": {
          "base_uri": "https://localhost:8080/"
        },
        "outputId": "185103a9-a73b-4fc4-f043-916e4885da8d",
        "id": "_BzRLR1yKy9r"
      },
      "execution_count": 47,
      "outputs": [
        {
          "output_type": "stream",
          "name": "stdout",
          "text": [
            "Epoch Number: 0 lr: 0.0001\n",
            "Accuracy: 67.45 %\n",
            "Accuracy: 66.50208333333333 %\n",
            "1.585263967514038 1.585263967514038\n",
            "Epoch Number: 0/20, Validation Accuracy: 67.45, Train Accuracy: 66.50208333333333, Training Loss: 1.5914931297302246, Validation Loss: 1.585263967514038, Learning Rate: 0.0001\n",
            "Accuracy: 86.49166666666666 %\n",
            "Accuracy: 86.71875 %\n",
            "0.470956414937973 1.585263967514038\n",
            "Epoch Number: 1/20, Validation Accuracy: 86.49166666666666, Train Accuracy: 86.71875, Training Loss: 0.4757365584373474, Validation Loss: 0.470956414937973, Learning Rate: 0.0001\n",
            "Accuracy: 89.05833333333334 %\n",
            "Accuracy: 89.0375 %\n",
            "0.37953686714172363 0.470956414937973\n",
            "Epoch Number: 2/20, Validation Accuracy: 89.05833333333334, Train Accuracy: 89.0375, Training Loss: 0.38091784715652466, Validation Loss: 0.37953686714172363, Learning Rate: 0.0001\n",
            "Accuracy: 90.30833333333334 %\n",
            "Accuracy: 90.26458333333333 %\n",
            "0.3404741883277893 0.37953686714172363\n",
            "Epoch Number: 3/20, Validation Accuracy: 90.30833333333334, Train Accuracy: 90.26458333333333, Training Loss: 0.34250617027282715, Validation Loss: 0.3404741883277893, Learning Rate: 0.0001\n",
            "Accuracy: 90.88333333333334 %\n",
            "Accuracy: 90.97083333333333 %\n",
            "0.31471991539001465 0.3404741883277893\n",
            "Epoch Number: 4/20, Validation Accuracy: 90.88333333333334, Train Accuracy: 90.97083333333333, Training Loss: 0.31471800804138184, Validation Loss: 0.31471991539001465, Learning Rate: 0.0001\n",
            "Accuracy: 91.35833333333333 %\n",
            "Accuracy: 91.22083333333333 %\n",
            "0.30003654956817627 0.31471991539001465\n",
            "Epoch Number: 5/20, Validation Accuracy: 91.35833333333333, Train Accuracy: 91.22083333333333, Training Loss: 0.30055221915245056, Validation Loss: 0.30003654956817627, Learning Rate: 0.0001\n",
            "Accuracy: 91.58333333333333 %\n",
            "Accuracy: 91.72291666666666 %\n",
            "0.29079365730285645 0.30003654956817627\n",
            "Epoch Number: 6/20, Validation Accuracy: 91.58333333333333, Train Accuracy: 91.72291666666666, Training Loss: 0.28790804743766785, Validation Loss: 0.29079365730285645, Learning Rate: 0.0001\n",
            "Accuracy: 91.73333333333333 %\n",
            "Accuracy: 91.95208333333333 %\n",
            "0.28104937076568604 0.29079365730285645\n",
            "Epoch Number: 7/20, Validation Accuracy: 91.73333333333333, Train Accuracy: 91.95208333333333, Training Loss: 0.2781425714492798, Validation Loss: 0.28104937076568604, Learning Rate: 0.0001\n",
            "Accuracy: 92.16666666666667 %\n",
            "Accuracy: 92.275 %\n",
            "0.2669975161552429 0.28104937076568604\n",
            "Epoch Number: 8/20, Validation Accuracy: 92.16666666666667, Train Accuracy: 92.275, Training Loss: 0.2645242512226105, Validation Loss: 0.2669975161552429, Learning Rate: 0.0001\n",
            "Accuracy: 92.25833333333334 %\n",
            "Accuracy: 92.56875 %\n",
            "0.2558049261569977 0.2669975161552429\n",
            "Epoch Number: 9/20, Validation Accuracy: 92.25833333333334, Train Accuracy: 92.56875, Training Loss: 0.2544584572315216, Validation Loss: 0.2558049261569977, Learning Rate: 1e-05\n",
            "Epoch Number: 10 lr: 1e-05\n",
            "Accuracy: 92.46666666666667 %\n",
            "Accuracy: 92.68125 %\n",
            "0.2544339895248413 0.2558049261569977\n",
            "Epoch Number: 10/20, Validation Accuracy: 92.46666666666667, Train Accuracy: 92.68125, Training Loss: 0.2513798773288727, Validation Loss: 0.2544339895248413, Learning Rate: 1e-05\n",
            "Accuracy: 92.54166666666667 %\n",
            "Accuracy: 92.73541666666667 %\n",
            "0.2533888518810272 0.2544339895248413\n",
            "Epoch Number: 11/20, Validation Accuracy: 92.54166666666667, Train Accuracy: 92.73541666666667, Training Loss: 0.25034552812576294, Validation Loss: 0.2533888518810272, Learning Rate: 1e-05\n",
            "Accuracy: 92.60833333333333 %\n",
            "Accuracy: 92.78958333333334 %\n",
            "0.2525479793548584 0.2533888518810272\n",
            "Epoch Number: 12/20, Validation Accuracy: 92.60833333333333, Train Accuracy: 92.78958333333334, Training Loss: 0.2496025115251541, Validation Loss: 0.2525479793548584, Learning Rate: 1e-05\n",
            "Accuracy: 92.58333333333333 %\n",
            "Accuracy: 92.825 %\n",
            "0.2524358034133911 0.2525479793548584\n",
            "Epoch Number: 13/20, Validation Accuracy: 92.58333333333333, Train Accuracy: 92.825, Training Loss: 0.24894535541534424, Validation Loss: 0.2524358034133911, Learning Rate: 1e-05\n",
            "Accuracy: 92.625 %\n",
            "Accuracy: 92.7875 %\n",
            "0.25123265385627747 0.2524358034133911\n",
            "Epoch Number: 14/20, Validation Accuracy: 92.625, Train Accuracy: 92.7875, Training Loss: 0.24774086475372314, Validation Loss: 0.25123265385627747, Learning Rate: 1e-05\n",
            "Accuracy: 92.725 %\n",
            "Accuracy: 92.85833333333333 %\n",
            "0.25071796774864197 0.25123265385627747\n",
            "Epoch Number: 15/20, Validation Accuracy: 92.725, Train Accuracy: 92.85833333333333, Training Loss: 0.24705684185028076, Validation Loss: 0.25071796774864197, Learning Rate: 1e-05\n",
            "Accuracy: 92.63333333333334 %\n",
            "Accuracy: 92.85833333333333 %\n",
            "0.2492251992225647 0.25071796774864197\n",
            "Epoch Number: 16/20, Validation Accuracy: 92.63333333333334, Train Accuracy: 92.85833333333333, Training Loss: 0.24598731100559235, Validation Loss: 0.2492251992225647, Learning Rate: 1e-05\n",
            "Accuracy: 92.66666666666667 %\n",
            "Accuracy: 92.83333333333333 %\n",
            "0.24983839690685272 0.2492251992225647\n",
            "Epoch Number: 17/20, Validation Accuracy: 92.66666666666667, Train Accuracy: 92.83333333333333, Training Loss: 0.2462090402841568, Validation Loss: 0.24983839690685272, Learning Rate: 1e-05\n",
            "Accuracy: 92.725 %\n",
            "Accuracy: 92.89375 %\n",
            "0.24874244630336761 0.2492251992225647\n",
            "Epoch Number: 18/20, Validation Accuracy: 92.725, Train Accuracy: 92.89375, Training Loss: 0.2455422431230545, Validation Loss: 0.24874244630336761, Learning Rate: 1e-05\n",
            "Accuracy: 92.725 %\n",
            "Accuracy: 92.9125 %\n",
            "0.24741268157958984 0.24874244630336761\n",
            "Epoch Number: 19/20, Validation Accuracy: 92.725, Train Accuracy: 92.9125, Training Loss: 0.2439807951450348, Validation Loss: 0.24741268157958984, Learning Rate: 1.0000000000000002e-06\n"
          ]
        }
      ]
    },
    {
      "cell_type": "code",
      "source": [
        "#Plot Learning Curves\n",
        "import matplotlib.pyplot as plt\n",
        "plt.plot(epoch_tr_losses, label = 'Training Loss')\n",
        "plt.plot(epoch_val_losses, label = 'Validation Loss')\n",
        "plt.title('Learning Curve')\n",
        "plt.xlabel('Epoch')\n",
        "plt.ylabel('Loss')\n",
        "plt.legend()\n",
        "plt.show()"
      ],
      "metadata": {
        "colab": {
          "base_uri": "https://localhost:8080/",
          "height": 295
        },
        "id": "uLOLAPN6Ky9s",
        "outputId": "af7c17b8-077c-4833-962e-2a3fb435c1b0"
      },
      "execution_count": 49,
      "outputs": [
        {
          "output_type": "display_data",
          "data": {
            "text/plain": [
              "<Figure size 432x288 with 1 Axes>"
            ],
            "image/png": "[encoded data removed]"
          },
          "metadata": {
            "needs_background": "light"
          }
        }
      ]
    },
    {
      "cell_type": "code",
      "source": [
        "evall(test_loader, model)"
      ],
      "metadata": {
        "colab": {
          "base_uri": "https://localhost:8080/"
        },
        "id": "jm664vHnKy9s",
        "outputId": "3510c114-e4fc-42d9-a0e6-bd5a0ddeb829"
      },
      "execution_count": 50,
      "outputs": [
        {
          "output_type": "stream",
          "name": "stdout",
          "text": [
            "Accuracy: 93.21 %\n"
          ]
        },
        {
          "output_type": "execute_result",
          "data": {
            "text/plain": [
              "93.21"
            ]
          },
          "metadata": {},
          "execution_count": 50
        }
      ]
    },
    {
      "cell_type": "code",
      "source": [
        "from sklearn.metrics import confusion_matrix\n",
        "from sklearn.metrics import ConfusionMatrixDisplay\n",
        "import matplotlib.pyplot as plt\n",
        "\n",
        "def cal_confusion_matrix(dl, model):\n",
        "    preds = torch.empty((0))\n",
        "    labels = torch.empty((0))\n",
        "    for batch in dl:\n",
        "        ip, op = batch\n",
        "        pred = model(ip)\n",
        "        v, pred = torch.max(pred.data, 1)\n",
        "        preds = torch.cat((preds, pred))\n",
        "        labels = torch.cat((labels, op))\n",
        "    \n",
        "    ConfusionMatrixDisplay.from_predictions(labels, preds)\n",
        "    plt.show()"
      ],
      "metadata": {
        "id": "jXQMxbc0Ky9s"
      },
      "execution_count": 52,
      "outputs": []
    },
    {
      "cell_type": "code",
      "source": [
        "cal_confusion_matrix(test_loader, model)\n"
      ],
      "metadata": {
        "colab": {
          "base_uri": "https://localhost:8080/",
          "height": 279
        },
        "id": "0XF3-8J3Ky9s",
        "outputId": "5ee32d70-ff89-491f-b803-e94deb561a9d"
      },
      "execution_count": 53,
      "outputs": [
        {
          "output_type": "display_data",
          "data": {
            "text/plain": [
              "<Figure size 432x288 with 2 Axes>"
            ],
            "image/png": "[encoded data removed]"
          },
          "metadata": {
            "needs_background": "light"
          }
        }
      ]
    },
    {
      "cell_type": "markdown",
      "source": [
        "## Results Discussion\n",
        "\n",
        "We can notice that using RMSProp facilitates in pretty fast learning with the model achieving a test accuracy of 98.69% after around 7 epochs. Using ADAM we can see that the training is slower but also more stable and smooth, with the model reaching an accuracy of 98.4% after around 17 epochs. Using the Nesterov optimizer in SGD has the most interesting results with the model converging very quickly initially but then slows down and plateaus at a test accuracy of 93% after around 17 epochs. Therefore RMSProp seems to be the best optimizer in this case as it gives the best results in the shortest time."
      ],
      "metadata": {
        "id": "BPM7a-QknekD"
      }
    },
    {
      "cell_type": "markdown",
      "source": [
        "# References\n",
        "\n",
        "Therefore the following sources were referred to for this assignment (Mentioning all the sources at one place again):\n",
        "\n",
        "- https://pytorch.org/docs/stable/index.html\n",
        "\n",
        "- https://scikit-learn.org/0.21/documentation.html\n",
        "\n",
        "- https://discuss.pytorch.org/t/how-to-do-a-stratified-split/62290\n",
        "\n",
        "- https://github.com/satyajitghana/PadhAI-Course/blob/master/colab-notebooks/16_PyTorchCNN.ipynb\n",
        "\n",
        "- https://androidkt.com/initialize-weight-bias-pytorch/\n",
        "\n",
        "- https://wandb.ai/authors/ayusht/reports/Implementing-Dropout-in-PyTorch-With-Example--VmlldzoxNTgwOTE\n",
        "\n",
        "- https://discuss.pytorch.org/t/performing-mini-batch-gradient-descent-or-stochastic-gradient-descent-on-a-mini-batch/21235/5\n",
        "\n",
        "- https://stackoverflow.com/questions/60050586/pytorch-change-the-learning-rate-based-on-number-of-epochs\n",
        "\n",
        "\n",
        "\n"
      ],
      "metadata": {
        "id": "ZJFTgs-TJ4id"
      }
    }
  ],
  "metadata": {
    "accelerator": "GPU",
    "colab": {
      "collapsed_sections": [],
      "name": "baseline-optim.ipynb",
      "provenance": [],
      "toc_visible": true
    },
    "kernelspec": {
      "display_name": "Python 3",
      "name": "python3"
    },
    "language_info": {
      "name": "python"
    },
    "widgets": {
      "application/vnd.jupyter.widget-state+json": {
        "9a3b1a6aafd1430b8f43916c70a0646b": {
          "model_module": "@jupyter-widgets/controls",
          "model_name": "HBoxModel",
          "model_module_version": "1.5.0",
          "state": {
            "_dom_classes": [],
            "_model_module": "@jupyter-widgets/controls",
            "_model_module_version": "1.5.0",
            "_model_name": "HBoxModel",
            "_view_count": null,
            "_view_module": "@jupyter-widgets/controls",
            "_view_module_version": "1.5.0",
            "_view_name": "HBoxView",
            "box_style": "",
            "children": [
              "IPY_MODEL_940b68f1ae584be5a8af2b5021e7457c",
              "IPY_MODEL_eca15eebe9104873a6fcb95c2f188c63",
              "IPY_MODEL_e8f3d3f3d7b44ba886b6c360f83a9915"
            ],
            "layout": "IPY_MODEL_00a3a8bac6614766a87cd554f22f934b"
          }
        },
        "940b68f1ae584be5a8af2b5021e7457c": {
          "model_module": "@jupyter-widgets/controls",
          "model_name": "HTMLModel",
          "model_module_version": "1.5.0",
          "state": {
            "_dom_classes": [],
            "_model_module": "@jupyter-widgets/controls",
            "_model_module_version": "1.5.0",
            "_model_name": "HTMLModel",
            "_view_count": null,
            "_view_module": "@jupyter-widgets/controls",
            "_view_module_version": "1.5.0",
            "_view_name": "HTMLView",
            "description": "",
            "description_tooltip": null,
            "layout": "IPY_MODEL_8ad155b72b554e7a8c87b6770f3aa834",
            "placeholder": "​",
            "style": "IPY_MODEL_2a16d286caa748d1b2e14171e76e2978",
            "value": ""
          }
        },
        "eca15eebe9104873a6fcb95c2f188c63": {
          "model_module": "@jupyter-widgets/controls",
          "model_name": "FloatProgressModel",
          "model_module_version": "1.5.0",
          "state": {
            "_dom_classes": [],
            "_model_module": "@jupyter-widgets/controls",
            "_model_module_version": "1.5.0",
            "_model_name": "FloatProgressModel",
            "_view_count": null,
            "_view_module": "@jupyter-widgets/controls",
            "_view_module_version": "1.5.0",
            "_view_name": "ProgressView",
            "bar_style": "success",
            "description": "",
            "description_tooltip": null,
            "layout": "IPY_MODEL_1a7a358f9cf24df6b0aec57b03187699",
            "max": 9912422,
            "min": 0,
            "orientation": "horizontal",
            "style": "IPY_MODEL_3d450ae700374cf9950bfd8616ab7f50",
            "value": 9912422
          }
        },
        "e8f3d3f3d7b44ba886b6c360f83a9915": {
          "model_module": "@jupyter-widgets/controls",
          "model_name": "HTMLModel",
          "model_module_version": "1.5.0",
          "state": {
            "_dom_classes": [],
            "_model_module": "@jupyter-widgets/controls",
            "_model_module_version": "1.5.0",
            "_model_name": "HTMLModel",
            "_view_count": null,
            "_view_module": "@jupyter-widgets/controls",
            "_view_module_version": "1.5.0",
            "_view_name": "HTMLView",
            "description": "",
            "description_tooltip": null,
            "layout": "IPY_MODEL_012496c8ea644baeb7b3c20947e9d3a2",
            "placeholder": "​",
            "style": "IPY_MODEL_06826710fee341cd8d64ca6caefa5f64",
            "value": " 9913344/? [00:00&lt;00:00, 25978636.22it/s]"
          }
        },
        "00a3a8bac6614766a87cd554f22f934b": {
          "model_module": "@jupyter-widgets/base",
          "model_name": "LayoutModel",
          "model_module_version": "1.2.0",
          "state": {
            "_model_module": "@jupyter-widgets/base",
            "_model_module_version": "1.2.0",
            "_model_name": "LayoutModel",
            "_view_count": null,
            "_view_module": "@jupyter-widgets/base",
            "_view_module_version": "1.2.0",
            "_view_name": "LayoutView",
            "align_content": null,
            "align_items": null,
            "align_self": null,
            "border": null,
            "bottom": null,
            "display": null,
            "flex": null,
            "flex_flow": null,
            "grid_area": null,
            "grid_auto_columns": null,
            "grid_auto_flow": null,
            "grid_auto_rows": null,
            "grid_column": null,
            "grid_gap": null,
            "grid_row": null,
            "grid_template_areas": null,
            "grid_template_columns": null,
            "grid_template_rows": null,
            "height": null,
            "justify_content": null,
            "justify_items": null,
            "left": null,
            "margin": null,
            "max_height": null,
            "max_width": null,
            "min_height": null,
            "min_width": null,
            "object_fit": null,
            "object_position": null,
            "order": null,
            "overflow": null,
            "overflow_x": null,
            "overflow_y": null,
            "padding": null,
            "right": null,
            "top": null,
            "visibility": null,
            "width": null
          }
        },
        "8ad155b72b554e7a8c87b6770f3aa834": {
          "model_module": "@jupyter-widgets/base",
          "model_name": "LayoutModel",
          "model_module_version": "1.2.0",
          "state": {
            "_model_module": "@jupyter-widgets/base",
            "_model_module_version": "1.2.0",
            "_model_name": "LayoutModel",
            "_view_count": null,
            "_view_module": "@jupyter-widgets/base",
            "_view_module_version": "1.2.0",
            "_view_name": "LayoutView",
            "align_content": null,
            "align_items": null,
            "align_self": null,
            "border": null,
            "bottom": null,
            "display": null,
            "flex": null,
            "flex_flow": null,
            "grid_area": null,
            "grid_auto_columns": null,
            "grid_auto_flow": null,
            "grid_auto_rows": null,
            "grid_column": null,
            "grid_gap": null,
            "grid_row": null,
            "grid_template_areas": null,
            "grid_template_columns": null,
            "grid_template_rows": null,
            "height": null,
            "justify_content": null,
            "justify_items": null,
            "left": null,
            "margin": null,
            "max_height": null,
            "max_width": null,
            "min_height": null,
            "min_width": null,
            "object_fit": null,
            "object_position": null,
            "order": null,
            "overflow": null,
            "overflow_x": null,
            "overflow_y": null,
            "padding": null,
            "right": null,
            "top": null,
            "visibility": null,
            "width": null
          }
        },
        "2a16d286caa748d1b2e14171e76e2978": {
          "model_module": "@jupyter-widgets/controls",
          "model_name": "DescriptionStyleModel",
          "model_module_version": "1.5.0",
          "state": {
            "_model_module": "@jupyter-widgets/controls",
            "_model_module_version": "1.5.0",
            "_model_name": "DescriptionStyleModel",
            "_view_count": null,
            "_view_module": "@jupyter-widgets/base",
            "_view_module_version": "1.2.0",
            "_view_name": "StyleView",
            "description_width": ""
          }
        },
        "1a7a358f9cf24df6b0aec57b03187699": {
          "model_module": "@jupyter-widgets/base",
          "model_name": "LayoutModel",
          "model_module_version": "1.2.0",
          "state": {
            "_model_module": "@jupyter-widgets/base",
            "_model_module_version": "1.2.0",
            "_model_name": "LayoutModel",
            "_view_count": null,
            "_view_module": "@jupyter-widgets/base",
            "_view_module_version": "1.2.0",
            "_view_name": "LayoutView",
            "align_content": null,
            "align_items": null,
            "align_self": null,
            "border": null,
            "bottom": null,
            "display": null,
            "flex": null,
            "flex_flow": null,
            "grid_area": null,
            "grid_auto_columns": null,
            "grid_auto_flow": null,
            "grid_auto_rows": null,
            "grid_column": null,
            "grid_gap": null,
            "grid_row": null,
            "grid_template_areas": null,
            "grid_template_columns": null,
            "grid_template_rows": null,
            "height": null,
            "justify_content": null,
            "justify_items": null,
            "left": null,
            "margin": null,
            "max_height": null,
            "max_width": null,
            "min_height": null,
            "min_width": null,
            "object_fit": null,
            "object_position": null,
            "order": null,
            "overflow": null,
            "overflow_x": null,
            "overflow_y": null,
            "padding": null,
            "right": null,
            "top": null,
            "visibility": null,
            "width": null
          }
        },
        "3d450ae700374cf9950bfd8616ab7f50": {
          "model_module": "@jupyter-widgets/controls",
          "model_name": "ProgressStyleModel",
          "model_module_version": "1.5.0",
          "state": {
            "_model_module": "@jupyter-widgets/controls",
            "_model_module_version": "1.5.0",
            "_model_name": "ProgressStyleModel",
            "_view_count": null,
            "_view_module": "@jupyter-widgets/base",
            "_view_module_version": "1.2.0",
            "_view_name": "StyleView",
            "bar_color": null,
            "description_width": ""
          }
        },
        "012496c8ea644baeb7b3c20947e9d3a2": {
          "model_module": "@jupyter-widgets/base",
          "model_name": "LayoutModel",
          "model_module_version": "1.2.0",
          "state": {
            "_model_module": "@jupyter-widgets/base",
            "_model_module_version": "1.2.0",
            "_model_name": "LayoutModel",
            "_view_count": null,
            "_view_module": "@jupyter-widgets/base",
            "_view_module_version": "1.2.0",
            "_view_name": "LayoutView",
            "align_content": null,
            "align_items": null,
            "align_self": null,
            "border": null,
            "bottom": null,
            "display": null,
            "flex": null,
            "flex_flow": null,
            "grid_area": null,
            "grid_auto_columns": null,
            "grid_auto_flow": null,
            "grid_auto_rows": null,
            "grid_column": null,
            "grid_gap": null,
            "grid_row": null,
            "grid_template_areas": null,
            "grid_template_columns": null,
            "grid_template_rows": null,
            "height": null,
            "justify_content": null,
            "justify_items": null,
            "left": null,
            "margin": null,
            "max_height": null,
            "max_width": null,
            "min_height": null,
            "min_width": null,
            "object_fit": null,
            "object_position": null,
            "order": null,
            "overflow": null,
            "overflow_x": null,
            "overflow_y": null,
            "padding": null,
            "right": null,
            "top": null,
            "visibility": null,
            "width": null
          }
        },
        "06826710fee341cd8d64ca6caefa5f64": {
          "model_module": "@jupyter-widgets/controls",
          "model_name": "DescriptionStyleModel",
          "model_module_version": "1.5.0",
          "state": {
            "_model_module": "@jupyter-widgets/controls",
            "_model_module_version": "1.5.0",
            "_model_name": "DescriptionStyleModel",
            "_view_count": null,
            "_view_module": "@jupyter-widgets/base",
            "_view_module_version": "1.2.0",
            "_view_name": "StyleView",
            "description_width": ""
          }
        },
        "7c986ba28a9f4788a8e82a938864d051": {
          "model_module": "@jupyter-widgets/controls",
          "model_name": "HBoxModel",
          "model_module_version": "1.5.0",
          "state": {
            "_dom_classes": [],
            "_model_module": "@jupyter-widgets/controls",
            "_model_module_version": "1.5.0",
            "_model_name": "HBoxModel",
            "_view_count": null,
            "_view_module": "@jupyter-widgets/controls",
            "_view_module_version": "1.5.0",
            "_view_name": "HBoxView",
            "box_style": "",
            "children": [
              "IPY_MODEL_07701a76b6bb4fdf81575c24688fccc3",
              "IPY_MODEL_392c4575f69e4ec38012327418431a9c",
              "IPY_MODEL_91973ac058e64b179f407265989b45ad"
            ],
            "layout": "IPY_MODEL_a2fa381dfbd9433ab5a92cb6a6f08490"
          }
        },
        "07701a76b6bb4fdf81575c24688fccc3": {
          "model_module": "@jupyter-widgets/controls",
          "model_name": "HTMLModel",
          "model_module_version": "1.5.0",
          "state": {
            "_dom_classes": [],
            "_model_module": "@jupyter-widgets/controls",
            "_model_module_version": "1.5.0",
            "_model_name": "HTMLModel",
            "_view_count": null,
            "_view_module": "@jupyter-widgets/controls",
            "_view_module_version": "1.5.0",
            "_view_name": "HTMLView",
            "description": "",
            "description_tooltip": null,
            "layout": "IPY_MODEL_5bbe253953364862a6cc942b326e5814",
            "placeholder": "​",
            "style": "IPY_MODEL_b78feaaffce045e5a7715bda44680c09",
            "value": ""
          }
        },
        "392c4575f69e4ec38012327418431a9c": {
          "model_module": "@jupyter-widgets/controls",
          "model_name": "FloatProgressModel",
          "model_module_version": "1.5.0",
          "state": {
            "_dom_classes": [],
            "_model_module": "@jupyter-widgets/controls",
            "_model_module_version": "1.5.0",
            "_model_name": "FloatProgressModel",
            "_view_count": null,
            "_view_module": "@jupyter-widgets/controls",
            "_view_module_version": "1.5.0",
            "_view_name": "ProgressView",
            "bar_style": "success",
            "description": "",
            "description_tooltip": null,
            "layout": "IPY_MODEL_733bb51f9d1a48f082a232fe1e063371",
            "max": 28881,
            "min": 0,
            "orientation": "horizontal",
            "style": "IPY_MODEL_2b0a95cd73914f83b7fdc4c19902bacf",
            "value": 28881
          }
        },
        "91973ac058e64b179f407265989b45ad": {
          "model_module": "@jupyter-widgets/controls",
          "model_name": "HTMLModel",
          "model_module_version": "1.5.0",
          "state": {
            "_dom_classes": [],
            "_model_module": "@jupyter-widgets/controls",
            "_model_module_version": "1.5.0",
            "_model_name": "HTMLModel",
            "_view_count": null,
            "_view_module": "@jupyter-widgets/controls",
            "_view_module_version": "1.5.0",
            "_view_name": "HTMLView",
            "description": "",
            "description_tooltip": null,
            "layout": "IPY_MODEL_41d661fff7c74238a2c62d1999bba2f6",
            "placeholder": "​",
            "style": "IPY_MODEL_f4c93ff207a0491f9bb00590680627ca",
            "value": " 29696/? [00:00&lt;00:00, 326628.04it/s]"
          }
        },
        "a2fa381dfbd9433ab5a92cb6a6f08490": {
          "model_module": "@jupyter-widgets/base",
          "model_name": "LayoutModel",
          "model_module_version": "1.2.0",
          "state": {
            "_model_module": "@jupyter-widgets/base",
            "_model_module_version": "1.2.0",
            "_model_name": "LayoutModel",
            "_view_count": null,
            "_view_module": "@jupyter-widgets/base",
            "_view_module_version": "1.2.0",
            "_view_name": "LayoutView",
            "align_content": null,
            "align_items": null,
            "align_self": null,
            "border": null,
            "bottom": null,
            "display": null,
            "flex": null,
            "flex_flow": null,
            "grid_area": null,
            "grid_auto_columns": null,
            "grid_auto_flow": null,
            "grid_auto_rows": null,
            "grid_column": null,
            "grid_gap": null,
            "grid_row": null,
            "grid_template_areas": null,
            "grid_template_columns": null,
            "grid_template_rows": null,
            "height": null,
            "justify_content": null,
            "justify_items": null,
            "left": null,
            "margin": null,
            "max_height": null,
            "max_width": null,
            "min_height": null,
            "min_width": null,
            "object_fit": null,
            "object_position": null,
            "order": null,
            "overflow": null,
            "overflow_x": null,
            "overflow_y": null,
            "padding": null,
            "right": null,
            "top": null,
            "visibility": null,
            "width": null
          }
        },
        "5bbe253953364862a6cc942b326e5814": {
          "model_module": "@jupyter-widgets/base",
          "model_name": "LayoutModel",
          "model_module_version": "1.2.0",
          "state": {
            "_model_module": "@jupyter-widgets/base",
            "_model_module_version": "1.2.0",
            "_model_name": "LayoutModel",
            "_view_count": null,
            "_view_module": "@jupyter-widgets/base",
            "_view_module_version": "1.2.0",
            "_view_name": "LayoutView",
            "align_content": null,
            "align_items": null,
            "align_self": null,
            "border": null,
            "bottom": null,
            "display": null,
            "flex": null,
            "flex_flow": null,
            "grid_area": null,
            "grid_auto_columns": null,
            "grid_auto_flow": null,
            "grid_auto_rows": null,
            "grid_column": null,
            "grid_gap": null,
            "grid_row": null,
            "grid_template_areas": null,
            "grid_template_columns": null,
            "grid_template_rows": null,
            "height": null,
            "justify_content": null,
            "justify_items": null,
            "left": null,
            "margin": null,
            "max_height": null,
            "max_width": null,
            "min_height": null,
            "min_width": null,
            "object_fit": null,
            "object_position": null,
            "order": null,
            "overflow": null,
            "overflow_x": null,
            "overflow_y": null,
            "padding": null,
            "right": null,
            "top": null,
            "visibility": null,
            "width": null
          }
        },
        "b78feaaffce045e5a7715bda44680c09": {
          "model_module": "@jupyter-widgets/controls",
          "model_name": "DescriptionStyleModel",
          "model_module_version": "1.5.0",
          "state": {
            "_model_module": "@jupyter-widgets/controls",
            "_model_module_version": "1.5.0",
            "_model_name": "DescriptionStyleModel",
            "_view_count": null,
            "_view_module": "@jupyter-widgets/base",
            "_view_module_version": "1.2.0",
            "_view_name": "StyleView",
            "description_width": ""
          }
        },
        "733bb51f9d1a48f082a232fe1e063371": {
          "model_module": "@jupyter-widgets/base",
          "model_name": "LayoutModel",
          "model_module_version": "1.2.0",
          "state": {
            "_model_module": "@jupyter-widgets/base",
            "_model_module_version": "1.2.0",
            "_model_name": "LayoutModel",
            "_view_count": null,
            "_view_module": "@jupyter-widgets/base",
            "_view_module_version": "1.2.0",
            "_view_name": "LayoutView",
            "align_content": null,
            "align_items": null,
            "align_self": null,
            "border": null,
            "bottom": null,
            "display": null,
            "flex": null,
            "flex_flow": null,
            "grid_area": null,
            "grid_auto_columns": null,
            "grid_auto_flow": null,
            "grid_auto_rows": null,
            "grid_column": null,
            "grid_gap": null,
            "grid_row": null,
            "grid_template_areas": null,
            "grid_template_columns": null,
            "grid_template_rows": null,
            "height": null,
            "justify_content": null,
            "justify_items": null,
            "left": null,
            "margin": null,
            "max_height": null,
            "max_width": null,
            "min_height": null,
            "min_width": null,
            "object_fit": null,
            "object_position": null,
            "order": null,
            "overflow": null,
            "overflow_x": null,
            "overflow_y": null,
            "padding": null,
            "right": null,
            "top": null,
            "visibility": null,
            "width": null
          }
        },
        "2b0a95cd73914f83b7fdc4c19902bacf": {
          "model_module": "@jupyter-widgets/controls",
          "model_name": "ProgressStyleModel",
          "model_module_version": "1.5.0",
          "state": {
            "_model_module": "@jupyter-widgets/controls",
            "_model_module_version": "1.5.0",
            "_model_name": "ProgressStyleModel",
            "_view_count": null,
            "_view_module": "@jupyter-widgets/base",
            "_view_module_version": "1.2.0",
            "_view_name": "StyleView",
            "bar_color": null,
            "description_width": ""
          }
        },
        "41d661fff7c74238a2c62d1999bba2f6": {
          "model_module": "@jupyter-widgets/base",
          "model_name": "LayoutModel",
          "model_module_version": "1.2.0",
          "state": {
            "_model_module": "@jupyter-widgets/base",
            "_model_module_version": "1.2.0",
            "_model_name": "LayoutModel",
            "_view_count": null,
            "_view_module": "@jupyter-widgets/base",
            "_view_module_version": "1.2.0",
            "_view_name": "LayoutView",
            "align_content": null,
            "align_items": null,
            "align_self": null,
            "border": null,
            "bottom": null,
            "display": null,
            "flex": null,
            "flex_flow": null,
            "grid_area": null,
            "grid_auto_columns": null,
            "grid_auto_flow": null,
            "grid_auto_rows": null,
            "grid_column": null,
            "grid_gap": null,
            "grid_row": null,
            "grid_template_areas": null,
            "grid_template_columns": null,
            "grid_template_rows": null,
            "height": null,
            "justify_content": null,
            "justify_items": null,
            "left": null,
            "margin": null,
            "max_height": null,
            "max_width": null,
            "min_height": null,
            "min_width": null,
            "object_fit": null,
            "object_position": null,
            "order": null,
            "overflow": null,
            "overflow_x": null,
            "overflow_y": null,
            "padding": null,
            "right": null,
            "top": null,
            "visibility": null,
            "width": null
          }
        },
        "f4c93ff207a0491f9bb00590680627ca": {
          "model_module": "@jupyter-widgets/controls",
          "model_name": "DescriptionStyleModel",
          "model_module_version": "1.5.0",
          "state": {
            "_model_module": "@jupyter-widgets/controls",
            "_model_module_version": "1.5.0",
            "_model_name": "DescriptionStyleModel",
            "_view_count": null,
            "_view_module": "@jupyter-widgets/base",
            "_view_module_version": "1.2.0",
            "_view_name": "StyleView",
            "description_width": ""
          }
        },
        "f4e3c9687c664de5ad719ba08b49d985": {
          "model_module": "@jupyter-widgets/controls",
          "model_name": "HBoxModel",
          "model_module_version": "1.5.0",
          "state": {
            "_dom_classes": [],
            "_model_module": "@jupyter-widgets/controls",
            "_model_module_version": "1.5.0",
            "_model_name": "HBoxModel",
            "_view_count": null,
            "_view_module": "@jupyter-widgets/controls",
            "_view_module_version": "1.5.0",
            "_view_name": "HBoxView",
            "box_style": "",
            "children": [
              "IPY_MODEL_cf0df79ef1c34a9b8e964cc6627ee498",
              "IPY_MODEL_dc824e8ebae24f40877ee971dfa2220b",
              "IPY_MODEL_6e46a49fd8724d00abdc06ef1f3bea01"
            ],
            "layout": "IPY_MODEL_b520120a88264db0b5118be86d2a45f4"
          }
        },
        "cf0df79ef1c34a9b8e964cc6627ee498": {
          "model_module": "@jupyter-widgets/controls",
          "model_name": "HTMLModel",
          "model_module_version": "1.5.0",
          "state": {
            "_dom_classes": [],
            "_model_module": "@jupyter-widgets/controls",
            "_model_module_version": "1.5.0",
            "_model_name": "HTMLModel",
            "_view_count": null,
            "_view_module": "@jupyter-widgets/controls",
            "_view_module_version": "1.5.0",
            "_view_name": "HTMLView",
            "description": "",
            "description_tooltip": null,
            "layout": "IPY_MODEL_ef56deeda5354b7f8d4eabc8d5fd8dac",
            "placeholder": "​",
            "style": "IPY_MODEL_b619bee8c71745e5ae2af4e8c7ca7e75",
            "value": ""
          }
        },
        "dc824e8ebae24f40877ee971dfa2220b": {
          "model_module": "@jupyter-widgets/controls",
          "model_name": "FloatProgressModel",
          "model_module_version": "1.5.0",
          "state": {
            "_dom_classes": [],
            "_model_module": "@jupyter-widgets/controls",
            "_model_module_version": "1.5.0",
            "_model_name": "FloatProgressModel",
            "_view_count": null,
            "_view_module": "@jupyter-widgets/controls",
            "_view_module_version": "1.5.0",
            "_view_name": "ProgressView",
            "bar_style": "success",
            "description": "",
            "description_tooltip": null,
            "layout": "IPY_MODEL_d91dc25b451b4882b2fed29d9a2d3bf3",
            "max": 1648877,
            "min": 0,
            "orientation": "horizontal",
            "style": "IPY_MODEL_f5f8a9e2d6a94d989eb9815ac6e9afc5",
            "value": 1648877
          }
        },
        "6e46a49fd8724d00abdc06ef1f3bea01": {
          "model_module": "@jupyter-widgets/controls",
          "model_name": "HTMLModel",
          "model_module_version": "1.5.0",
          "state": {
            "_dom_classes": [],
            "_model_module": "@jupyter-widgets/controls",
            "_model_module_version": "1.5.0",
            "_model_name": "HTMLModel",
            "_view_count": null,
            "_view_module": "@jupyter-widgets/controls",
            "_view_module_version": "1.5.0",
            "_view_name": "HTMLView",
            "description": "",
            "description_tooltip": null,
            "layout": "IPY_MODEL_7e7396eb5b6b437db06db4e4110a5f30",
            "placeholder": "​",
            "style": "IPY_MODEL_bfd27c65c9ce4d69b3d045e1e4109e12",
            "value": " 1649664/? [00:00&lt;00:00, 9927.74it/s]"
          }
        },
        "b520120a88264db0b5118be86d2a45f4": {
          "model_module": "@jupyter-widgets/base",
          "model_name": "LayoutModel",
          "model_module_version": "1.2.0",
          "state": {
            "_model_module": "@jupyter-widgets/base",
            "_model_module_version": "1.2.0",
            "_model_name": "LayoutModel",
            "_view_count": null,
            "_view_module": "@jupyter-widgets/base",
            "_view_module_version": "1.2.0",
            "_view_name": "LayoutView",
            "align_content": null,
            "align_items": null,
            "align_self": null,
            "border": null,
            "bottom": null,
            "display": null,
            "flex": null,
            "flex_flow": null,
            "grid_area": null,
            "grid_auto_columns": null,
            "grid_auto_flow": null,
            "grid_auto_rows": null,
            "grid_column": null,
            "grid_gap": null,
            "grid_row": null,
            "grid_template_areas": null,
            "grid_template_columns": null,
            "grid_template_rows": null,
            "height": null,
            "justify_content": null,
            "justify_items": null,
            "left": null,
            "margin": null,
            "max_height": null,
            "max_width": null,
            "min_height": null,
            "min_width": null,
            "object_fit": null,
            "object_position": null,
            "order": null,
            "overflow": null,
            "overflow_x": null,
            "overflow_y": null,
            "padding": null,
            "right": null,
            "top": null,
            "visibility": null,
            "width": null
          }
        },
        "ef56deeda5354b7f8d4eabc8d5fd8dac": {
          "model_module": "@jupyter-widgets/base",
          "model_name": "LayoutModel",
          "model_module_version": "1.2.0",
          "state": {
            "_model_module": "@jupyter-widgets/base",
            "_model_module_version": "1.2.0",
            "_model_name": "LayoutModel",
            "_view_count": null,
            "_view_module": "@jupyter-widgets/base",
            "_view_module_version": "1.2.0",
            "_view_name": "LayoutView",
            "align_content": null,
            "align_items": null,
            "align_self": null,
            "border": null,
            "bottom": null,
            "display": null,
            "flex": null,
            "flex_flow": null,
            "grid_area": null,
            "grid_auto_columns": null,
            "grid_auto_flow": null,
            "grid_auto_rows": null,
            "grid_column": null,
            "grid_gap": null,
            "grid_row": null,
            "grid_template_areas": null,
            "grid_template_columns": null,
            "grid_template_rows": null,
            "height": null,
            "justify_content": null,
            "justify_items": null,
            "left": null,
            "margin": null,
            "max_height": null,
            "max_width": null,
            "min_height": null,
            "min_width": null,
            "object_fit": null,
            "object_position": null,
            "order": null,
            "overflow": null,
            "overflow_x": null,
            "overflow_y": null,
            "padding": null,
            "right": null,
            "top": null,
            "visibility": null,
            "width": null
          }
        },
        "b619bee8c71745e5ae2af4e8c7ca7e75": {
          "model_module": "@jupyter-widgets/controls",
          "model_name": "DescriptionStyleModel",
          "model_module_version": "1.5.0",
          "state": {
            "_model_module": "@jupyter-widgets/controls",
            "_model_module_version": "1.5.0",
            "_model_name": "DescriptionStyleModel",
            "_view_count": null,
            "_view_module": "@jupyter-widgets/base",
            "_view_module_version": "1.2.0",
            "_view_name": "StyleView",
            "description_width": ""
          }
        },
        "d91dc25b451b4882b2fed29d9a2d3bf3": {
          "model_module": "@jupyter-widgets/base",
          "model_name": "LayoutModel",
          "model_module_version": "1.2.0",
          "state": {
            "_model_module": "@jupyter-widgets/base",
            "_model_module_version": "1.2.0",
            "_model_name": "LayoutModel",
            "_view_count": null,
            "_view_module": "@jupyter-widgets/base",
            "_view_module_version": "1.2.0",
            "_view_name": "LayoutView",
            "align_content": null,
            "align_items": null,
            "align_self": null,
            "border": null,
            "bottom": null,
            "display": null,
            "flex": null,
            "flex_flow": null,
            "grid_area": null,
            "grid_auto_columns": null,
            "grid_auto_flow": null,
            "grid_auto_rows": null,
            "grid_column": null,
            "grid_gap": null,
            "grid_row": null,
            "grid_template_areas": null,
            "grid_template_columns": null,
            "grid_template_rows": null,
            "height": null,
            "justify_content": null,
            "justify_items": null,
            "left": null,
            "margin": null,
            "max_height": null,
            "max_width": null,
            "min_height": null,
            "min_width": null,
            "object_fit": null,
            "object_position": null,
            "order": null,
            "overflow": null,
            "overflow_x": null,
            "overflow_y": null,
            "padding": null,
            "right": null,
            "top": null,
            "visibility": null,
            "width": null
          }
        },
        "f5f8a9e2d6a94d989eb9815ac6e9afc5": {
          "model_module": "@jupyter-widgets/controls",
          "model_name": "ProgressStyleModel",
          "model_module_version": "1.5.0",
          "state": {
            "_model_module": "@jupyter-widgets/controls",
            "_model_module_version": "1.5.0",
            "_model_name": "ProgressStyleModel",
            "_view_count": null,
            "_view_module": "@jupyter-widgets/base",
            "_view_module_version": "1.2.0",
            "_view_name": "StyleView",
            "bar_color": null,
            "description_width": ""
          }
        },
        "7e7396eb5b6b437db06db4e4110a5f30": {
          "model_module": "@jupyter-widgets/base",
          "model_name": "LayoutModel",
          "model_module_version": "1.2.0",
          "state": {
            "_model_module": "@jupyter-widgets/base",
            "_model_module_version": "1.2.0",
            "_model_name": "LayoutModel",
            "_view_count": null,
            "_view_module": "@jupyter-widgets/base",
            "_view_module_version": "1.2.0",
            "_view_name": "LayoutView",
            "align_content": null,
            "align_items": null,
            "align_self": null,
            "border": null,
            "bottom": null,
            "display": null,
            "flex": null,
            "flex_flow": null,
            "grid_area": null,
            "grid_auto_columns": null,
            "grid_auto_flow": null,
            "grid_auto_rows": null,
            "grid_column": null,
            "grid_gap": null,
            "grid_row": null,
            "grid_template_areas": null,
            "grid_template_columns": null,
            "grid_template_rows": null,
            "height": null,
            "justify_content": null,
            "justify_items": null,
            "left": null,
            "margin": null,
            "max_height": null,
            "max_width": null,
            "min_height": null,
            "min_width": null,
            "object_fit": null,
            "object_position": null,
            "order": null,
            "overflow": null,
            "overflow_x": null,
            "overflow_y": null,
            "padding": null,
            "right": null,
            "top": null,
            "visibility": null,
            "width": null
          }
        },
        "bfd27c65c9ce4d69b3d045e1e4109e12": {
          "model_module": "@jupyter-widgets/controls",
          "model_name": "DescriptionStyleModel",
          "model_module_version": "1.5.0",
          "state": {
            "_model_module": "@jupyter-widgets/controls",
            "_model_module_version": "1.5.0",
            "_model_name": "DescriptionStyleModel",
            "_view_count": null,
            "_view_module": "@jupyter-widgets/base",
            "_view_module_version": "1.2.0",
            "_view_name": "StyleView",
            "description_width": ""
          }
        },
        "295a4e930e4e45ef91aa48f066aaa8d1": {
          "model_module": "@jupyter-widgets/controls",
          "model_name": "HBoxModel",
          "model_module_version": "1.5.0",
          "state": {
            "_dom_classes": [],
            "_model_module": "@jupyter-widgets/controls",
            "_model_module_version": "1.5.0",
            "_model_name": "HBoxModel",
            "_view_count": null,
            "_view_module": "@jupyter-widgets/controls",
            "_view_module_version": "1.5.0",
            "_view_name": "HBoxView",
            "box_style": "",
            "children": [
              "IPY_MODEL_bf73e6f9420f448498af05a1e539fa3c",
              "IPY_MODEL_aa7f66a159d244f0a49c7594632893b4",
              "IPY_MODEL_a40b1a14d54d4998833fb4371f4d6926"
            ],
            "layout": "IPY_MODEL_e191a0672c564acdbcf09324b26f4291"
          }
        },
        "bf73e6f9420f448498af05a1e539fa3c": {
          "model_module": "@jupyter-widgets/controls",
          "model_name": "HTMLModel",
          "model_module_version": "1.5.0",
          "state": {
            "_dom_classes": [],
            "_model_module": "@jupyter-widgets/controls",
            "_model_module_version": "1.5.0",
            "_model_name": "HTMLModel",
            "_view_count": null,
            "_view_module": "@jupyter-widgets/controls",
            "_view_module_version": "1.5.0",
            "_view_name": "HTMLView",
            "description": "",
            "description_tooltip": null,
            "layout": "IPY_MODEL_fe4f5f232b0e49b1994546fa39eb749b",
            "placeholder": "​",
            "style": "IPY_MODEL_6c68277bb69440fb879f23b69efc24ca",
            "value": ""
          }
        },
        "aa7f66a159d244f0a49c7594632893b4": {
          "model_module": "@jupyter-widgets/controls",
          "model_name": "FloatProgressModel",
          "model_module_version": "1.5.0",
          "state": {
            "_dom_classes": [],
            "_model_module": "@jupyter-widgets/controls",
            "_model_module_version": "1.5.0",
            "_model_name": "FloatProgressModel",
            "_view_count": null,
            "_view_module": "@jupyter-widgets/controls",
            "_view_module_version": "1.5.0",
            "_view_name": "ProgressView",
            "bar_style": "success",
            "description": "",
            "description_tooltip": null,
            "layout": "IPY_MODEL_2487a9c3e2a4483181beb530816c23b8",
            "max": 4542,
            "min": 0,
            "orientation": "horizontal",
            "style": "IPY_MODEL_92f2b46f3a9e43d6b22fd7fa6f8c13a5",
            "value": 4542
          }
        },
        "a40b1a14d54d4998833fb4371f4d6926": {
          "model_module": "@jupyter-widgets/controls",
          "model_name": "HTMLModel",
          "model_module_version": "1.5.0",
          "state": {
            "_dom_classes": [],
            "_model_module": "@jupyter-widgets/controls",
            "_model_module_version": "1.5.0",
            "_model_name": "HTMLModel",
            "_view_count": null,
            "_view_module": "@jupyter-widgets/controls",
            "_view_module_version": "1.5.0",
            "_view_name": "HTMLView",
            "description": "",
            "description_tooltip": null,
            "layout": "IPY_MODEL_60d406938ad24e0998646619a81aee94",
            "placeholder": "​",
            "style": "IPY_MODEL_1fd555a093a149c78be38bcf9839d912",
            "value": " 5120/? [00:00&lt;00:00, 108825.92it/s]"
          }
        },
        "e191a0672c564acdbcf09324b26f4291": {
          "model_module": "@jupyter-widgets/base",
          "model_name": "LayoutModel",
          "model_module_version": "1.2.0",
          "state": {
            "_model_module": "@jupyter-widgets/base",
            "_model_module_version": "1.2.0",
            "_model_name": "LayoutModel",
            "_view_count": null,
            "_view_module": "@jupyter-widgets/base",
            "_view_module_version": "1.2.0",
            "_view_name": "LayoutView",
            "align_content": null,
            "align_items": null,
            "align_self": null,
            "border": null,
            "bottom": null,
            "display": null,
            "flex": null,
            "flex_flow": null,
            "grid_area": null,
            "grid_auto_columns": null,
            "grid_auto_flow": null,
            "grid_auto_rows": null,
            "grid_column": null,
            "grid_gap": null,
            "grid_row": null,
            "grid_template_areas": null,
            "grid_template_columns": null,
            "grid_template_rows": null,
            "height": null,
            "justify_content": null,
            "justify_items": null,
            "left": null,
            "margin": null,
            "max_height": null,
            "max_width": null,
            "min_height": null,
            "min_width": null,
            "object_fit": null,
            "object_position": null,
            "order": null,
            "overflow": null,
            "overflow_x": null,
            "overflow_y": null,
            "padding": null,
            "right": null,
            "top": null,
            "visibility": null,
            "width": null
          }
        },
        "fe4f5f232b0e49b1994546fa39eb749b": {
          "model_module": "@jupyter-widgets/base",
          "model_name": "LayoutModel",
          "model_module_version": "1.2.0",
          "state": {
            "_model_module": "@jupyter-widgets/base",
            "_model_module_version": "1.2.0",
            "_model_name": "LayoutModel",
            "_view_count": null,
            "_view_module": "@jupyter-widgets/base",
            "_view_module_version": "1.2.0",
            "_view_name": "LayoutView",
            "align_content": null,
            "align_items": null,
            "align_self": null,
            "border": null,
            "bottom": null,
            "display": null,
            "flex": null,
            "flex_flow": null,
            "grid_area": null,
            "grid_auto_columns": null,
            "grid_auto_flow": null,
            "grid_auto_rows": null,
            "grid_column": null,
            "grid_gap": null,
            "grid_row": null,
            "grid_template_areas": null,
            "grid_template_columns": null,
            "grid_template_rows": null,
            "height": null,
            "justify_content": null,
            "justify_items": null,
            "left": null,
            "margin": null,
            "max_height": null,
            "max_width": null,
            "min_height": null,
            "min_width": null,
            "object_fit": null,
            "object_position": null,
            "order": null,
            "overflow": null,
            "overflow_x": null,
            "overflow_y": null,
            "padding": null,
            "right": null,
            "top": null,
            "visibility": null,
            "width": null
          }
        },
        "6c68277bb69440fb879f23b69efc24ca": {
          "model_module": "@jupyter-widgets/controls",
          "model_name": "DescriptionStyleModel",
          "model_module_version": "1.5.0",
          "state": {
            "_model_module": "@jupyter-widgets/controls",
            "_model_module_version": "1.5.0",
            "_model_name": "DescriptionStyleModel",
            "_view_count": null,
            "_view_module": "@jupyter-widgets/base",
            "_view_module_version": "1.2.0",
            "_view_name": "StyleView",
            "description_width": ""
          }
        },
        "2487a9c3e2a4483181beb530816c23b8": {
          "model_module": "@jupyter-widgets/base",
          "model_name": "LayoutModel",
          "model_module_version": "1.2.0",
          "state": {
            "_model_module": "@jupyter-widgets/base",
            "_model_module_version": "1.2.0",
            "_model_name": "LayoutModel",
            "_view_count": null,
            "_view_module": "@jupyter-widgets/base",
            "_view_module_version": "1.2.0",
            "_view_name": "LayoutView",
            "align_content": null,
            "align_items": null,
            "align_self": null,
            "border": null,
            "bottom": null,
            "display": null,
            "flex": null,
            "flex_flow": null,
            "grid_area": null,
            "grid_auto_columns": null,
            "grid_auto_flow": null,
            "grid_auto_rows": null,
            "grid_column": null,
            "grid_gap": null,
            "grid_row": null,
            "grid_template_areas": null,
            "grid_template_columns": null,
            "grid_template_rows": null,
            "height": null,
            "justify_content": null,
            "justify_items": null,
            "left": null,
            "margin": null,
            "max_height": null,
            "max_width": null,
            "min_height": null,
            "min_width": null,
            "object_fit": null,
            "object_position": null,
            "order": null,
            "overflow": null,
            "overflow_x": null,
            "overflow_y": null,
            "padding": null,
            "right": null,
            "top": null,
            "visibility": null,
            "width": null
          }
        },
        "92f2b46f3a9e43d6b22fd7fa6f8c13a5": {
          "model_module": "@jupyter-widgets/controls",
          "model_name": "ProgressStyleModel",
          "model_module_version": "1.5.0",
          "state": {
            "_model_module": "@jupyter-widgets/controls",
            "_model_module_version": "1.5.0",
            "_model_name": "ProgressStyleModel",
            "_view_count": null,
            "_view_module": "@jupyter-widgets/base",
            "_view_module_version": "1.2.0",
            "_view_name": "StyleView",
            "bar_color": null,
            "description_width": ""
          }
        },
        "60d406938ad24e0998646619a81aee94": {
          "model_module": "@jupyter-widgets/base",
          "model_name": "LayoutModel",
          "model_module_version": "1.2.0",
          "state": {
            "_model_module": "@jupyter-widgets/base",
            "_model_module_version": "1.2.0",
            "_model_name": "LayoutModel",
            "_view_count": null,
            "_view_module": "@jupyter-widgets/base",
            "_view_module_version": "1.2.0",
            "_view_name": "LayoutView",
            "align_content": null,
            "align_items": null,
            "align_self": null,
            "border": null,
            "bottom": null,
            "display": null,
            "flex": null,
            "flex_flow": null,
            "grid_area": null,
            "grid_auto_columns": null,
            "grid_auto_flow": null,
            "grid_auto_rows": null,
            "grid_column": null,
            "grid_gap": null,
            "grid_row": null,
            "grid_template_areas": null,
            "grid_template_columns": null,
            "grid_template_rows": null,
            "height": null,
            "justify_content": null,
            "justify_items": null,
            "left": null,
            "margin": null,
            "max_height": null,
            "max_width": null,
            "min_height": null,
            "min_width": null,
            "object_fit": null,
            "object_position": null,
            "order": null,
            "overflow": null,
            "overflow_x": null,
            "overflow_y": null,
            "padding": null,
            "right": null,
            "top": null,
            "visibility": null,
            "width": null
          }
        },
        "1fd555a093a149c78be38bcf9839d912": {
          "model_module": "@jupyter-widgets/controls",
          "model_name": "DescriptionStyleModel",
          "model_module_version": "1.5.0",
          "state": {
            "_model_module": "@jupyter-widgets/controls",
            "_model_module_version": "1.5.0",
            "_model_name": "DescriptionStyleModel",
            "_view_count": null,
            "_view_module": "@jupyter-widgets/base",
            "_view_module_version": "1.2.0",
            "_view_name": "StyleView",
            "description_width": ""
          }
        },
        "75074f7804e049c5bd08e1a583678453": {
          "model_module": "@jupyter-widgets/controls",
          "model_name": "HBoxModel",
          "model_module_version": "1.5.0",
          "state": {
            "_dom_classes": [],
            "_model_module": "@jupyter-widgets/controls",
            "_model_module_version": "1.5.0",
            "_model_name": "HBoxModel",
            "_view_count": null,
            "_view_module": "@jupyter-widgets/controls",
            "_view_module_version": "1.5.0",
            "_view_name": "HBoxView",
            "box_style": "",
            "children": [
              "IPY_MODEL_367c0fa44e3b4c6e80d1bc7f305fceea",
              "IPY_MODEL_ae309a9b5386466d94f51a53cc6833aa",
              "IPY_MODEL_772bafbfd7dd4e3aab69d98c4fe02a5a"
            ],
            "layout": "IPY_MODEL_44de2d665f3d4d41b54eddc5678649f3"
          }
        },
        "367c0fa44e3b4c6e80d1bc7f305fceea": {
          "model_module": "@jupyter-widgets/controls",
          "model_name": "HTMLModel",
          "model_module_version": "1.5.0",
          "state": {
            "_dom_classes": [],
            "_model_module": "@jupyter-widgets/controls",
            "_model_module_version": "1.5.0",
            "_model_name": "HTMLModel",
            "_view_count": null,
            "_view_module": "@jupyter-widgets/controls",
            "_view_module_version": "1.5.0",
            "_view_name": "HTMLView",
            "description": "",
            "description_tooltip": null,
            "layout": "IPY_MODEL_87e3159776ff4e02a188ca0911b23287",
            "placeholder": "​",
            "style": "IPY_MODEL_aebcb30ae1164c31ae26ced72faa8f6a",
            "value": ""
          }
        },
        "ae309a9b5386466d94f51a53cc6833aa": {
          "model_module": "@jupyter-widgets/controls",
          "model_name": "FloatProgressModel",
          "model_module_version": "1.5.0",
          "state": {
            "_dom_classes": [],
            "_model_module": "@jupyter-widgets/controls",
            "_model_module_version": "1.5.0",
            "_model_name": "FloatProgressModel",
            "_view_count": null,
            "_view_module": "@jupyter-widgets/controls",
            "_view_module_version": "1.5.0",
            "_view_name": "ProgressView",
            "bar_style": "success",
            "description": "",
            "description_tooltip": null,
            "layout": "IPY_MODEL_2a07c43cb0fc496ebbd03aeff6a21008",
            "max": 9912422,
            "min": 0,
            "orientation": "horizontal",
            "style": "IPY_MODEL_26f15012d7074391a67c8bb4c0b38bbc",
            "value": 9912422
          }
        },
        "772bafbfd7dd4e3aab69d98c4fe02a5a": {
          "model_module": "@jupyter-widgets/controls",
          "model_name": "HTMLModel",
          "model_module_version": "1.5.0",
          "state": {
            "_dom_classes": [],
            "_model_module": "@jupyter-widgets/controls",
            "_model_module_version": "1.5.0",
            "_model_name": "HTMLModel",
            "_view_count": null,
            "_view_module": "@jupyter-widgets/controls",
            "_view_module_version": "1.5.0",
            "_view_name": "HTMLView",
            "description": "",
            "description_tooltip": null,
            "layout": "IPY_MODEL_77862e609f7248baa1bcbfaa2c764972",
            "placeholder": "​",
            "style": "IPY_MODEL_3bd0dd45d4de44eeacb25b16c97181b3",
            "value": " 9913344/? [00:00&lt;00:00, 22921936.49it/s]"
          }
        },
        "44de2d665f3d4d41b54eddc5678649f3": {
          "model_module": "@jupyter-widgets/base",
          "model_name": "LayoutModel",
          "model_module_version": "1.2.0",
          "state": {
            "_model_module": "@jupyter-widgets/base",
            "_model_module_version": "1.2.0",
            "_model_name": "LayoutModel",
            "_view_count": null,
            "_view_module": "@jupyter-widgets/base",
            "_view_module_version": "1.2.0",
            "_view_name": "LayoutView",
            "align_content": null,
            "align_items": null,
            "align_self": null,
            "border": null,
            "bottom": null,
            "display": null,
            "flex": null,
            "flex_flow": null,
            "grid_area": null,
            "grid_auto_columns": null,
            "grid_auto_flow": null,
            "grid_auto_rows": null,
            "grid_column": null,
            "grid_gap": null,
            "grid_row": null,
            "grid_template_areas": null,
            "grid_template_columns": null,
            "grid_template_rows": null,
            "height": null,
            "justify_content": null,
            "justify_items": null,
            "left": null,
            "margin": null,
            "max_height": null,
            "max_width": null,
            "min_height": null,
            "min_width": null,
            "object_fit": null,
            "object_position": null,
            "order": null,
            "overflow": null,
            "overflow_x": null,
            "overflow_y": null,
            "padding": null,
            "right": null,
            "top": null,
            "visibility": null,
            "width": null
          }
        },
        "87e3159776ff4e02a188ca0911b23287": {
          "model_module": "@jupyter-widgets/base",
          "model_name": "LayoutModel",
          "model_module_version": "1.2.0",
          "state": {
            "_model_module": "@jupyter-widgets/base",
            "_model_module_version": "1.2.0",
            "_model_name": "LayoutModel",
            "_view_count": null,
            "_view_module": "@jupyter-widgets/base",
            "_view_module_version": "1.2.0",
            "_view_name": "LayoutView",
            "align_content": null,
            "align_items": null,
            "align_self": null,
            "border": null,
            "bottom": null,
            "display": null,
            "flex": null,
            "flex_flow": null,
            "grid_area": null,
            "grid_auto_columns": null,
            "grid_auto_flow": null,
            "grid_auto_rows": null,
            "grid_column": null,
            "grid_gap": null,
            "grid_row": null,
            "grid_template_areas": null,
            "grid_template_columns": null,
            "grid_template_rows": null,
            "height": null,
            "justify_content": null,
            "justify_items": null,
            "left": null,
            "margin": null,
            "max_height": null,
            "max_width": null,
            "min_height": null,
            "min_width": null,
            "object_fit": null,
            "object_position": null,
            "order": null,
            "overflow": null,
            "overflow_x": null,
            "overflow_y": null,
            "padding": null,
            "right": null,
            "top": null,
            "visibility": null,
            "width": null
          }
        },
        "aebcb30ae1164c31ae26ced72faa8f6a": {
          "model_module": "@jupyter-widgets/controls",
          "model_name": "DescriptionStyleModel",
          "model_module_version": "1.5.0",
          "state": {
            "_model_module": "@jupyter-widgets/controls",
            "_model_module_version": "1.5.0",
            "_model_name": "DescriptionStyleModel",
            "_view_count": null,
            "_view_module": "@jupyter-widgets/base",
            "_view_module_version": "1.2.0",
            "_view_name": "StyleView",
            "description_width": ""
          }
        },
        "2a07c43cb0fc496ebbd03aeff6a21008": {
          "model_module": "@jupyter-widgets/base",
          "model_name": "LayoutModel",
          "model_module_version": "1.2.0",
          "state": {
            "_model_module": "@jupyter-widgets/base",
            "_model_module_version": "1.2.0",
            "_model_name": "LayoutModel",
            "_view_count": null,
            "_view_module": "@jupyter-widgets/base",
            "_view_module_version": "1.2.0",
            "_view_name": "LayoutView",
            "align_content": null,
            "align_items": null,
            "align_self": null,
            "border": null,
            "bottom": null,
            "display": null,
            "flex": null,
            "flex_flow": null,
            "grid_area": null,
            "grid_auto_columns": null,
            "grid_auto_flow": null,
            "grid_auto_rows": null,
            "grid_column": null,
            "grid_gap": null,
            "grid_row": null,
            "grid_template_areas": null,
            "grid_template_columns": null,
            "grid_template_rows": null,
            "height": null,
            "justify_content": null,
            "justify_items": null,
            "left": null,
            "margin": null,
            "max_height": null,
            "max_width": null,
            "min_height": null,
            "min_width": null,
            "object_fit": null,
            "object_position": null,
            "order": null,
            "overflow": null,
            "overflow_x": null,
            "overflow_y": null,
            "padding": null,
            "right": null,
            "top": null,
            "visibility": null,
            "width": null
          }
        },
        "26f15012d7074391a67c8bb4c0b38bbc": {
          "model_module": "@jupyter-widgets/controls",
          "model_name": "ProgressStyleModel",
          "model_module_version": "1.5.0",
          "state": {
            "_model_module": "@jupyter-widgets/controls",
            "_model_module_version": "1.5.0",
            "_model_name": "ProgressStyleModel",
            "_view_count": null,
            "_view_module": "@jupyter-widgets/base",
            "_view_module_version": "1.2.0",
            "_view_name": "StyleView",
            "bar_color": null,
            "description_width": ""
          }
        },
        "77862e609f7248baa1bcbfaa2c764972": {
          "model_module": "@jupyter-widgets/base",
          "model_name": "LayoutModel",
          "model_module_version": "1.2.0",
          "state": {
            "_model_module": "@jupyter-widgets/base",
            "_model_module_version": "1.2.0",
            "_model_name": "LayoutModel",
            "_view_count": null,
            "_view_module": "@jupyter-widgets/base",
            "_view_module_version": "1.2.0",
            "_view_name": "LayoutView",
            "align_content": null,
            "align_items": null,
            "align_self": null,
            "border": null,
            "bottom": null,
            "display": null,
            "flex": null,
            "flex_flow": null,
            "grid_area": null,
            "grid_auto_columns": null,
            "grid_auto_flow": null,
            "grid_auto_rows": null,
            "grid_column": null,
            "grid_gap": null,
            "grid_row": null,
            "grid_template_areas": null,
            "grid_template_columns": null,
            "grid_template_rows": null,
            "height": null,
            "justify_content": null,
            "justify_items": null,
            "left": null,
            "margin": null,
            "max_height": null,
            "max_width": null,
            "min_height": null,
            "min_width": null,
            "object_fit": null,
            "object_position": null,
            "order": null,
            "overflow": null,
            "overflow_x": null,
            "overflow_y": null,
            "padding": null,
            "right": null,
            "top": null,
            "visibility": null,
            "width": null
          }
        },
        "3bd0dd45d4de44eeacb25b16c97181b3": {
          "model_module": "@jupyter-widgets/controls",
          "model_name": "DescriptionStyleModel",
          "model_module_version": "1.5.0",
          "state": {
            "_model_module": "@jupyter-widgets/controls",
            "_model_module_version": "1.5.0",
            "_model_name": "DescriptionStyleModel",
            "_view_count": null,
            "_view_module": "@jupyter-widgets/base",
            "_view_module_version": "1.2.0",
            "_view_name": "StyleView",
            "description_width": ""
          }
        },
        "f1c28c8c63584e9ba8ede82e72f1f566": {
          "model_module": "@jupyter-widgets/controls",
          "model_name": "HBoxModel",
          "model_module_version": "1.5.0",
          "state": {
            "_dom_classes": [],
            "_model_module": "@jupyter-widgets/controls",
            "_model_module_version": "1.5.0",
            "_model_name": "HBoxModel",
            "_view_count": null,
            "_view_module": "@jupyter-widgets/controls",
            "_view_module_version": "1.5.0",
            "_view_name": "HBoxView",
            "box_style": "",
            "children": [
              "IPY_MODEL_2536750e2d0f466bb73cf2229abc4983",
              "IPY_MODEL_271f5a91b19344bda47f4b61e93420d4",
              "IPY_MODEL_80089458258e47869f5d3bae5915445f"
            ],
            "layout": "IPY_MODEL_efdefcddfa984b8ab06710a77cb7a338"
          }
        },
        "2536750e2d0f466bb73cf2229abc4983": {
          "model_module": "@jupyter-widgets/controls",
          "model_name": "HTMLModel",
          "model_module_version": "1.5.0",
          "state": {
            "_dom_classes": [],
            "_model_module": "@jupyter-widgets/controls",
            "_model_module_version": "1.5.0",
            "_model_name": "HTMLModel",
            "_view_count": null,
            "_view_module": "@jupyter-widgets/controls",
            "_view_module_version": "1.5.0",
            "_view_name": "HTMLView",
            "description": "",
            "description_tooltip": null,
            "layout": "IPY_MODEL_1eaac1b0e608417abeae70ccb1546576",
            "placeholder": "​",
            "style": "IPY_MODEL_49ae281678d24819bab4fc259d347464",
            "value": ""
          }
        },
        "271f5a91b19344bda47f4b61e93420d4": {
          "model_module": "@jupyter-widgets/controls",
          "model_name": "FloatProgressModel",
          "model_module_version": "1.5.0",
          "state": {
            "_dom_classes": [],
            "_model_module": "@jupyter-widgets/controls",
            "_model_module_version": "1.5.0",
            "_model_name": "FloatProgressModel",
            "_view_count": null,
            "_view_module": "@jupyter-widgets/controls",
            "_view_module_version": "1.5.0",
            "_view_name": "ProgressView",
            "bar_style": "success",
            "description": "",
            "description_tooltip": null,
            "layout": "IPY_MODEL_d771a8afe1284519a6354cd237693c64",
            "max": 28881,
            "min": 0,
            "orientation": "horizontal",
            "style": "IPY_MODEL_7a83e515e3c342ab96faade48a871ca2",
            "value": 28881
          }
        },
        "80089458258e47869f5d3bae5915445f": {
          "model_module": "@jupyter-widgets/controls",
          "model_name": "HTMLModel",
          "model_module_version": "1.5.0",
          "state": {
            "_dom_classes": [],
            "_model_module": "@jupyter-widgets/controls",
            "_model_module_version": "1.5.0",
            "_model_name": "HTMLModel",
            "_view_count": null,
            "_view_module": "@jupyter-widgets/controls",
            "_view_module_version": "1.5.0",
            "_view_name": "HTMLView",
            "description": "",
            "description_tooltip": null,
            "layout": "IPY_MODEL_6a86c5e2389b49bf979d6d487bdc1bf7",
            "placeholder": "​",
            "style": "IPY_MODEL_32118c5d93de471a992569b94b6740be",
            "value": " 29696/? [00:00&lt;00:00, 9843.71it/s]"
          }
        },
        "efdefcddfa984b8ab06710a77cb7a338": {
          "model_module": "@jupyter-widgets/base",
          "model_name": "LayoutModel",
          "model_module_version": "1.2.0",
          "state": {
            "_model_module": "@jupyter-widgets/base",
            "_model_module_version": "1.2.0",
            "_model_name": "LayoutModel",
            "_view_count": null,
            "_view_module": "@jupyter-widgets/base",
            "_view_module_version": "1.2.0",
            "_view_name": "LayoutView",
            "align_content": null,
            "align_items": null,
            "align_self": null,
            "border": null,
            "bottom": null,
            "display": null,
            "flex": null,
            "flex_flow": null,
            "grid_area": null,
            "grid_auto_columns": null,
            "grid_auto_flow": null,
            "grid_auto_rows": null,
            "grid_column": null,
            "grid_gap": null,
            "grid_row": null,
            "grid_template_areas": null,
            "grid_template_columns": null,
            "grid_template_rows": null,
            "height": null,
            "justify_content": null,
            "justify_items": null,
            "left": null,
            "margin": null,
            "max_height": null,
            "max_width": null,
            "min_height": null,
            "min_width": null,
            "object_fit": null,
            "object_position": null,
            "order": null,
            "overflow": null,
            "overflow_x": null,
            "overflow_y": null,
            "padding": null,
            "right": null,
            "top": null,
            "visibility": null,
            "width": null
          }
        },
        "1eaac1b0e608417abeae70ccb1546576": {
          "model_module": "@jupyter-widgets/base",
          "model_name": "LayoutModel",
          "model_module_version": "1.2.0",
          "state": {
            "_model_module": "@jupyter-widgets/base",
            "_model_module_version": "1.2.0",
            "_model_name": "LayoutModel",
            "_view_count": null,
            "_view_module": "@jupyter-widgets/base",
            "_view_module_version": "1.2.0",
            "_view_name": "LayoutView",
            "align_content": null,
            "align_items": null,
            "align_self": null,
            "border": null,
            "bottom": null,
            "display": null,
            "flex": null,
            "flex_flow": null,
            "grid_area": null,
            "grid_auto_columns": null,
            "grid_auto_flow": null,
            "grid_auto_rows": null,
            "grid_column": null,
            "grid_gap": null,
            "grid_row": null,
            "grid_template_areas": null,
            "grid_template_columns": null,
            "grid_template_rows": null,
            "height": null,
            "justify_content": null,
            "justify_items": null,
            "left": null,
            "margin": null,
            "max_height": null,
            "max_width": null,
            "min_height": null,
            "min_width": null,
            "object_fit": null,
            "object_position": null,
            "order": null,
            "overflow": null,
            "overflow_x": null,
            "overflow_y": null,
            "padding": null,
            "right": null,
            "top": null,
            "visibility": null,
            "width": null
          }
        },
        "49ae281678d24819bab4fc259d347464": {
          "model_module": "@jupyter-widgets/controls",
          "model_name": "DescriptionStyleModel",
          "model_module_version": "1.5.0",
          "state": {
            "_model_module": "@jupyter-widgets/controls",
            "_model_module_version": "1.5.0",
            "_model_name": "DescriptionStyleModel",
            "_view_count": null,
            "_view_module": "@jupyter-widgets/base",
            "_view_module_version": "1.2.0",
            "_view_name": "StyleView",
            "description_width": ""
          }
        },
        "d771a8afe1284519a6354cd237693c64": {
          "model_module": "@jupyter-widgets/base",
          "model_name": "LayoutModel",
          "model_module_version": "1.2.0",
          "state": {
            "_model_module": "@jupyter-widgets/base",
            "_model_module_version": "1.2.0",
            "_model_name": "LayoutModel",
            "_view_count": null,
            "_view_module": "@jupyter-widgets/base",
            "_view_module_version": "1.2.0",
            "_view_name": "LayoutView",
            "align_content": null,
            "align_items": null,
            "align_self": null,
            "border": null,
            "bottom": null,
            "display": null,
            "flex": null,
            "flex_flow": null,
            "grid_area": null,
            "grid_auto_columns": null,
            "grid_auto_flow": null,
            "grid_auto_rows": null,
            "grid_column": null,
            "grid_gap": null,
            "grid_row": null,
            "grid_template_areas": null,
            "grid_template_columns": null,
            "grid_template_rows": null,
            "height": null,
            "justify_content": null,
            "justify_items": null,
            "left": null,
            "margin": null,
            "max_height": null,
            "max_width": null,
            "min_height": null,
            "min_width": null,
            "object_fit": null,
            "object_position": null,
            "order": null,
            "overflow": null,
            "overflow_x": null,
            "overflow_y": null,
            "padding": null,
            "right": null,
            "top": null,
            "visibility": null,
            "width": null
          }
        },
        "7a83e515e3c342ab96faade48a871ca2": {
          "model_module": "@jupyter-widgets/controls",
          "model_name": "ProgressStyleModel",
          "model_module_version": "1.5.0",
          "state": {
            "_model_module": "@jupyter-widgets/controls",
            "_model_module_version": "1.5.0",
            "_model_name": "ProgressStyleModel",
            "_view_count": null,
            "_view_module": "@jupyter-widgets/base",
            "_view_module_version": "1.2.0",
            "_view_name": "StyleView",
            "bar_color": null,
            "description_width": ""
          }
        },
        "6a86c5e2389b49bf979d6d487bdc1bf7": {
          "model_module": "@jupyter-widgets/base",
          "model_name": "LayoutModel",
          "model_module_version": "1.2.0",
          "state": {
            "_model_module": "@jupyter-widgets/base",
            "_model_module_version": "1.2.0",
            "_model_name": "LayoutModel",
            "_view_count": null,
            "_view_module": "@jupyter-widgets/base",
            "_view_module_version": "1.2.0",
            "_view_name": "LayoutView",
            "align_content": null,
            "align_items": null,
            "align_self": null,
            "border": null,
            "bottom": null,
            "display": null,
            "flex": null,
            "flex_flow": null,
            "grid_area": null,
            "grid_auto_columns": null,
            "grid_auto_flow": null,
            "grid_auto_rows": null,
            "grid_column": null,
            "grid_gap": null,
            "grid_row": null,
            "grid_template_areas": null,
            "grid_template_columns": null,
            "grid_template_rows": null,
            "height": null,
            "justify_content": null,
            "justify_items": null,
            "left": null,
            "margin": null,
            "max_height": null,
            "max_width": null,
            "min_height": null,
            "min_width": null,
            "object_fit": null,
            "object_position": null,
            "order": null,
            "overflow": null,
            "overflow_x": null,
            "overflow_y": null,
            "padding": null,
            "right": null,
            "top": null,
            "visibility": null,
            "width": null
          }
        },
        "32118c5d93de471a992569b94b6740be": {
          "model_module": "@jupyter-widgets/controls",
          "model_name": "DescriptionStyleModel",
          "model_module_version": "1.5.0",
          "state": {
            "_model_module": "@jupyter-widgets/controls",
            "_model_module_version": "1.5.0",
            "_model_name": "DescriptionStyleModel",
            "_view_count": null,
            "_view_module": "@jupyter-widgets/base",
            "_view_module_version": "1.2.0",
            "_view_name": "StyleView",
            "description_width": ""
          }
        },
        "82210a6d8f95426db61e167d0079b8a5": {
          "model_module": "@jupyter-widgets/controls",
          "model_name": "HBoxModel",
          "model_module_version": "1.5.0",
          "state": {
            "_dom_classes": [],
            "_model_module": "@jupyter-widgets/controls",
            "_model_module_version": "1.5.0",
            "_model_name": "HBoxModel",
            "_view_count": null,
            "_view_module": "@jupyter-widgets/controls",
            "_view_module_version": "1.5.0",
            "_view_name": "HBoxView",
            "box_style": "",
            "children": [
              "IPY_MODEL_93b6354258a842b3b78931c99f263088",
              "IPY_MODEL_a21990d495c14091a6d835da9f853866",
              "IPY_MODEL_3e3a2698c9c24a17ad714c7d432feb47"
            ],
            "layout": "IPY_MODEL_f608446a3f3443c981c4348072c0c73f"
          }
        },
        "93b6354258a842b3b78931c99f263088": {
          "model_module": "@jupyter-widgets/controls",
          "model_name": "HTMLModel",
          "model_module_version": "1.5.0",
          "state": {
            "_dom_classes": [],
            "_model_module": "@jupyter-widgets/controls",
            "_model_module_version": "1.5.0",
            "_model_name": "HTMLModel",
            "_view_count": null,
            "_view_module": "@jupyter-widgets/controls",
            "_view_module_version": "1.5.0",
            "_view_name": "HTMLView",
            "description": "",
            "description_tooltip": null,
            "layout": "IPY_MODEL_6ade685efc154745a2a00bf63cd659a0",
            "placeholder": "​",
            "style": "IPY_MODEL_0bce3c7f56af46a19e1b1896251d272f",
            "value": ""
          }
        },
        "a21990d495c14091a6d835da9f853866": {
          "model_module": "@jupyter-widgets/controls",
          "model_name": "FloatProgressModel",
          "model_module_version": "1.5.0",
          "state": {
            "_dom_classes": [],
            "_model_module": "@jupyter-widgets/controls",
            "_model_module_version": "1.5.0",
            "_model_name": "FloatProgressModel",
            "_view_count": null,
            "_view_module": "@jupyter-widgets/controls",
            "_view_module_version": "1.5.0",
            "_view_name": "ProgressView",
            "bar_style": "success",
            "description": "",
            "description_tooltip": null,
            "layout": "IPY_MODEL_2f3ca1ad148844458aeddc11ab5b39b8",
            "max": 1648877,
            "min": 0,
            "orientation": "horizontal",
            "style": "IPY_MODEL_d13e70df52c747a3b21ecf2586e851d9",
            "value": 1648877
          }
        },
        "3e3a2698c9c24a17ad714c7d432feb47": {
          "model_module": "@jupyter-widgets/controls",
          "model_name": "HTMLModel",
          "model_module_version": "1.5.0",
          "state": {
            "_dom_classes": [],
            "_model_module": "@jupyter-widgets/controls",
            "_model_module_version": "1.5.0",
            "_model_name": "HTMLModel",
            "_view_count": null,
            "_view_module": "@jupyter-widgets/controls",
            "_view_module_version": "1.5.0",
            "_view_name": "HTMLView",
            "description": "",
            "description_tooltip": null,
            "layout": "IPY_MODEL_82adfb61664f4d2696646dee4e7b4b78",
            "placeholder": "​",
            "style": "IPY_MODEL_a4c959cebc074c4b99e6cc7d9db379e3",
            "value": " 1649664/? [00:00&lt;00:00, 4430333.56it/s]"
          }
        },
        "f608446a3f3443c981c4348072c0c73f": {
          "model_module": "@jupyter-widgets/base",
          "model_name": "LayoutModel",
          "model_module_version": "1.2.0",
          "state": {
            "_model_module": "@jupyter-widgets/base",
            "_model_module_version": "1.2.0",
            "_model_name": "LayoutModel",
            "_view_count": null,
            "_view_module": "@jupyter-widgets/base",
            "_view_module_version": "1.2.0",
            "_view_name": "LayoutView",
            "align_content": null,
            "align_items": null,
            "align_self": null,
            "border": null,
            "bottom": null,
            "display": null,
            "flex": null,
            "flex_flow": null,
            "grid_area": null,
            "grid_auto_columns": null,
            "grid_auto_flow": null,
            "grid_auto_rows": null,
            "grid_column": null,
            "grid_gap": null,
            "grid_row": null,
            "grid_template_areas": null,
            "grid_template_columns": null,
            "grid_template_rows": null,
            "height": null,
            "justify_content": null,
            "justify_items": null,
            "left": null,
            "margin": null,
            "max_height": null,
            "max_width": null,
            "min_height": null,
            "min_width": null,
            "object_fit": null,
            "object_position": null,
            "order": null,
            "overflow": null,
            "overflow_x": null,
            "overflow_y": null,
            "padding": null,
            "right": null,
            "top": null,
            "visibility": null,
            "width": null
          }
        },
        "6ade685efc154745a2a00bf63cd659a0": {
          "model_module": "@jupyter-widgets/base",
          "model_name": "LayoutModel",
          "model_module_version": "1.2.0",
          "state": {
            "_model_module": "@jupyter-widgets/base",
            "_model_module_version": "1.2.0",
            "_model_name": "LayoutModel",
            "_view_count": null,
            "_view_module": "@jupyter-widgets/base",
            "_view_module_version": "1.2.0",
            "_view_name": "LayoutView",
            "align_content": null,
            "align_items": null,
            "align_self": null,
            "border": null,
            "bottom": null,
            "display": null,
            "flex": null,
            "flex_flow": null,
            "grid_area": null,
            "grid_auto_columns": null,
            "grid_auto_flow": null,
            "grid_auto_rows": null,
            "grid_column": null,
            "grid_gap": null,
            "grid_row": null,
            "grid_template_areas": null,
            "grid_template_columns": null,
            "grid_template_rows": null,
            "height": null,
            "justify_content": null,
            "justify_items": null,
            "left": null,
            "margin": null,
            "max_height": null,
            "max_width": null,
            "min_height": null,
            "min_width": null,
            "object_fit": null,
            "object_position": null,
            "order": null,
            "overflow": null,
            "overflow_x": null,
            "overflow_y": null,
            "padding": null,
            "right": null,
            "top": null,
            "visibility": null,
            "width": null
          }
        },
        "0bce3c7f56af46a19e1b1896251d272f": {
          "model_module": "@jupyter-widgets/controls",
          "model_name": "DescriptionStyleModel",
          "model_module_version": "1.5.0",
          "state": {
            "_model_module": "@jupyter-widgets/controls",
            "_model_module_version": "1.5.0",
            "_model_name": "DescriptionStyleModel",
            "_view_count": null,
            "_view_module": "@jupyter-widgets/base",
            "_view_module_version": "1.2.0",
            "_view_name": "StyleView",
            "description_width": ""
          }
        },
        "2f3ca1ad148844458aeddc11ab5b39b8": {
          "model_module": "@jupyter-widgets/base",
          "model_name": "LayoutModel",
          "model_module_version": "1.2.0",
          "state": {
            "_model_module": "@jupyter-widgets/base",
            "_model_module_version": "1.2.0",
            "_model_name": "LayoutModel",
            "_view_count": null,
            "_view_module": "@jupyter-widgets/base",
            "_view_module_version": "1.2.0",
            "_view_name": "LayoutView",
            "align_content": null,
            "align_items": null,
            "align_self": null,
            "border": null,
            "bottom": null,
            "display": null,
            "flex": null,
            "flex_flow": null,
            "grid_area": null,
            "grid_auto_columns": null,
            "grid_auto_flow": null,
            "grid_auto_rows": null,
            "grid_column": null,
            "grid_gap": null,
            "grid_row": null,
            "grid_template_areas": null,
            "grid_template_columns": null,
            "grid_template_rows": null,
            "height": null,
            "justify_content": null,
            "justify_items": null,
            "left": null,
            "margin": null,
            "max_height": null,
            "max_width": null,
            "min_height": null,
            "min_width": null,
            "object_fit": null,
            "object_position": null,
            "order": null,
            "overflow": null,
            "overflow_x": null,
            "overflow_y": null,
            "padding": null,
            "right": null,
            "top": null,
            "visibility": null,
            "width": null
          }
        },
        "d13e70df52c747a3b21ecf2586e851d9": {
          "model_module": "@jupyter-widgets/controls",
          "model_name": "ProgressStyleModel",
          "model_module_version": "1.5.0",
          "state": {
            "_model_module": "@jupyter-widgets/controls",
            "_model_module_version": "1.5.0",
            "_model_name": "ProgressStyleModel",
            "_view_count": null,
            "_view_module": "@jupyter-widgets/base",
            "_view_module_version": "1.2.0",
            "_view_name": "StyleView",
            "bar_color": null,
            "description_width": ""
          }
        },
        "82adfb61664f4d2696646dee4e7b4b78": {
          "model_module": "@jupyter-widgets/base",
          "model_name": "LayoutModel",
          "model_module_version": "1.2.0",
          "state": {
            "_model_module": "@jupyter-widgets/base",
            "_model_module_version": "1.2.0",
            "_model_name": "LayoutModel",
            "_view_count": null,
            "_view_module": "@jupyter-widgets/base",
            "_view_module_version": "1.2.0",
            "_view_name": "LayoutView",
            "align_content": null,
            "align_items": null,
            "align_self": null,
            "border": null,
            "bottom": null,
            "display": null,
            "flex": null,
            "flex_flow": null,
            "grid_area": null,
            "grid_auto_columns": null,
            "grid_auto_flow": null,
            "grid_auto_rows": null,
            "grid_column": null,
            "grid_gap": null,
            "grid_row": null,
            "grid_template_areas": null,
            "grid_template_columns": null,
            "grid_template_rows": null,
            "height": null,
            "justify_content": null,
            "justify_items": null,
            "left": null,
            "margin": null,
            "max_height": null,
            "max_width": null,
            "min_height": null,
            "min_width": null,
            "object_fit": null,
            "object_position": null,
            "order": null,
            "overflow": null,
            "overflow_x": null,
            "overflow_y": null,
            "padding": null,
            "right": null,
            "top": null,
            "visibility": null,
            "width": null
          }
        },
        "a4c959cebc074c4b99e6cc7d9db379e3": {
          "model_module": "@jupyter-widgets/controls",
          "model_name": "DescriptionStyleModel",
          "model_module_version": "1.5.0",
          "state": {
            "_model_module": "@jupyter-widgets/controls",
            "_model_module_version": "1.5.0",
            "_model_name": "DescriptionStyleModel",
            "_view_count": null,
            "_view_module": "@jupyter-widgets/base",
            "_view_module_version": "1.2.0",
            "_view_name": "StyleView",
            "description_width": ""
          }
        },
        "02a0a15ac0794d5985502c7c866eb8c5": {
          "model_module": "@jupyter-widgets/controls",
          "model_name": "HBoxModel",
          "model_module_version": "1.5.0",
          "state": {
            "_dom_classes": [],
            "_model_module": "@jupyter-widgets/controls",
            "_model_module_version": "1.5.0",
            "_model_name": "HBoxModel",
            "_view_count": null,
            "_view_module": "@jupyter-widgets/controls",
            "_view_module_version": "1.5.0",
            "_view_name": "HBoxView",
            "box_style": "",
            "children": [
              "IPY_MODEL_4854f084c3c74af88122fb199613b13f",
              "IPY_MODEL_8f61dcfe2981452f962da320020d8a2e",
              "IPY_MODEL_bb3ad3133b7f4f97ad0351cb49b91a2d"
            ],
            "layout": "IPY_MODEL_a27ca42a1214403596966cbc050e0a53"
          }
        },
        "4854f084c3c74af88122fb199613b13f": {
          "model_module": "@jupyter-widgets/controls",
          "model_name": "HTMLModel",
          "model_module_version": "1.5.0",
          "state": {
            "_dom_classes": [],
            "_model_module": "@jupyter-widgets/controls",
            "_model_module_version": "1.5.0",
            "_model_name": "HTMLModel",
            "_view_count": null,
            "_view_module": "@jupyter-widgets/controls",
            "_view_module_version": "1.5.0",
            "_view_name": "HTMLView",
            "description": "",
            "description_tooltip": null,
            "layout": "IPY_MODEL_fffa15be33834caab5be7c73e5c04afb",
            "placeholder": "​",
            "style": "IPY_MODEL_0fc014028053465b9eccaf167f5a509d",
            "value": ""
          }
        },
        "8f61dcfe2981452f962da320020d8a2e": {
          "model_module": "@jupyter-widgets/controls",
          "model_name": "FloatProgressModel",
          "model_module_version": "1.5.0",
          "state": {
            "_dom_classes": [],
            "_model_module": "@jupyter-widgets/controls",
            "_model_module_version": "1.5.0",
            "_model_name": "FloatProgressModel",
            "_view_count": null,
            "_view_module": "@jupyter-widgets/controls",
            "_view_module_version": "1.5.0",
            "_view_name": "ProgressView",
            "bar_style": "success",
            "description": "",
            "description_tooltip": null,
            "layout": "IPY_MODEL_e8c5e9539acc4996b49a5430ae3d6b98",
            "max": 4542,
            "min": 0,
            "orientation": "horizontal",
            "style": "IPY_MODEL_e07798803a8b4a12b5b1f5f19af293d6",
            "value": 4542
          }
        },
        "bb3ad3133b7f4f97ad0351cb49b91a2d": {
          "model_module": "@jupyter-widgets/controls",
          "model_name": "HTMLModel",
          "model_module_version": "1.5.0",
          "state": {
            "_dom_classes": [],
            "_model_module": "@jupyter-widgets/controls",
            "_model_module_version": "1.5.0",
            "_model_name": "HTMLModel",
            "_view_count": null,
            "_view_module": "@jupyter-widgets/controls",
            "_view_module_version": "1.5.0",
            "_view_name": "HTMLView",
            "description": "",
            "description_tooltip": null,
            "layout": "IPY_MODEL_8d3db78dd38348779996f2e5ce998239",
            "placeholder": "​",
            "style": "IPY_MODEL_8880c435aae9425ca47923f66ec20e4b",
            "value": " 5120/? [00:00&lt;00:00, 7723.83it/s]"
          }
        },
        "a27ca42a1214403596966cbc050e0a53": {
          "model_module": "@jupyter-widgets/base",
          "model_name": "LayoutModel",
          "model_module_version": "1.2.0",
          "state": {
            "_model_module": "@jupyter-widgets/base",
            "_model_module_version": "1.2.0",
            "_model_name": "LayoutModel",
            "_view_count": null,
            "_view_module": "@jupyter-widgets/base",
            "_view_module_version": "1.2.0",
            "_view_name": "LayoutView",
            "align_content": null,
            "align_items": null,
            "align_self": null,
            "border": null,
            "bottom": null,
            "display": null,
            "flex": null,
            "flex_flow": null,
            "grid_area": null,
            "grid_auto_columns": null,
            "grid_auto_flow": null,
            "grid_auto_rows": null,
            "grid_column": null,
            "grid_gap": null,
            "grid_row": null,
            "grid_template_areas": null,
            "grid_template_columns": null,
            "grid_template_rows": null,
            "height": null,
            "justify_content": null,
            "justify_items": null,
            "left": null,
            "margin": null,
            "max_height": null,
            "max_width": null,
            "min_height": null,
            "min_width": null,
            "object_fit": null,
            "object_position": null,
            "order": null,
            "overflow": null,
            "overflow_x": null,
            "overflow_y": null,
            "padding": null,
            "right": null,
            "top": null,
            "visibility": null,
            "width": null
          }
        },
        "fffa15be33834caab5be7c73e5c04afb": {
          "model_module": "@jupyter-widgets/base",
          "model_name": "LayoutModel",
          "model_module_version": "1.2.0",
          "state": {
            "_model_module": "@jupyter-widgets/base",
            "_model_module_version": "1.2.0",
            "_model_name": "LayoutModel",
            "_view_count": null,
            "_view_module": "@jupyter-widgets/base",
            "_view_module_version": "1.2.0",
            "_view_name": "LayoutView",
            "align_content": null,
            "align_items": null,
            "align_self": null,
            "border": null,
            "bottom": null,
            "display": null,
            "flex": null,
            "flex_flow": null,
            "grid_area": null,
            "grid_auto_columns": null,
            "grid_auto_flow": null,
            "grid_auto_rows": null,
            "grid_column": null,
            "grid_gap": null,
            "grid_row": null,
            "grid_template_areas": null,
            "grid_template_columns": null,
            "grid_template_rows": null,
            "height": null,
            "justify_content": null,
            "justify_items": null,
            "left": null,
            "margin": null,
            "max_height": null,
            "max_width": null,
            "min_height": null,
            "min_width": null,
            "object_fit": null,
            "object_position": null,
            "order": null,
            "overflow": null,
            "overflow_x": null,
            "overflow_y": null,
            "padding": null,
            "right": null,
            "top": null,
            "visibility": null,
            "width": null
          }
        },
        "0fc014028053465b9eccaf167f5a509d": {
          "model_module": "@jupyter-widgets/controls",
          "model_name": "DescriptionStyleModel",
          "model_module_version": "1.5.0",
          "state": {
            "_model_module": "@jupyter-widgets/controls",
            "_model_module_version": "1.5.0",
            "_model_name": "DescriptionStyleModel",
            "_view_count": null,
            "_view_module": "@jupyter-widgets/base",
            "_view_module_version": "1.2.0",
            "_view_name": "StyleView",
            "description_width": ""
          }
        },
        "e8c5e9539acc4996b49a5430ae3d6b98": {
          "model_module": "@jupyter-widgets/base",
          "model_name": "LayoutModel",
          "model_module_version": "1.2.0",
          "state": {
            "_model_module": "@jupyter-widgets/base",
            "_model_module_version": "1.2.0",
            "_model_name": "LayoutModel",
            "_view_count": null,
            "_view_module": "@jupyter-widgets/base",
            "_view_module_version": "1.2.0",
            "_view_name": "LayoutView",
            "align_content": null,
            "align_items": null,
            "align_self": null,
            "border": null,
            "bottom": null,
            "display": null,
            "flex": null,
            "flex_flow": null,
            "grid_area": null,
            "grid_auto_columns": null,
            "grid_auto_flow": null,
            "grid_auto_rows": null,
            "grid_column": null,
            "grid_gap": null,
            "grid_row": null,
            "grid_template_areas": null,
            "grid_template_columns": null,
            "grid_template_rows": null,
            "height": null,
            "justify_content": null,
            "justify_items": null,
            "left": null,
            "margin": null,
            "max_height": null,
            "max_width": null,
            "min_height": null,
            "min_width": null,
            "object_fit": null,
            "object_position": null,
            "order": null,
            "overflow": null,
            "overflow_x": null,
            "overflow_y": null,
            "padding": null,
            "right": null,
            "top": null,
            "visibility": null,
            "width": null
          }
        },
        "e07798803a8b4a12b5b1f5f19af293d6": {
          "model_module": "@jupyter-widgets/controls",
          "model_name": "ProgressStyleModel",
          "model_module_version": "1.5.0",
          "state": {
            "_model_module": "@jupyter-widgets/controls",
            "_model_module_version": "1.5.0",
            "_model_name": "ProgressStyleModel",
            "_view_count": null,
            "_view_module": "@jupyter-widgets/base",
            "_view_module_version": "1.2.0",
            "_view_name": "StyleView",
            "bar_color": null,
            "description_width": ""
          }
        },
        "8d3db78dd38348779996f2e5ce998239": {
          "model_module": "@jupyter-widgets/base",
          "model_name": "LayoutModel",
          "model_module_version": "1.2.0",
          "state": {
            "_model_module": "@jupyter-widgets/base",
            "_model_module_version": "1.2.0",
            "_model_name": "LayoutModel",
            "_view_count": null,
            "_view_module": "@jupyter-widgets/base",
            "_view_module_version": "1.2.0",
            "_view_name": "LayoutView",
            "align_content": null,
            "align_items": null,
            "align_self": null,
            "border": null,
            "bottom": null,
            "display": null,
            "flex": null,
            "flex_flow": null,
            "grid_area": null,
            "grid_auto_columns": null,
            "grid_auto_flow": null,
            "grid_auto_rows": null,
            "grid_column": null,
            "grid_gap": null,
            "grid_row": null,
            "grid_template_areas": null,
            "grid_template_columns": null,
            "grid_template_rows": null,
            "height": null,
            "justify_content": null,
            "justify_items": null,
            "left": null,
            "margin": null,
            "max_height": null,
            "max_width": null,
            "min_height": null,
            "min_width": null,
            "object_fit": null,
            "object_position": null,
            "order": null,
            "overflow": null,
            "overflow_x": null,
            "overflow_y": null,
            "padding": null,
            "right": null,
            "top": null,
            "visibility": null,
            "width": null
          }
        },
        "8880c435aae9425ca47923f66ec20e4b": {
          "model_module": "@jupyter-widgets/controls",
          "model_name": "DescriptionStyleModel",
          "model_module_version": "1.5.0",
          "state": {
            "_model_module": "@jupyter-widgets/controls",
            "_model_module_version": "1.5.0",
            "_model_name": "DescriptionStyleModel",
            "_view_count": null,
            "_view_module": "@jupyter-widgets/base",
            "_view_module_version": "1.2.0",
            "_view_name": "StyleView",
            "description_width": ""
          }
        }
      }
    }
  },
  "nbformat": 4,
  "nbformat_minor": 0
}