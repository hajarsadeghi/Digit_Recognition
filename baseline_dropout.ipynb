{
  "cells": [
    {
      "cell_type": "markdown",
      "metadata": {
        "id": "8aPS5Tu-zEHd"
      },
      "source": [
        "# Baseline-Dropout"
      ]
    },
    {
      "cell_type": "markdown",
      "metadata": {
        "id": "cSM3CnRkCwxz"
      },
      "source": [
        "## Data Prep"
      ]
    },
    {
      "cell_type": "code",
      "execution_count": 56,
      "metadata": {
        "id": "CHBEh77cHepl"
      },
      "outputs": [],
      "source": [
        "#imports\n",
        "import torch\n",
        "import torchvision #PyTorch models, datasets, transofmrations etc\n",
        "import torchvision.transforms as transforms"
      ]
    },
    {
      "cell_type": "code",
      "execution_count": 57,
      "metadata": {
        "id": "ES7BwoLu1Heo"
      },
      "outputs": [],
      "source": [
        "#Download Train And Test Data\n",
        "train_data = torchvision.datasets.MNIST(root = \"./MNIST_train\", download = True, train = True, transform = transforms.ToTensor())\n",
        "test_data = torchvision.datasets.MNIST(root = \"./MNIST_test\", download = True, train = False, transform = transforms.ToTensor())"
      ]
    },
    {
      "cell_type": "code",
      "execution_count": 58,
      "metadata": {
        "id": "c0xX6BzrSQB-"
      },
      "outputs": [],
      "source": [
        "#Startified Split Of Train Data Into Training and Validataion Sets\n",
        "\n",
        "#The following thread was referred to for writing the code in this cell\n",
        "#https://discuss.pytorch.org/t/how-to-do-a-stratified-split/62290\n",
        "\n",
        "from sklearn.model_selection import train_test_split\n",
        "import numpy as np\n",
        "from torch.utils.data import SubsetRandomSampler, DataLoader\n",
        "\n",
        "#Get The Train Data Targets Array\n",
        "labels = train_data.targets\n",
        "#Get The Splitting Indices - use 80-20 split again.\n",
        "train_ind, val_ind = train_test_split(np.arange(len(labels)), test_size = 0.2, shuffle = True, stratify = labels)\n",
        "\n",
        "tr_sampler = SubsetRandomSampler(train_ind)\n",
        "val_sampler = SubsetRandomSampler(val_ind)\n",
        "\n",
        "#Define Batch Size For Mini Batch Gradient Descent\n",
        "# batch_size = 128\n",
        "batch_size = 64\n",
        "\n",
        "#Create Data Loaders For Training And Validation Set\n",
        "train_loader = DataLoader(train_data, batch_size=batch_size, sampler=tr_sampler)\n",
        "valid_loader = torch.utils.data.DataLoader(train_data, batch_size=batch_size, sampler=val_sampler)\n"
      ]
    },
    {
      "cell_type": "code",
      "execution_count": 59,
      "metadata": {
        "id": "mvR4h1hbTeak"
      },
      "outputs": [],
      "source": [
        "#Create Data Loaders For Test Set\n",
        "test_loader = DataLoader(test_data, batch_size=batch_size)"
      ]
    },
    {
      "cell_type": "markdown",
      "metadata": {
        "id": "OSNmD1-9CHEv"
      },
      "source": [
        "# Dropout = 0.25"
      ]
    },
    {
      "cell_type": "markdown",
      "metadata": {
        "id": "yKoZDQ1EC1e_"
      },
      "source": [
        "## Modelling"
      ]
    },
    {
      "cell_type": "code",
      "execution_count": 60,
      "metadata": {
        "id": "etDQgpbKdkhe"
      },
      "outputs": [],
      "source": [
        "#Define Model Architecture with Dropout\n",
        "import torch.nn as nn \n",
        "\n",
        "#The following sources were referred to for wrting the code in thie cell\n",
        "# https://androidkt.com/initialize-weight-bias-pytorch/\n",
        "\n",
        "# https://wandb.ai/authors/ayusht/reports/Implementing-Dropout-in-PyTorch-With-Example--VmlldzoxNTgwOTE\n",
        "\n",
        "class BaselineCnn(nn.Module):\n",
        "  def __init__(self):\n",
        "    super(BaselineCnn, self).__init__()\n",
        "\n",
        "    #Define Layers\n",
        "    self.conv1 = nn.Conv2d(1,12,8)\n",
        "    self.conv2 = nn.Conv2d(12,12,4)\n",
        "    self.lin1 = nn.Linear(3888,30)\n",
        "    self.lin2 = nn.Linear(30, 10)\n",
        "    self.ReLU = nn.ReLU()\n",
        "\n",
        "    self.dropout = nn.Dropout(0.25)\n",
        "\n",
        "    nn.init.xavier_uniform(self.conv1.weight)\n",
        "    nn.init.xavier_uniform(self.conv2.weight)\n",
        "    nn.init.xavier_uniform(self.lin1.weight)\n",
        "    nn.init.xavier_uniform(self.lin2.weight)\n",
        "\n",
        "    #Add Convolutional Layers\n",
        "    self.cnn_layers = nn.Sequential(\n",
        "        self.conv1,\n",
        "        nn.ReLU(),\n",
        "        self.conv2,\n",
        "        nn.ReLU()\n",
        "    )\n",
        "\n",
        "    #Add Fully Connected Layers\n",
        "    self.fc_layers = nn.Sequential(\n",
        "        self.lin1,\n",
        "        nn.ReLU(),\n",
        "        self.lin2\n",
        "    )\n",
        "\n",
        "  \n",
        "\n",
        "  #Define Forward Path\n",
        "  def forward(self, x):\n",
        "\n",
        "    x = self.ReLU(self.conv1(x))\n",
        "    x = self.dropout(x)\n",
        "\n",
        "    x = self.ReLU(self.conv2(x))\n",
        "    x = self.dropout(x)\n",
        "\n",
        "    x = x.view(x.size(0), -1)\n",
        "\n",
        "    x = self.ReLU(self.lin1(x))\n",
        "    x = self.dropout(x)\n",
        "\n",
        "    x = self.lin2(x)\n",
        "\n",
        "    return x\n",
        "\n"
      ]
    },
    {
      "cell_type": "code",
      "execution_count": 61,
      "metadata": {
        "id": "G0_puE0908gT",
        "colab": {
          "base_uri": "https://localhost:8080/"
        },
        "outputId": "56ac12be-f09a-4d49-9384-3e37c68b4bd4"
      },
      "outputs": [
        {
          "output_type": "stream",
          "name": "stderr",
          "text": [
            "/usr/local/lib/python3.7/dist-packages/ipykernel_launcher.py:22: UserWarning: nn.init.xavier_uniform is now deprecated in favor of nn.init.xavier_uniform_.\n",
            "/usr/local/lib/python3.7/dist-packages/ipykernel_launcher.py:23: UserWarning: nn.init.xavier_uniform is now deprecated in favor of nn.init.xavier_uniform_.\n",
            "/usr/local/lib/python3.7/dist-packages/ipykernel_launcher.py:24: UserWarning: nn.init.xavier_uniform is now deprecated in favor of nn.init.xavier_uniform_.\n",
            "/usr/local/lib/python3.7/dist-packages/ipykernel_launcher.py:25: UserWarning: nn.init.xavier_uniform is now deprecated in favor of nn.init.xavier_uniform_.\n"
          ]
        }
      ],
      "source": [
        "model = BaselineCnn()"
      ]
    },
    {
      "cell_type": "code",
      "execution_count": 62,
      "metadata": {
        "id": "TKvmuo5JDgDL"
      },
      "outputs": [],
      "source": [
        "#Create Function To Evaluate The Trained Model when given a dataloader and a model\n",
        "def evall(dl, model):  \n",
        "    tot = 0\n",
        "    corr = 0\n",
        "    # for data in dataloader:\n",
        "    for batch in dl:\n",
        "        ip, op = batch\n",
        "        preds = model(ip)\n",
        "        #Get The Class With The Maximum Output Value\n",
        "        v, pred = torch.max(preds.data, 1)\n",
        "        #Increment The Number Of Samples Tested Against\n",
        "        tot += op.size(0)\n",
        "        #Increment The Number Of Correctly Classified Samples\n",
        "        corr += (pred == op).sum().item()\n",
        "\n",
        "    acc = 100 * corr / tot\n",
        "    print('Accuracy:', acc, '%')\n",
        "    return acc"
      ]
    },
    {
      "cell_type": "markdown",
      "metadata": {
        "id": "Oyw7xkgUEOJ3"
      },
      "source": [
        "## Training"
      ]
    },
    {
      "cell_type": "code",
      "execution_count": 63,
      "metadata": {
        "id": "fkb9-Ck3BWMK"
      },
      "outputs": [],
      "source": [
        "#Define The Loss Function, Training Optimizer and The Learning Rate Scheduler\n",
        "\n",
        "#The following sources were referred to for writing the code in this cell\n",
        "\n",
        "# https://discuss.pytorch.org/t/performing-mini-batch-gradient-descent-or-stochastic-gradient-descent-on-a-mini-batch/21235/5\n",
        "\n",
        "# https://stackoverflow.com/questions/60050586/pytorch-change-the-learning-rate-based-on-number-of-epochs\n",
        "\n",
        "import torch.optim as optim\n",
        "\n",
        "#Define Start Leanring Rate and Momentum\n",
        "\n",
        "start_lr = 0.05\n",
        "momentum = 0.9\n",
        "\n",
        "loss_function = nn.CrossEntropyLoss()\n",
        "opti = optim.SGD(model.parameters(), lr = start_lr, momentum=momentum)\n",
        "\n",
        "#create the learning rate scheduler to change lr to 10% of lr every 10 epochs\n",
        "lrscheduler = optim.lr_scheduler.StepLR(opti, step_size=10, gamma = 0.1)"
      ]
    },
    {
      "cell_type": "code",
      "execution_count": 64,
      "metadata": {
        "colab": {
          "base_uri": "https://localhost:8080/"
        },
        "id": "wb7Z5drEGafL",
        "outputId": "3e2fe1fe-dcd2-47c1-967c-ad53c5fbdac1"
      },
      "outputs": [
        {
          "output_type": "stream",
          "name": "stdout",
          "text": [
            "cuda:0\n"
          ]
        }
      ],
      "source": [
        "#Train on GPU\n",
        "dev = \"cuda:0\" if torch.cuda.is_available() else \"cpu\"\n",
        "td = torch.device(dev)\n",
        "print(td)"
      ]
    },
    {
      "cell_type": "code",
      "execution_count": 65,
      "metadata": {
        "id": "pleKqoJCTelX"
      },
      "outputs": [],
      "source": [
        "# The following sources were referred to for writing the code in the below cells\n",
        "# https://github.com/satyajitghana/PadhAI-Course/blob/master/colab-notebooks/16_PyTorchCNN.ipynb\n",
        "# https://androidkt.com/initialize-weight-bias-pytorch/\n",
        "# https://wandb.ai/authors/ayusht/reports/Implementing-Dropout-in-PyTorch-With-Example--VmlldzoxNTgwOTE\n",
        "# https://discuss.pytorch.org/t/performing-mini-batch-gradient-descent-or-stochastic-gradient-descent-on-a-mini-batch/21235/5\n",
        "# https://stackoverflow.com/questions/60050586/pytorch-change-the-learning-rate-based-on-number-of-epochs\n"
      ]
    },
    {
      "cell_type": "code",
      "execution_count": 66,
      "metadata": {
        "id": "jEvOTK6tCuXc",
        "colab": {
          "base_uri": "https://localhost:8080/"
        },
        "outputId": "100723e7-c0f3-4e74-ff72-fbac5621ebf7"
      },
      "outputs": [
        {
          "output_type": "stream",
          "name": "stdout",
          "text": [
            "Epoch Number: 0 lr: 0.05\n",
            "Accuracy: 93.65 %\n",
            "Accuracy: 93.725 %\n",
            "0.21231336891651154 0.21231336891651154\n",
            "Epoch Number: 0/20, Validation Accuracy: 93.65, Train Accuracy: 93.725, Training Loss: 0.20606647431850433, Validation Loss: 0.21231336891651154, Learning Rate: 0.05\n",
            "Accuracy: 95.25833333333334 %\n",
            "Accuracy: 95.80625 %\n",
            "0.16215477883815765 0.21231336891651154\n",
            "Epoch Number: 1/20, Validation Accuracy: 95.25833333333334, Train Accuracy: 95.80625, Training Loss: 0.1408303827047348, Validation Loss: 0.16215477883815765, Learning Rate: 0.05\n",
            "Accuracy: 95.325 %\n",
            "Accuracy: 95.64375 %\n",
            "0.18074604868888855 0.16215477883815765\n",
            "Epoch Number: 2/20, Validation Accuracy: 95.325, Train Accuracy: 95.64375, Training Loss: 0.14526090025901794, Validation Loss: 0.18074604868888855, Learning Rate: 0.05\n",
            "Accuracy: 96.05833333333334 %\n",
            "Accuracy: 96.66458333333334 %\n",
            "0.13608990609645844 0.16215477883815765\n",
            "Epoch Number: 3/20, Validation Accuracy: 96.05833333333334, Train Accuracy: 96.66458333333334, Training Loss: 0.10975448787212372, Validation Loss: 0.13608990609645844, Learning Rate: 0.05\n",
            "Accuracy: 95.7 %\n",
            "Accuracy: 95.97708333333334 %\n",
            "0.15321232378482819 0.13608990609645844\n",
            "Epoch Number: 4/20, Validation Accuracy: 95.7, Train Accuracy: 95.97708333333334, Training Loss: 0.12836246192455292, Validation Loss: 0.15321232378482819, Learning Rate: 0.05\n",
            "Accuracy: 95.66666666666667 %\n",
            "Accuracy: 96.34583333333333 %\n",
            "0.17120613157749176 0.13608990609645844\n",
            "Epoch Number: 5/20, Validation Accuracy: 95.66666666666667, Train Accuracy: 96.34583333333333, Training Loss: 0.12487778812646866, Validation Loss: 0.17120613157749176, Learning Rate: 0.05\n",
            "Accuracy: 94.81666666666666 %\n",
            "Accuracy: 95.34583333333333 %\n",
            "0.1932370960712433 0.13608990609645844\n",
            "Epoch Number: 6/20, Validation Accuracy: 94.81666666666666, Train Accuracy: 95.34583333333333, Training Loss: 0.16236260533332825, Validation Loss: 0.1932370960712433, Learning Rate: 0.05\n",
            "Accuracy: 96.11666666666666 %\n",
            "Accuracy: 96.73125 %\n",
            "0.15353600680828094 0.13608990609645844\n",
            "Epoch Number: 7/20, Validation Accuracy: 96.11666666666666, Train Accuracy: 96.73125, Training Loss: 0.11111174523830414, Validation Loss: 0.15353600680828094, Learning Rate: 0.05\n",
            "Accuracy: 96.26666666666667 %\n",
            "Accuracy: 96.975 %\n",
            "0.16229455173015594 0.13608990609645844\n",
            "Epoch Number: 8/20, Validation Accuracy: 96.26666666666667, Train Accuracy: 96.975, Training Loss: 0.1050385981798172, Validation Loss: 0.16229455173015594, Learning Rate: 0.05\n",
            "Accuracy: 96.0 %\n",
            "Accuracy: 96.61041666666667 %\n",
            "0.16579215228557587 0.13608990609645844\n",
            "Epoch Number: 9/20, Validation Accuracy: 96.0, Train Accuracy: 96.61041666666667, Training Loss: 0.11462954431772232, Validation Loss: 0.16579215228557587, Learning Rate: 0.005000000000000001\n",
            "Epoch Number: 10 lr: 0.005000000000000001\n",
            "Accuracy: 97.125 %\n",
            "Accuracy: 98.0375 %\n",
            "0.11411649733781815 0.13608990609645844\n",
            "Epoch Number: 10/20, Validation Accuracy: 97.125, Train Accuracy: 98.0375, Training Loss: 0.05797325819730759, Validation Loss: 0.11411649733781815, Learning Rate: 0.005000000000000001\n",
            "Accuracy: 97.40833333333333 %\n",
            "Accuracy: 98.19583333333334 %\n",
            "0.10828009992837906 0.11411649733781815\n",
            "Epoch Number: 11/20, Validation Accuracy: 97.40833333333333, Train Accuracy: 98.19583333333334, Training Loss: 0.05609828233718872, Validation Loss: 0.10828009992837906, Learning Rate: 0.005000000000000001\n",
            "Accuracy: 97.4 %\n",
            "Accuracy: 98.25833333333334 %\n",
            "0.10866706073284149 0.10828009992837906\n",
            "Epoch Number: 12/20, Validation Accuracy: 97.4, Train Accuracy: 98.25833333333334, Training Loss: 0.05245130509138107, Validation Loss: 0.10866706073284149, Learning Rate: 0.005000000000000001\n",
            "Early Stopping Implemented at epoch 12\n"
          ]
        }
      ],
      "source": [
        "tbs = int(60000*0.8)\n",
        "vbs = int(60000*0.2)\n",
        "tdl = DataLoader(train_data, batch_size=tbs, sampler=tr_sampler)\n",
        "vdl = torch.utils.data.DataLoader(train_data, batch_size=vbs, sampler=val_sampler)\n",
        "\n",
        "epoch_tr_losses = []\n",
        "epoch_val_losses = []\n",
        "epoch_val_accs = []\n",
        "epoch_tr_accs = []\n",
        "max_epochs = 20\n",
        "\n",
        "#Define Early Stopping Patience - here 2 epochs\n",
        "es_patience_count = 8\n",
        "es_count = 0\n",
        "\n",
        "\n",
        "for epoch in range(max_epochs):\n",
        "\n",
        "    # for ind, data in enumerate(train_loader):\n",
        "    for data in train_loader:\n",
        "\n",
        "        ip, op = data\n",
        "\n",
        "        opti.zero_grad()\n",
        "\n",
        "        preds = model(ip)\n",
        "\n",
        "        loss = loss_function(preds, op)\n",
        "        loss.backward()\n",
        "        opti.step()\n",
        "        \n",
        "    lrscheduler.step()\n",
        "\n",
        "    for td in tdl:\n",
        "      tr_ip, tr_op = td\n",
        "      tr_preds = model(tr_ip)\n",
        "      lt = loss_function(tr_preds, tr_op)\n",
        "      epoch_tr_losses.append(lt.item())\n",
        "\n",
        "    for vd in vdl:\n",
        "      val_ip, val_op = vd\n",
        "      val_preds = model(val_ip)\n",
        "      lt = loss_function(val_preds, val_op)\n",
        "      epoch_val_losses.append(lt.item())\n",
        "        \n",
        "    if epoch % 10 == 0:\n",
        "      print(f\"Epoch Number: {epoch} lr: {opti.param_groups[0]['lr']}\")\n",
        "\n",
        "    val_acc = evall(valid_loader, model)\n",
        "    tr_acc = evall(train_loader, model)\n",
        "\n",
        "    epoch_val_accs.append(val_acc)\n",
        "    epoch_tr_accs.append(tr_acc)\n",
        "\n",
        "    #Early Stopping based on vaidation acc\n",
        "\n",
        "    if epoch == 0:\n",
        "      best_loss = epoch_val_losses[0]\n",
        "    print(epoch_val_losses[epoch] , best_loss)\n",
        "\n",
        "    if epoch_val_losses[epoch] < best_loss:\n",
        "      best_loss = epoch_val_losses[epoch]\n",
        "      torch.save(model, 'best_model.pth')\n",
        "    else:\n",
        "      es_count += 1\n",
        "\n",
        "    print(f\"Epoch Number: {epoch}/{max_epochs}, Validation Accuracy: {val_acc}, Train Accuracy: {tr_acc}, Training Loss: {epoch_tr_losses[epoch]}, Validation Loss: {epoch_val_losses[epoch]}, Learning Rate: {opti.param_groups[0]['lr']}\")\n",
        "\n",
        "    # \"Implement Early Stopping\n",
        "    if es_count > es_patience_count:\n",
        "      print(f'Early Stopping Implemented at epoch {epoch}')\n",
        "      break"
      ]
    },
    {
      "cell_type": "code",
      "execution_count": 67,
      "metadata": {
        "id": "odryqgmYDTHX",
        "colab": {
          "base_uri": "https://localhost:8080/",
          "height": 295
        },
        "outputId": "b5c08789-b290-437b-efab-084357303280"
      },
      "outputs": [
        {
          "output_type": "display_data",
          "data": {
            "text/plain": [
              "<Figure size 432x288 with 1 Axes>"
            ],
            "image/png": "[encoded data removed]"
          },
          "metadata": {
            "needs_background": "light"
          }
        }
      ],
      "source": [
        "#Plot Learning Curves\n",
        "import matplotlib.pyplot as plt\n",
        "plt.plot(epoch_tr_losses, label = 'Training Loss')\n",
        "plt.plot(epoch_val_losses, label = 'Validation Loss')\n",
        "plt.title('Learning Curve')\n",
        "plt.xlabel('Epoch')\n",
        "plt.ylabel('Loss')\n",
        "plt.legend()\n",
        "plt.show()"
      ]
    },
    {
      "cell_type": "code",
      "execution_count": 68,
      "metadata": {
        "id": "M2tXXDtaDTHX",
        "colab": {
          "base_uri": "https://localhost:8080/"
        },
        "outputId": "458611c0-ef4f-4453-8211-e570b58d5431"
      },
      "outputs": [
        {
          "output_type": "stream",
          "name": "stdout",
          "text": [
            "Accuracy: 97.7 %\n"
          ]
        },
        {
          "output_type": "execute_result",
          "data": {
            "text/plain": [
              "97.7"
            ]
          },
          "metadata": {},
          "execution_count": 68
        }
      ],
      "source": [
        "evall(test_loader, model)"
      ]
    },
    {
      "cell_type": "code",
      "execution_count": 69,
      "metadata": {
        "id": "PMHw9nph9CAj"
      },
      "outputs": [],
      "source": [
        "from sklearn.metrics import confusion_matrix\n",
        "from sklearn.metrics import ConfusionMatrixDisplay\n",
        "import matplotlib.pyplot as plt\n",
        "\n",
        "def cal_confusion_matrix(dl, model):\n",
        "    preds = torch.empty((0))\n",
        "    labels = torch.empty((0))\n",
        "    for batch in dl:\n",
        "        ip, op = batch\n",
        "        pred = model(ip)\n",
        "        #Get The Class With The Maximum Output Value\n",
        "        v, pred = torch.max(pred.data, 1)\n",
        "        #Increment The Number Of Samples Tested Against\n",
        "        #Increment The Number Of Correctly Classified Samples\n",
        "        preds = torch.cat((preds, pred))\n",
        "        labels = torch.cat((labels, op))\n",
        "    \n",
        "    ConfusionMatrixDisplay.from_predictions(labels, preds)\n",
        "    plt.show()"
      ]
    },
    {
      "cell_type": "code",
      "execution_count": 70,
      "metadata": {
        "id": "JI0Fje9t-r8U",
        "colab": {
          "base_uri": "https://localhost:8080/",
          "height": 279
        },
        "outputId": "9e40cd6c-e716-4d9b-a8c6-84929fd71b85"
      },
      "outputs": [
        {
          "output_type": "display_data",
          "data": {
            "text/plain": [
              "<Figure size 432x288 with 2 Axes>"
            ],
            "image/png": "[encoded data removed]"
          },
          "metadata": {
            "needs_background": "light"
          }
        }
      ],
      "source": [
        "cal_confusion_matrix(test_loader, model)\n"
      ]
    },
    {
      "cell_type": "code",
      "execution_count": 70,
      "metadata": {
        "id": "JnsSF-jmEarh"
      },
      "outputs": [],
      "source": [
        ""
      ]
    },
    {
      "cell_type": "markdown",
      "metadata": {
        "id": "6lvYoVdWEa7u"
      },
      "source": [
        "# Dropout = 0.5"
      ]
    },
    {
      "cell_type": "markdown",
      "metadata": {
        "id": "iEE_paNjEa7u"
      },
      "source": [
        "## Modelling"
      ]
    },
    {
      "cell_type": "code",
      "execution_count": 71,
      "metadata": {
        "id": "BejC0U27Ea7v"
      },
      "outputs": [],
      "source": [
        "#Define Model Architecture with Dropout\n",
        "import torch.nn as nn \n",
        "\n",
        "# The following sources were referred to for writing the code in the below cells\n",
        "\n",
        "# https://androidkt.com/initialize-weight-bias-pytorch/\n",
        "\n",
        "# https://wandb.ai/authors/ayusht/reports/Implementing-Dropout-in-PyTorch-With-Example--VmlldzoxNTgwOTE\n",
        "\n",
        "class BaselineCnn(nn.Module):\n",
        "  def __init__(self):\n",
        "    super(BaselineCnn, self).__init__()\n",
        "\n",
        "    #Define Layers\n",
        "    self.conv1 = nn.Conv2d(1,12,8)\n",
        "    self.conv2 = nn.Conv2d(12,12,4)\n",
        "    self.lin1 = nn.Linear(3888,30)\n",
        "    self.lin2 = nn.Linear(30, 10)\n",
        "    self.ReLU = nn.ReLU()\n",
        "\n",
        "    self.dropout = nn.Dropout(0.5)\n",
        "\n",
        "    nn.init.xavier_uniform(self.conv1.weight)\n",
        "    nn.init.xavier_uniform(self.conv2.weight)\n",
        "    nn.init.xavier_uniform(self.lin1.weight)\n",
        "    nn.init.xavier_uniform(self.lin2.weight)\n",
        "\n",
        "    #Add Convolutional Layers\n",
        "    self.cnn_layers = nn.Sequential(\n",
        "        self.conv1,\n",
        "        nn.ReLU(),\n",
        "        self.conv2,\n",
        "        nn.ReLU()\n",
        "    )\n",
        "\n",
        "    #Add Fully Connected Layers\n",
        "    self.fc_layers = nn.Sequential(\n",
        "        self.lin1,\n",
        "        nn.ReLU(),\n",
        "        self.lin2\n",
        "    )\n",
        "\n",
        "  \n",
        "\n",
        "  #Define Forward Path\n",
        "  def forward(self, x):\n",
        "\n",
        "    x = self.ReLU(self.conv1(x))\n",
        "    x = self.dropout(x)\n",
        "\n",
        "    x = self.ReLU(self.conv2(x))\n",
        "    x = self.dropout(x)\n",
        "\n",
        "    x = x.view(x.size(0), -1)\n",
        "\n",
        "    x = self.ReLU(self.lin1(x))\n",
        "    x = self.dropout(x)\n",
        "\n",
        "    x = self.lin2(x)\n",
        "\n",
        "    return x\n",
        "\n"
      ]
    },
    {
      "cell_type": "code",
      "execution_count": 72,
      "metadata": {
        "id": "DI3QijHAEa7v",
        "colab": {
          "base_uri": "https://localhost:8080/"
        },
        "outputId": "3866e729-9790-4877-8199-9e5f9a180c10"
      },
      "outputs": [
        {
          "output_type": "stream",
          "name": "stderr",
          "text": [
            "/usr/local/lib/python3.7/dist-packages/ipykernel_launcher.py:23: UserWarning: nn.init.xavier_uniform is now deprecated in favor of nn.init.xavier_uniform_.\n",
            "/usr/local/lib/python3.7/dist-packages/ipykernel_launcher.py:24: UserWarning: nn.init.xavier_uniform is now deprecated in favor of nn.init.xavier_uniform_.\n",
            "/usr/local/lib/python3.7/dist-packages/ipykernel_launcher.py:25: UserWarning: nn.init.xavier_uniform is now deprecated in favor of nn.init.xavier_uniform_.\n",
            "/usr/local/lib/python3.7/dist-packages/ipykernel_launcher.py:26: UserWarning: nn.init.xavier_uniform is now deprecated in favor of nn.init.xavier_uniform_.\n"
          ]
        }
      ],
      "source": [
        "model = BaselineCnn()"
      ]
    },
    {
      "cell_type": "code",
      "execution_count": 73,
      "metadata": {
        "id": "Xb0vVEeTEa7w"
      },
      "outputs": [],
      "source": [
        "#Create Function To Evaluate The Trained Model when given a dataloader and a model\n",
        "def evall(dl, model):  \n",
        "    tot = 0\n",
        "    corr = 0\n",
        "    # for data in dataloader:\n",
        "    for batch in dl:\n",
        "        ip, op = batch\n",
        "        # inputs, labels = data\n",
        "        preds = model(ip)\n",
        "        #Get The Class With The Maximum Output Value\n",
        "        v, pred = torch.max(preds.data, 1)\n",
        "        #Increment The Number Of Samples Tested Against\n",
        "        # tot += labels.shape(0)\n",
        "        tot += op.size(0)\n",
        "        #Increment The Number Of Correctly Classified Samples\n",
        "        corr += (pred == op).sum().item()\n",
        "\n",
        "    acc = 100 * corr / tot\n",
        "    print('Accuracy:', acc, '%')\n",
        "    return acc\n",
        "\n",
        "def evaluation(dataloader, net):\n",
        "  total, correct = 0, 0\n",
        "  for data in dataloader:\n",
        "      inputs, labels = data\n",
        "      outputs = net(inputs)\n",
        "      _, pred = torch.max(outputs.data, 1)\n",
        "      total += labels.size(0)\n",
        "      correct += (pred == labels).sum().item()\n",
        "\n",
        "  print(correct,total)\n",
        "  return 100 * correct / total"
      ]
    },
    {
      "cell_type": "markdown",
      "metadata": {
        "id": "jpVPjz0jEa7x"
      },
      "source": [
        "## Training"
      ]
    },
    {
      "cell_type": "code",
      "execution_count": 74,
      "metadata": {
        "id": "6HJ2g6mmEa7x"
      },
      "outputs": [],
      "source": [
        "#Define The Loss Function, Training Optimizer and The Learning Rate Scheduler\n",
        "\n",
        "# The following sources were referred to for writing the code in the below cells\n",
        "\n",
        "# https://discuss.pytorch.org/t/performing-mini-batch-gradient-descent-or-stochastic-gradient-descent-on-a-mini-batch/21235/5\n",
        "\n",
        "# https://stackoverflow.com/questions/60050586/pytorch-change-the-learning-rate-based-on-number-of-epochs\n",
        "\n",
        "import torch.optim as optim\n",
        "\n",
        "#Define Start Leanring Rate and Momentum\n",
        "\n",
        "start_lr = 0.05\n",
        "momentum = 0.9\n",
        "\n",
        "loss_function = nn.CrossEntropyLoss()\n",
        "opti = optim.SGD(model.parameters(), lr = start_lr, momentum=momentum)\n",
        "\n",
        "#create the learning rate scheduler to change lr to 10% of lr every 10 epochs\n",
        "lrscheduler = optim.lr_scheduler.StepLR(opti, step_size=10, gamma = 0.1)"
      ]
    },
    {
      "cell_type": "code",
      "execution_count": 75,
      "metadata": {
        "id": "LX9G-qUjEa7x",
        "colab": {
          "base_uri": "https://localhost:8080/"
        },
        "outputId": "1374ccfa-1a75-44aa-81b3-50e18710174f"
      },
      "outputs": [
        {
          "output_type": "stream",
          "name": "stdout",
          "text": [
            "cuda:0\n"
          ]
        }
      ],
      "source": [
        "#Train on GPU\n",
        "dev = \"cuda:0\" if torch.cuda.is_available() else \"cpu\"\n",
        "td = torch.device(dev)\n",
        "print(td)"
      ]
    },
    {
      "cell_type": "code",
      "execution_count": 76,
      "metadata": {
        "id": "D3la13ohEa7x",
        "colab": {
          "base_uri": "https://localhost:8080/"
        },
        "outputId": "3cdf9b0a-0fae-42b9-f07a-64ce6326954d"
      },
      "outputs": [
        {
          "output_type": "stream",
          "name": "stdout",
          "text": [
            "Epoch Number: 0 lr: 0.05\n",
            "Accuracy: 77.55 %\n",
            "Accuracy: 78.5625 %\n",
            "0.7077416181564331 0.7077416181564331\n",
            "Epoch Number: 0/20, Validation Accuracy: 77.55, Train Accuracy: 78.5625, Training Loss: 0.6769473552703857, Validation Loss: 0.7077416181564331, Learning Rate: 0.05\n",
            "Accuracy: 81.8 %\n",
            "Accuracy: 82.20833333333333 %\n",
            "0.5942968130111694 0.7077416181564331\n",
            "Epoch Number: 1/20, Validation Accuracy: 81.8, Train Accuracy: 82.20833333333333, Training Loss: 0.5612779259681702, Validation Loss: 0.5942968130111694, Learning Rate: 0.05\n",
            "Accuracy: 84.40833333333333 %\n",
            "Accuracy: 85.42083333333333 %\n",
            "0.47413790225982666 0.5942968130111694\n",
            "Epoch Number: 2/20, Validation Accuracy: 84.40833333333333, Train Accuracy: 85.42083333333333, Training Loss: 0.46171247959136963, Validation Loss: 0.47413790225982666, Learning Rate: 0.05\n",
            "Accuracy: 82.51666666666667 %\n",
            "Accuracy: 82.53958333333334 %\n",
            "0.5782012343406677 0.47413790225982666\n",
            "Epoch Number: 3/20, Validation Accuracy: 82.51666666666667, Train Accuracy: 82.53958333333334, Training Loss: 0.549299418926239, Validation Loss: 0.5782012343406677, Learning Rate: 0.05\n",
            "Accuracy: 84.85833333333333 %\n",
            "Accuracy: 84.83125 %\n",
            "0.5065783858299255 0.47413790225982666\n",
            "Epoch Number: 4/20, Validation Accuracy: 84.85833333333333, Train Accuracy: 84.83125, Training Loss: 0.4884755313396454, Validation Loss: 0.5065783858299255, Learning Rate: 0.05\n",
            "Accuracy: 82.50833333333334 %\n",
            "Accuracy: 82.84375 %\n",
            "0.5845916271209717 0.47413790225982666\n",
            "Epoch Number: 5/20, Validation Accuracy: 82.50833333333334, Train Accuracy: 82.84375, Training Loss: 0.5851120352745056, Validation Loss: 0.5845916271209717, Learning Rate: 0.05\n",
            "Accuracy: 82.91666666666667 %\n",
            "Accuracy: 83.42291666666667 %\n",
            "0.5272802114486694 0.47413790225982666\n",
            "Epoch Number: 6/20, Validation Accuracy: 82.91666666666667, Train Accuracy: 83.42291666666667, Training Loss: 0.5242193937301636, Validation Loss: 0.5272802114486694, Learning Rate: 0.05\n",
            "Accuracy: 85.775 %\n",
            "Accuracy: 85.75416666666666 %\n",
            "0.48892447352409363 0.47413790225982666\n",
            "Epoch Number: 7/20, Validation Accuracy: 85.775, Train Accuracy: 85.75416666666666, Training Loss: 0.46699434518814087, Validation Loss: 0.48892447352409363, Learning Rate: 0.05\n",
            "Accuracy: 83.24166666666666 %\n",
            "Accuracy: 83.60833333333333 %\n",
            "0.5183329582214355 0.47413790225982666\n",
            "Epoch Number: 8/20, Validation Accuracy: 83.24166666666666, Train Accuracy: 83.60833333333333, Training Loss: 0.5078113675117493, Validation Loss: 0.5183329582214355, Learning Rate: 0.05\n",
            "Accuracy: 84.66666666666667 %\n",
            "Accuracy: 84.85 %\n",
            "0.5318887829780579 0.47413790225982666\n",
            "Epoch Number: 9/20, Validation Accuracy: 84.66666666666667, Train Accuracy: 84.85, Training Loss: 0.5233116149902344, Validation Loss: 0.5318887829780579, Learning Rate: 0.005000000000000001\n",
            "Epoch Number: 10 lr: 0.005000000000000001\n",
            "Accuracy: 89.20833333333333 %\n",
            "Accuracy: 89.58333333333333 %\n",
            "0.3496265411376953 0.47413790225982666\n",
            "Epoch Number: 10/20, Validation Accuracy: 89.20833333333333, Train Accuracy: 89.58333333333333, Training Loss: 0.334559828042984, Validation Loss: 0.3496265411376953, Learning Rate: 0.005000000000000001\n",
            "Accuracy: 89.675 %\n",
            "Accuracy: 89.72083333333333 %\n",
            "0.3439539074897766 0.3496265411376953\n",
            "Epoch Number: 11/20, Validation Accuracy: 89.675, Train Accuracy: 89.72083333333333, Training Loss: 0.3255811035633087, Validation Loss: 0.3439539074897766, Learning Rate: 0.005000000000000001\n",
            "Accuracy: 90.21666666666667 %\n",
            "Accuracy: 90.29791666666667 %\n",
            "0.31203144788742065 0.3439539074897766\n",
            "Epoch Number: 12/20, Validation Accuracy: 90.21666666666667, Train Accuracy: 90.29791666666667, Training Loss: 0.3029650151729584, Validation Loss: 0.31203144788742065, Learning Rate: 0.005000000000000001\n",
            "Accuracy: 90.575 %\n",
            "Accuracy: 90.54375 %\n",
            "0.3195311725139618 0.31203144788742065\n",
            "Epoch Number: 13/20, Validation Accuracy: 90.575, Train Accuracy: 90.54375, Training Loss: 0.2960071861743927, Validation Loss: 0.3195311725139618, Learning Rate: 0.005000000000000001\n",
            "Early Stopping Implemented at epoch 13\n"
          ]
        }
      ],
      "source": [
        "# loss_arr = []\n",
        "\n",
        "tbs = int(60000*0.8)\n",
        "vbs = int(60000*0.2)\n",
        "tdl = DataLoader(train_data, batch_size=tbs, sampler=tr_sampler)\n",
        "vdl = torch.utils.data.DataLoader(train_data, batch_size=vbs, sampler=val_sampler)\n",
        "\n",
        "\n",
        "epoch_tr_losses = []\n",
        "epoch_val_losses = []\n",
        "epoch_val_accs = []\n",
        "epoch_tr_accs = []\n",
        "max_epochs = 20\n",
        "\n",
        "#Define Early Stopping Patience - here 2 epochs\n",
        "es_patience_count = 8\n",
        "es_count = 0\n",
        "\n",
        "\n",
        "for epoch in range(max_epochs):\n",
        "\n",
        "    for data in train_loader:\n",
        "\n",
        "        ip, op = data\n",
        "\n",
        "        opti.zero_grad()\n",
        "\n",
        "        preds = model(ip)\n",
        "\n",
        "        loss = loss_function(preds, op)\n",
        "        loss.backward()\n",
        "        opti.step()\n",
        "        \n",
        "    lrscheduler.step()\n",
        "\n",
        "    for td in tdl:\n",
        "      tr_ip, tr_op = td\n",
        "      tr_preds = model(tr_ip)\n",
        "      lt = loss_function(tr_preds, tr_op)\n",
        "      epoch_tr_losses.append(lt.item())\n",
        "\n",
        "    for vd in vdl:\n",
        "      val_ip, val_op = vd\n",
        "      val_preds = model(val_ip)\n",
        "      lt = loss_function(val_preds, val_op)\n",
        "      epoch_val_losses.append(lt.item())\n",
        "        \n",
        "    if epoch % 10 == 0:\n",
        "      print(f\"Epoch Number: {epoch} lr: {opti.param_groups[0]['lr']}\")\n",
        "\n",
        "    val_acc = evall(valid_loader, model)\n",
        "    tr_acc = evall(train_loader, model)\n",
        "\n",
        "    epoch_val_accs.append(val_acc)\n",
        "    epoch_tr_accs.append(tr_acc)\n",
        "\n",
        "    #Early Stopping based on vaidation acc\n",
        "\n",
        "    if epoch == 0:\n",
        "      best_loss = epoch_val_losses[0]\n",
        "    print(epoch_val_losses[epoch] , best_loss)\n",
        "\n",
        "    if epoch_val_losses[epoch] < best_loss:\n",
        "      best_loss = epoch_val_losses[epoch]\n",
        "      #save current model\n",
        "      torch.save(model, 'best_model.pth')\n",
        "    else:\n",
        "      es_count += 1\n",
        "\n",
        "    print(f\"Epoch Number: {epoch}/{max_epochs}, Validation Accuracy: {val_acc}, Train Accuracy: {tr_acc}, Training Loss: {epoch_tr_losses[epoch]}, Validation Loss: {epoch_val_losses[epoch]}, Learning Rate: {opti.param_groups[0]['lr']}\")\n",
        "\n",
        "    #Implement Early Stopping\n",
        "    if es_count > es_patience_count:\n",
        "      print(f'Early Stopping Implemented at epoch {epoch}')\n",
        "      break"
      ]
    },
    {
      "cell_type": "code",
      "execution_count": 77,
      "metadata": {
        "id": "-qB6JeiNEa7x",
        "colab": {
          "base_uri": "https://localhost:8080/",
          "height": 295
        },
        "outputId": "5760af56-7a7e-4b82-e7ca-767f32741029"
      },
      "outputs": [
        {
          "output_type": "display_data",
          "data": {
            "text/plain": [
              "<Figure size 432x288 with 1 Axes>"
            ],
            "image/png": "[encoded data removed]"
          },
          "metadata": {
            "needs_background": "light"
          }
        }
      ],
      "source": [
        "#Plot Learning Curves\n",
        "import matplotlib.pyplot as plt\n",
        "plt.plot(epoch_tr_losses, label = 'Training Loss')\n",
        "plt.plot(epoch_val_losses, label = 'Validation Loss')\n",
        "plt.title('Learning Curve')\n",
        "plt.xlabel('Epoch')\n",
        "plt.ylabel('Loss')\n",
        "plt.legend()\n",
        "plt.show()"
      ]
    },
    {
      "cell_type": "code",
      "execution_count": 78,
      "metadata": {
        "id": "0RUPEcjzEa7x",
        "colab": {
          "base_uri": "https://localhost:8080/"
        },
        "outputId": "6bd28d05-df30-408c-a618-db69c18a0ed5"
      },
      "outputs": [
        {
          "output_type": "stream",
          "name": "stdout",
          "text": [
            "Accuracy: 91.07 %\n"
          ]
        },
        {
          "output_type": "execute_result",
          "data": {
            "text/plain": [
              "91.07"
            ]
          },
          "metadata": {},
          "execution_count": 78
        }
      ],
      "source": [
        "evall(test_loader, model)"
      ]
    },
    {
      "cell_type": "code",
      "execution_count": 79,
      "metadata": {
        "id": "5trwLK48Ea7x"
      },
      "outputs": [],
      "source": [
        "from sklearn.metrics import confusion_matrix\n",
        "from sklearn.metrics import ConfusionMatrixDisplay\n",
        "import matplotlib.pyplot as plt\n",
        "\n",
        "def cal_confusion_matrix(dl, model):\n",
        "    preds = torch.empty((0))\n",
        "    labels = torch.empty((0))\n",
        "    for batch in dl:\n",
        "        ip, op = batch\n",
        "        pred = model(ip)\n",
        "        #Get The Class With The Maximum Output Value\n",
        "        v, pred = torch.max(pred.data, 1)\n",
        "        #Increment The Number Of Samples Tested Against\n",
        "        #Increment The Number Of Correctly Classified Samples\n",
        "        preds = torch.cat((preds, pred))\n",
        "        labels = torch.cat((labels, op))\n",
        "    \n",
        "    ConfusionMatrixDisplay.from_predictions(labels, preds)\n",
        "    plt.show()"
      ]
    },
    {
      "cell_type": "code",
      "execution_count": 80,
      "metadata": {
        "id": "BuNjBuB9Ea7x",
        "colab": {
          "base_uri": "https://localhost:8080/",
          "height": 279
        },
        "outputId": "50d7de33-4c2d-4ee8-dfcd-0845e48c75a6"
      },
      "outputs": [
        {
          "output_type": "display_data",
          "data": {
            "text/plain": [
              "<Figure size 432x288 with 2 Axes>"
            ],
            "image/png": "[encoded data removed]"
          },
          "metadata": {
            "needs_background": "light"
          }
        }
      ],
      "source": [
        "cal_confusion_matrix(test_loader, model)\n"
      ]
    },
    {
      "cell_type": "markdown",
      "metadata": {
        "id": "-xUPzcxFEzxs"
      },
      "source": [
        "# Dropout = 0.75"
      ]
    },
    {
      "cell_type": "markdown",
      "metadata": {
        "id": "ymoOTtItEzxs"
      },
      "source": [
        "## Modelling"
      ]
    },
    {
      "cell_type": "code",
      "execution_count": 81,
      "metadata": {
        "id": "h60-qFsNEzxt"
      },
      "outputs": [],
      "source": [
        "#Define Model Architecture with Dropout\n",
        "import torch.nn as nn \n",
        "\n",
        "# The following sources were referred to for writing the code in the below cells\n",
        "\n",
        "# https://androidkt.com/initialize-weight-bias-pytorch/\n",
        "\n",
        "# https://wandb.ai/authors/ayusht/reports/Implementing-Dropout-in-PyTorch-With-Example--VmlldzoxNTgwOTE\n",
        "\n",
        "class BaselineCnn(nn.Module):\n",
        "  def __init__(self):\n",
        "    super(BaselineCnn, self).__init__()\n",
        "\n",
        "    #Define Layers\n",
        "    self.conv1 = nn.Conv2d(1,12,8)\n",
        "    self.conv2 = nn.Conv2d(12,12,4)\n",
        "    self.lin1 = nn.Linear(3888,30)\n",
        "    self.lin2 = nn.Linear(30, 10)\n",
        "    self.ReLU = nn.ReLU()\n",
        "\n",
        "    self.dropout = nn.Dropout(0.75)\n",
        "\n",
        "    nn.init.xavier_uniform(self.conv1.weight)\n",
        "    nn.init.xavier_uniform(self.conv2.weight)\n",
        "    nn.init.xavier_uniform(self.lin1.weight)\n",
        "    nn.init.xavier_uniform(self.lin2.weight)\n",
        "\n",
        "    #Add Convolutional Layers\n",
        "    self.cnn_layers = nn.Sequential(\n",
        "        self.conv1,\n",
        "        nn.ReLU(),\n",
        "        self.conv2,\n",
        "        nn.ReLU()\n",
        "    )\n",
        "\n",
        "    #Add Fully Connected Layers\n",
        "    self.fc_layers = nn.Sequential(\n",
        "        self.lin1,\n",
        "        nn.ReLU(),\n",
        "        self.lin2\n",
        "    )\n",
        "\n",
        "  \n",
        "\n",
        "  #Define Forward Path\n",
        "  def forward(self, x):\n",
        "\n",
        "    x = self.ReLU(self.conv1(x))\n",
        "    x = self.dropout(x)\n",
        "\n",
        "    x = self.ReLU(self.conv2(x))\n",
        "    x = self.dropout(x)\n",
        "\n",
        "    x = x.view(x.size(0), -1)\n",
        "\n",
        "    x = self.ReLU(self.lin1(x))\n",
        "    x = self.dropout(x)\n",
        "\n",
        "    x = self.lin2(x)\n",
        "\n",
        "\n",
        "    return x\n",
        "\n"
      ]
    },
    {
      "cell_type": "code",
      "execution_count": 82,
      "metadata": {
        "id": "O_30TmaKEzxt",
        "colab": {
          "base_uri": "https://localhost:8080/"
        },
        "outputId": "c79d01db-b851-4f06-ed38-7809dc41f7f2"
      },
      "outputs": [
        {
          "output_type": "stream",
          "name": "stderr",
          "text": [
            "/usr/local/lib/python3.7/dist-packages/ipykernel_launcher.py:23: UserWarning: nn.init.xavier_uniform is now deprecated in favor of nn.init.xavier_uniform_.\n",
            "/usr/local/lib/python3.7/dist-packages/ipykernel_launcher.py:24: UserWarning: nn.init.xavier_uniform is now deprecated in favor of nn.init.xavier_uniform_.\n",
            "/usr/local/lib/python3.7/dist-packages/ipykernel_launcher.py:25: UserWarning: nn.init.xavier_uniform is now deprecated in favor of nn.init.xavier_uniform_.\n",
            "/usr/local/lib/python3.7/dist-packages/ipykernel_launcher.py:26: UserWarning: nn.init.xavier_uniform is now deprecated in favor of nn.init.xavier_uniform_.\n"
          ]
        }
      ],
      "source": [
        "model = BaselineCnn()"
      ]
    },
    {
      "cell_type": "code",
      "execution_count": 83,
      "metadata": {
        "id": "vVylQNVjEzxt"
      },
      "outputs": [],
      "source": [
        "#Create Function To Evaluate The Trained Model when given a dataloader and a model\n",
        "def evall(dl, model):  \n",
        "    tot = 0\n",
        "    corr = 0\n",
        "    # for data in dataloader:\n",
        "    for batch in dl:\n",
        "        ip, op = batch\n",
        "        # inputs, labels = data\n",
        "        preds = model(ip)\n",
        "        #Get The Class With The Maximum Output Value\n",
        "        v, pred = torch.max(preds.data, 1)\n",
        "        #Increment The Number Of Samples Tested Against\n",
        "        # tot += labels.shape(0)\n",
        "        tot += op.size(0)\n",
        "        #Increment The Number Of Correctly Classified Samples\n",
        "        corr += (pred == op).sum().item()\n",
        "\n",
        "    acc = 100 * corr / tot\n",
        "    print('Accuracy:', acc, '%')\n",
        "    return acc\n",
        "\n",
        "def evaluation(dataloader, net):\n",
        "  total, correct = 0, 0\n",
        "  for data in dataloader:\n",
        "      inputs, labels = data\n",
        "      outputs = net(inputs)\n",
        "      _, pred = torch.max(outputs.data, 1)\n",
        "      total += labels.size(0)\n",
        "      correct += (pred == labels).sum().item()\n",
        "\n",
        "  print(correct,total)\n",
        "  return 100 * correct / total"
      ]
    },
    {
      "cell_type": "markdown",
      "metadata": {
        "id": "PAnQVwbCEzxt"
      },
      "source": [
        "## Training"
      ]
    },
    {
      "cell_type": "code",
      "execution_count": 84,
      "metadata": {
        "id": "vBj-GnumEzxt"
      },
      "outputs": [],
      "source": [
        "#Define The Loss Function, Training Optimizer and The Learning Rate Scheduler\n",
        "\n",
        "# The following sources were referred to for writing the code in the below cells\n",
        "\n",
        "# https://discuss.pytorch.org/t/performing-mini-batch-gradient-descent-or-stochastic-gradient-descent-on-a-mini-batch/21235/5\n",
        "\n",
        "# https://stackoverflow.com/questions/60050586/pytorch-change-the-learning-rate-based-on-number-of-epochs\n",
        "\n",
        "import torch.optim as optim\n",
        "\n",
        "#Define Start Leanring Rate and Momentum\n",
        "\n",
        "start_lr = 0.05\n",
        "momentum = 0.9\n",
        "\n",
        "loss_function = nn.CrossEntropyLoss()\n",
        "opti = optim.SGD(model.parameters(), lr = start_lr, momentum=momentum)\n",
        "\n",
        "#create the learning rate scheduler to change lr to 10% of lr every 10 epochs\n",
        "lrscheduler = optim.lr_scheduler.StepLR(opti, step_size=10, gamma = 0.1)"
      ]
    },
    {
      "cell_type": "code",
      "execution_count": 85,
      "metadata": {
        "id": "BiV7qlRPEzxu",
        "colab": {
          "base_uri": "https://localhost:8080/"
        },
        "outputId": "08bc36b9-d37b-429e-e5f1-7eba69a9fa02"
      },
      "outputs": [
        {
          "output_type": "stream",
          "name": "stdout",
          "text": [
            "cuda:0\n"
          ]
        }
      ],
      "source": [
        "#Train on GPU\n",
        "dev = \"cuda:0\" if torch.cuda.is_available() else \"cpu\"\n",
        "td = torch.device(dev)\n",
        "print(td)"
      ]
    },
    {
      "cell_type": "code",
      "execution_count": 86,
      "metadata": {
        "id": "pbivQDrUEzxu",
        "colab": {
          "base_uri": "https://localhost:8080/"
        },
        "outputId": "4d5fc58c-f637-4164-f605-e6c0ce5d62af"
      },
      "outputs": [
        {
          "output_type": "stream",
          "name": "stdout",
          "text": [
            "Epoch Number: 0 lr: 0.05\n",
            "Accuracy: 11.233333333333333 %\n",
            "Accuracy: 11.2375 %\n",
            "2.302612543106079 2.302612543106079\n",
            "Epoch Number: 0/20, Validation Accuracy: 11.233333333333333, Train Accuracy: 11.2375, Training Loss: 2.302615165710449, Validation Loss: 2.302612543106079, Learning Rate: 0.05\n",
            "Accuracy: 11.233333333333333 %\n",
            "Accuracy: 11.2375 %\n",
            "2.3021695613861084 2.302612543106079\n",
            "Epoch Number: 1/20, Validation Accuracy: 11.233333333333333, Train Accuracy: 11.2375, Training Loss: 2.3021647930145264, Validation Loss: 2.3021695613861084, Learning Rate: 0.05\n",
            "Accuracy: 11.233333333333333 %\n",
            "Accuracy: 11.2375 %\n",
            "2.3028628826141357 2.3021695613861084\n",
            "Epoch Number: 2/20, Validation Accuracy: 11.233333333333333, Train Accuracy: 11.2375, Training Loss: 2.302863359451294, Validation Loss: 2.3028628826141357, Learning Rate: 0.05\n",
            "Accuracy: 11.233333333333333 %\n",
            "Accuracy: 11.2375 %\n",
            "2.3028035163879395 2.3021695613861084\n",
            "Epoch Number: 3/20, Validation Accuracy: 11.233333333333333, Train Accuracy: 11.2375, Training Loss: 2.302798271179199, Validation Loss: 2.3028035163879395, Learning Rate: 0.05\n",
            "Accuracy: 10.441666666666666 %\n",
            "Accuracy: 10.441666666666666 %\n",
            "2.3023934364318848 2.3021695613861084\n",
            "Epoch Number: 4/20, Validation Accuracy: 10.441666666666666, Train Accuracy: 10.441666666666666, Training Loss: 2.302401065826416, Validation Loss: 2.3023934364318848, Learning Rate: 0.05\n",
            "Accuracy: 11.233333333333333 %\n",
            "Accuracy: 11.2375 %\n",
            "2.3017094135284424 2.3021695613861084\n",
            "Epoch Number: 5/20, Validation Accuracy: 11.233333333333333, Train Accuracy: 11.2375, Training Loss: 2.301706552505493, Validation Loss: 2.3017094135284424, Learning Rate: 0.05\n",
            "Accuracy: 10.441666666666666 %\n",
            "Accuracy: 10.441666666666666 %\n",
            "2.303652048110962 2.3017094135284424\n",
            "Epoch Number: 6/20, Validation Accuracy: 10.441666666666666, Train Accuracy: 10.441666666666666, Training Loss: 2.303652286529541, Validation Loss: 2.303652048110962, Learning Rate: 0.05\n",
            "Accuracy: 11.233333333333333 %\n",
            "Accuracy: 11.2375 %\n",
            "2.3014681339263916 2.3017094135284424\n",
            "Epoch Number: 7/20, Validation Accuracy: 11.233333333333333, Train Accuracy: 11.2375, Training Loss: 2.3014605045318604, Validation Loss: 2.3014681339263916, Learning Rate: 0.05\n",
            "Accuracy: 11.233333333333333 %\n",
            "Accuracy: 11.2375 %\n",
            "2.3030142784118652 2.3014681339263916\n",
            "Epoch Number: 8/20, Validation Accuracy: 11.233333333333333, Train Accuracy: 11.2375, Training Loss: 2.303011894226074, Validation Loss: 2.3030142784118652, Learning Rate: 0.05\n",
            "Accuracy: 11.233333333333333 %\n",
            "Accuracy: 11.2375 %\n",
            "2.301823139190674 2.3014681339263916\n",
            "Epoch Number: 9/20, Validation Accuracy: 11.233333333333333, Train Accuracy: 11.2375, Training Loss: 2.3018131256103516, Validation Loss: 2.301823139190674, Learning Rate: 0.005000000000000001\n",
            "Epoch Number: 10 lr: 0.005000000000000001\n",
            "Accuracy: 11.233333333333333 %\n",
            "Accuracy: 11.2375 %\n",
            "2.301234245300293 2.3014681339263916\n",
            "Epoch Number: 10/20, Validation Accuracy: 11.233333333333333, Train Accuracy: 11.2375, Training Loss: 2.30123233795166, Validation Loss: 2.301234245300293, Learning Rate: 0.005000000000000001\n",
            "Accuracy: 11.233333333333333 %\n",
            "Accuracy: 11.2375 %\n",
            "2.30123233795166 2.301234245300293\n",
            "Epoch Number: 11/20, Validation Accuracy: 11.233333333333333, Train Accuracy: 11.2375, Training Loss: 2.3012313842773438, Validation Loss: 2.30123233795166, Learning Rate: 0.005000000000000001\n",
            "Accuracy: 11.233333333333333 %\n",
            "Accuracy: 11.2375 %\n",
            "2.3013105392456055 2.30123233795166\n",
            "Epoch Number: 12/20, Validation Accuracy: 11.233333333333333, Train Accuracy: 11.2375, Training Loss: 2.3013062477111816, Validation Loss: 2.3013105392456055, Learning Rate: 0.005000000000000001\n",
            "Accuracy: 11.233333333333333 %\n",
            "Accuracy: 11.2375 %\n",
            "2.3012468814849854 2.30123233795166\n",
            "Epoch Number: 13/20, Validation Accuracy: 11.233333333333333, Train Accuracy: 11.2375, Training Loss: 2.3012452125549316, Validation Loss: 2.3012468814849854, Learning Rate: 0.005000000000000001\n",
            "Early Stopping Implemented at epoch 13\n"
          ]
        }
      ],
      "source": [
        "# loss_arr = []\n",
        "\n",
        "tbs = int(60000*0.8)\n",
        "vbs = int(60000*0.2)\n",
        "tdl = DataLoader(train_data, batch_size=tbs, sampler=tr_sampler)\n",
        "vdl = torch.utils.data.DataLoader(train_data, batch_size=vbs, sampler=val_sampler)\n",
        "\n",
        "\n",
        "epoch_tr_losses = []\n",
        "epoch_val_losses = []\n",
        "epoch_val_accs = []\n",
        "epoch_tr_accs = []\n",
        "max_epochs = 20\n",
        "\n",
        "#Define Early Stopping Patience - here 2 epochs\n",
        "es_patience_count = 8\n",
        "es_count = 0\n",
        "\n",
        "\n",
        "for epoch in range(max_epochs):\n",
        "\n",
        "    for data in train_loader:\n",
        "\n",
        "        ip, op = data\n",
        "\n",
        "        opti.zero_grad()\n",
        "\n",
        "        preds = model(ip)\n",
        "\n",
        "        loss = loss_function(preds, op)\n",
        "        loss.backward()\n",
        "        opti.step()\n",
        "        \n",
        "    lrscheduler.step()\n",
        "\n",
        "    for td in tdl:\n",
        "      tr_ip, tr_op = td\n",
        "      tr_preds = model(tr_ip)\n",
        "      lt = loss_function(tr_preds, tr_op)\n",
        "      epoch_tr_losses.append(lt.item())\n",
        "\n",
        "    for vd in vdl:\n",
        "      val_ip, val_op = vd\n",
        "      val_preds = model(val_ip)\n",
        "      lt = loss_function(val_preds, val_op)\n",
        "      epoch_val_losses.append(lt.item())\n",
        "        \n",
        "    if epoch % 10 == 0:\n",
        "      print(f\"Epoch Number: {epoch} lr: {opti.param_groups[0]['lr']}\")\n",
        "\n",
        "    val_acc = evall(valid_loader, model)\n",
        "    tr_acc = evall(train_loader, model)\n",
        "\n",
        "    epoch_val_accs.append(val_acc)\n",
        "    epoch_tr_accs.append(tr_acc)\n",
        "\n",
        "    #Early Stopping based on vaidation acc\n",
        "\n",
        "    if epoch == 0:\n",
        "      best_loss = epoch_val_losses[0]\n",
        "    print(epoch_val_losses[epoch] , best_loss)\n",
        "\n",
        "    if epoch_val_losses[epoch] < best_loss:\n",
        "      best_loss = epoch_val_losses[epoch]\n",
        "      #save current model\n",
        "      torch.save(model, 'best_model.pth')\n",
        "    else:\n",
        "      es_count += 1\n",
        "\n",
        "    print(f\"Epoch Number: {epoch}/{max_epochs}, Validation Accuracy: {val_acc}, Train Accuracy: {tr_acc}, Training Loss: {epoch_tr_losses[epoch]}, Validation Loss: {epoch_val_losses[epoch]}, Learning Rate: {opti.param_groups[0]['lr']}\")\n",
        "\n",
        "    #Implement Early Stopping\n",
        "    if es_count > es_patience_count:\n",
        "      print(f'Early Stopping Implemented at epoch {epoch}')\n",
        "      break"
      ]
    },
    {
      "cell_type": "code",
      "execution_count": 87,
      "metadata": {
        "id": "HmjRBaYoEzxu",
        "colab": {
          "base_uri": "https://localhost:8080/",
          "height": 295
        },
        "outputId": "3d9efa15-de7a-44f4-ba6c-844dc517a35f"
      },
      "outputs": [
        {
          "output_type": "display_data",
          "data": {
            "text/plain": [
              "<Figure size 432x288 with 1 Axes>"
            ],
            "image/png": "[encoded data removed]"
          },
          "metadata": {
            "needs_background": "light"
          }
        }
      ],
      "source": [
        "#Plot Learning Curves\n",
        "import matplotlib.pyplot as plt\n",
        "plt.plot(epoch_tr_losses, label = 'Training Loss')\n",
        "plt.plot(epoch_val_losses, label = 'Validation Loss')\n",
        "plt.title('Learning Curve')\n",
        "plt.xlabel('Epoch')\n",
        "plt.ylabel('Loss')\n",
        "plt.legend()\n",
        "plt.show()"
      ]
    },
    {
      "cell_type": "code",
      "execution_count": 88,
      "metadata": {
        "id": "vMaTLNDHEzxu",
        "colab": {
          "base_uri": "https://localhost:8080/"
        },
        "outputId": "e951453f-825d-48c5-90e7-ae5dc494048b"
      },
      "outputs": [
        {
          "output_type": "stream",
          "name": "stdout",
          "text": [
            "Accuracy: 11.35 %\n"
          ]
        },
        {
          "output_type": "execute_result",
          "data": {
            "text/plain": [
              "11.35"
            ]
          },
          "metadata": {},
          "execution_count": 88
        }
      ],
      "source": [
        "evall(test_loader, model)"
      ]
    },
    {
      "cell_type": "code",
      "execution_count": 89,
      "metadata": {
        "id": "j45ZF7TVEzxu"
      },
      "outputs": [],
      "source": [
        "from sklearn.metrics import confusion_matrix\n",
        "from sklearn.metrics import ConfusionMatrixDisplay\n",
        "import matplotlib.pyplot as plt\n",
        "\n",
        "def cal_confusion_matrix(dl, model):\n",
        "    preds = torch.empty((0))\n",
        "    labels = torch.empty((0))\n",
        "    for batch in dl:\n",
        "        ip, op = batch\n",
        "        pred = model(ip)\n",
        "        #Get The Class With The Maximum Output Value\n",
        "        v, pred = torch.max(pred.data, 1)\n",
        "        #Increment The Number Of Samples Tested Against\n",
        "        #Increment The Number Of Correctly Classified Samples\n",
        "        preds = torch.cat((preds, pred))\n",
        "        labels = torch.cat((labels, op))\n",
        "    \n",
        "    ConfusionMatrixDisplay.from_predictions(labels, preds)\n",
        "    plt.show()"
      ]
    },
    {
      "cell_type": "code",
      "execution_count": 90,
      "metadata": {
        "id": "q6_v3WsQEzxu",
        "colab": {
          "base_uri": "https://localhost:8080/",
          "height": 279
        },
        "outputId": "8ce071c7-dacb-499d-988c-64a0c28c6e31"
      },
      "outputs": [
        {
          "output_type": "display_data",
          "data": {
            "text/plain": [
              "<Figure size 432x288 with 2 Axes>"
            ],
            "image/png": "[encoded data removed]"
          },
          "metadata": {
            "needs_background": "light"
          }
        }
      ],
      "source": [
        "cal_confusion_matrix(test_loader, model)\n"
      ]
    },
    {
      "cell_type": "markdown",
      "source": [
        "## Results Dicussion\n",
        "\n",
        "We can see that adding dropout has increased the time required by the model to reach a similar accuracy as before but it can be observed in the learning curves that the gap between the trainnig and validation loss has also decreased showing that dropout has a regularization effect. For a dropout of 0.25 the model converges after 12 epochs and reaches a final testing accuracy of 97%. Increasing the dropout, we notice  that the model now reaches a lower test accuracy of 91% after about 12 epochs but the gap between the training and validation loss has decreased even more. Finally, a dropout of 0.75 as expected makes it even more difficult to converge, with the model learning very slowly initially and reaching a test accuracy of just 11.35% after around 12 epochs. We stop the training after this point due to computational constraints. Therefore, we can observe that dropout aids in regularization but increases the time required by the model to converge and also, a higher dropout can make it very difficult for the model to learn anything."
      ],
      "metadata": {
        "id": "H8NFEBwJl4-O"
      }
    },
    {
      "cell_type": "markdown",
      "source": [
        "# References\n",
        "\n",
        "Therefore the following sources were referred to for this assignment (Mentioning all the sources at one place again):\n",
        "\n",
        "- https://pytorch.org/docs/stable/index.html\n",
        "\n",
        "- https://scikit-learn.org/0.21/documentation.html\n",
        "\n",
        "- https://discuss.pytorch.org/t/how-to-do-a-stratified-split/62290\n",
        "\n",
        "- https://github.com/satyajitghana/PadhAI-Course/blob/master/colab-notebooks/16_PyTorchCNN.ipynb\n",
        "\n",
        "- https://androidkt.com/initialize-weight-bias-pytorch/\n",
        "\n",
        "- https://wandb.ai/authors/ayusht/reports/Implementing-Dropout-in-PyTorch-With-Example--VmlldzoxNTgwOTE\n",
        "\n",
        "- https://discuss.pytorch.org/t/performing-mini-batch-gradient-descent-or-stochastic-gradient-descent-on-a-mini-batch/21235/5\n",
        "\n",
        "- https://stackoverflow.com/questions/60050586/pytorch-change-the-learning-rate-based-on-number-of-epochs\n",
        "\n",
        "\n",
        "\n"
      ],
      "metadata": {
        "id": "ZJFTgs-TJ4id"
      }
    }
  ],
  "metadata": {
    "accelerator": "GPU",
    "colab": {
      "collapsed_sections": [],
      "machine_shape": "hm",
      "name": "baseline-dropout.ipynb",
      "provenance": [],
      "toc_visible": true
    },
    "kernelspec": {
      "display_name": "Python 3",
      "name": "python3"
    },
    "language_info": {
      "name": "python"
    }
  },
  "nbformat": 4,
  "nbformat_minor": 0
}